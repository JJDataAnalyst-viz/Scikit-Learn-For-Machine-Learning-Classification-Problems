{
 "cells": [
  {
   "cell_type": "code",
   "execution_count": 1,
   "id": "79c20a67",
   "metadata": {
    "_cell_guid": "b1076dfc-b9ad-4769-8c92-a6c4dae69d19",
    "_uuid": "8f2839f25d086af736a60e9eeb907d3b93b6e0e5",
    "execution": {
     "iopub.execute_input": "2024-04-21T12:48:33.645372Z",
     "iopub.status.busy": "2024-04-21T12:48:33.644635Z",
     "iopub.status.idle": "2024-04-21T12:48:35.976488Z",
     "shell.execute_reply": "2024-04-21T12:48:35.974921Z"
    },
    "papermill": {
     "duration": 2.361467,
     "end_time": "2024-04-21T12:48:35.979019",
     "exception": false,
     "start_time": "2024-04-21T12:48:33.617552",
     "status": "completed"
    },
    "tags": []
   },
   "outputs": [
    {
     "name": "stdout",
     "output_type": "stream",
     "text": [
      "/kaggle/input/titanic-proper-dataset/train.csv\n",
      "/kaggle/input/titanic-proper-dataset/test.csv\n",
      "/kaggle/input/titanic-proper-dataset/gender_submission.csv\n",
      "/kaggle/input/titanic/tested.csv\n",
      "/kaggle/input/diabetes-and-cardio-for-ml/cardio_train.csv\n",
      "/kaggle/input/diabetes-and-cardio-for-ml/diabetes.csv\n"
     ]
    }
   ],
   "source": [
    "import numpy as np \n",
    "import pandas as pd \n",
    "import matplotlib.pyplot as plt\n",
    "import seaborn as sns\n",
    "from pandas.plotting import scatter_matrix\n",
    "%matplotlib inline\n",
    "\n",
    "import os\n",
    "for dirname, _, filenames in os.walk('/kaggle/input'):\n",
    "    for filename in filenames:\n",
    "        print(os.path.join(dirname, filename))\n"
   ]
  },
  {
   "cell_type": "code",
   "execution_count": 2,
   "id": "a0cca772",
   "metadata": {
    "execution": {
     "iopub.execute_input": "2024-04-21T12:48:36.027481Z",
     "iopub.status.busy": "2024-04-21T12:48:36.026994Z",
     "iopub.status.idle": "2024-04-21T12:48:36.031781Z",
     "shell.execute_reply": "2024-04-21T12:48:36.030602Z"
    },
    "papermill": {
     "duration": 0.032061,
     "end_time": "2024-04-21T12:48:36.034110",
     "exception": false,
     "start_time": "2024-04-21T12:48:36.002049",
     "status": "completed"
    },
    "tags": []
   },
   "outputs": [],
   "source": [
    "cardio = '/kaggle/input/diabetes-and-cardio-for-ml/cardio_train.csv'\n",
    "diabetes = '/kaggle/input/diabetes-and-cardio-for-ml/diabetes.csv'"
   ]
  },
  {
   "cell_type": "code",
   "execution_count": 3,
   "id": "a571c577",
   "metadata": {
    "execution": {
     "iopub.execute_input": "2024-04-21T12:48:36.081583Z",
     "iopub.status.busy": "2024-04-21T12:48:36.080315Z",
     "iopub.status.idle": "2024-04-21T12:48:36.230848Z",
     "shell.execute_reply": "2024-04-21T12:48:36.229614Z"
    },
    "papermill": {
     "duration": 0.177378,
     "end_time": "2024-04-21T12:48:36.233948",
     "exception": false,
     "start_time": "2024-04-21T12:48:36.056570",
     "status": "completed"
    },
    "tags": []
   },
   "outputs": [],
   "source": [
    "df_cardio = pd.read_csv(cardio, sep=';')"
   ]
  },
  {
   "cell_type": "markdown",
   "id": "607d5e7f",
   "metadata": {
    "papermill": {
     "duration": 0.022796,
     "end_time": "2024-04-21T12:48:36.280292",
     "exception": false,
     "start_time": "2024-04-21T12:48:36.257496",
     "status": "completed"
    },
    "tags": []
   },
   "source": [
    "# Perform EDA in Python"
   ]
  },
  {
   "cell_type": "code",
   "execution_count": 4,
   "id": "408b8002",
   "metadata": {
    "execution": {
     "iopub.execute_input": "2024-04-21T12:48:36.327638Z",
     "iopub.status.busy": "2024-04-21T12:48:36.327263Z",
     "iopub.status.idle": "2024-04-21T12:48:36.353923Z",
     "shell.execute_reply": "2024-04-21T12:48:36.353053Z"
    },
    "papermill": {
     "duration": 0.052361,
     "end_time": "2024-04-21T12:48:36.356283",
     "exception": false,
     "start_time": "2024-04-21T12:48:36.303922",
     "status": "completed"
    },
    "tags": []
   },
   "outputs": [
    {
     "data": {
      "text/html": [
       "<div>\n",
       "<style scoped>\n",
       "    .dataframe tbody tr th:only-of-type {\n",
       "        vertical-align: middle;\n",
       "    }\n",
       "\n",
       "    .dataframe tbody tr th {\n",
       "        vertical-align: top;\n",
       "    }\n",
       "\n",
       "    .dataframe thead th {\n",
       "        text-align: right;\n",
       "    }\n",
       "</style>\n",
       "<table border=\"1\" class=\"dataframe\">\n",
       "  <thead>\n",
       "    <tr style=\"text-align: right;\">\n",
       "      <th></th>\n",
       "      <th>id</th>\n",
       "      <th>age</th>\n",
       "      <th>gender</th>\n",
       "      <th>height</th>\n",
       "      <th>weight</th>\n",
       "      <th>ap_hi</th>\n",
       "      <th>ap_lo</th>\n",
       "      <th>cholesterol</th>\n",
       "      <th>gluc</th>\n",
       "      <th>smoke</th>\n",
       "      <th>alco</th>\n",
       "      <th>active</th>\n",
       "      <th>cardio</th>\n",
       "    </tr>\n",
       "  </thead>\n",
       "  <tbody>\n",
       "    <tr>\n",
       "      <th>69995</th>\n",
       "      <td>99993</td>\n",
       "      <td>19240</td>\n",
       "      <td>2</td>\n",
       "      <td>168</td>\n",
       "      <td>76.0</td>\n",
       "      <td>120</td>\n",
       "      <td>80</td>\n",
       "      <td>1</td>\n",
       "      <td>1</td>\n",
       "      <td>1</td>\n",
       "      <td>0</td>\n",
       "      <td>1</td>\n",
       "      <td>0</td>\n",
       "    </tr>\n",
       "    <tr>\n",
       "      <th>69996</th>\n",
       "      <td>99995</td>\n",
       "      <td>22601</td>\n",
       "      <td>1</td>\n",
       "      <td>158</td>\n",
       "      <td>126.0</td>\n",
       "      <td>140</td>\n",
       "      <td>90</td>\n",
       "      <td>2</td>\n",
       "      <td>2</td>\n",
       "      <td>0</td>\n",
       "      <td>0</td>\n",
       "      <td>1</td>\n",
       "      <td>1</td>\n",
       "    </tr>\n",
       "    <tr>\n",
       "      <th>69997</th>\n",
       "      <td>99996</td>\n",
       "      <td>19066</td>\n",
       "      <td>2</td>\n",
       "      <td>183</td>\n",
       "      <td>105.0</td>\n",
       "      <td>180</td>\n",
       "      <td>90</td>\n",
       "      <td>3</td>\n",
       "      <td>1</td>\n",
       "      <td>0</td>\n",
       "      <td>1</td>\n",
       "      <td>0</td>\n",
       "      <td>1</td>\n",
       "    </tr>\n",
       "    <tr>\n",
       "      <th>69998</th>\n",
       "      <td>99998</td>\n",
       "      <td>22431</td>\n",
       "      <td>1</td>\n",
       "      <td>163</td>\n",
       "      <td>72.0</td>\n",
       "      <td>135</td>\n",
       "      <td>80</td>\n",
       "      <td>1</td>\n",
       "      <td>2</td>\n",
       "      <td>0</td>\n",
       "      <td>0</td>\n",
       "      <td>0</td>\n",
       "      <td>1</td>\n",
       "    </tr>\n",
       "    <tr>\n",
       "      <th>69999</th>\n",
       "      <td>99999</td>\n",
       "      <td>20540</td>\n",
       "      <td>1</td>\n",
       "      <td>170</td>\n",
       "      <td>72.0</td>\n",
       "      <td>120</td>\n",
       "      <td>80</td>\n",
       "      <td>2</td>\n",
       "      <td>1</td>\n",
       "      <td>0</td>\n",
       "      <td>0</td>\n",
       "      <td>1</td>\n",
       "      <td>0</td>\n",
       "    </tr>\n",
       "  </tbody>\n",
       "</table>\n",
       "</div>"
      ],
      "text/plain": [
       "          id    age  gender  height  weight  ap_hi  ap_lo  cholesterol  gluc  \\\n",
       "69995  99993  19240       2     168    76.0    120     80            1     1   \n",
       "69996  99995  22601       1     158   126.0    140     90            2     2   \n",
       "69997  99996  19066       2     183   105.0    180     90            3     1   \n",
       "69998  99998  22431       1     163    72.0    135     80            1     2   \n",
       "69999  99999  20540       1     170    72.0    120     80            2     1   \n",
       "\n",
       "       smoke  alco  active  cardio  \n",
       "69995      1     0       1       0  \n",
       "69996      0     0       1       1  \n",
       "69997      0     1       0       1  \n",
       "69998      0     0       0       1  \n",
       "69999      0     0       1       0  "
      ]
     },
     "execution_count": 4,
     "metadata": {},
     "output_type": "execute_result"
    }
   ],
   "source": [
    "df_cardio.tail()"
   ]
  },
  {
   "cell_type": "code",
   "execution_count": 5,
   "id": "11acb367",
   "metadata": {
    "execution": {
     "iopub.execute_input": "2024-04-21T12:48:36.405108Z",
     "iopub.status.busy": "2024-04-21T12:48:36.404537Z",
     "iopub.status.idle": "2024-04-21T12:48:36.411019Z",
     "shell.execute_reply": "2024-04-21T12:48:36.409837Z"
    },
    "papermill": {
     "duration": 0.034387,
     "end_time": "2024-04-21T12:48:36.413461",
     "exception": false,
     "start_time": "2024-04-21T12:48:36.379074",
     "status": "completed"
    },
    "tags": []
   },
   "outputs": [],
   "source": [
    "df_cardio['age'] = df_cardio['age']/365"
   ]
  },
  {
   "cell_type": "code",
   "execution_count": 6,
   "id": "aac5e4be",
   "metadata": {
    "execution": {
     "iopub.execute_input": "2024-04-21T12:48:36.461230Z",
     "iopub.status.busy": "2024-04-21T12:48:36.460878Z",
     "iopub.status.idle": "2024-04-21T12:48:36.475853Z",
     "shell.execute_reply": "2024-04-21T12:48:36.474564Z"
    },
    "papermill": {
     "duration": 0.041582,
     "end_time": "2024-04-21T12:48:36.478708",
     "exception": false,
     "start_time": "2024-04-21T12:48:36.437126",
     "status": "completed"
    },
    "tags": []
   },
   "outputs": [
    {
     "data": {
      "text/html": [
       "<div>\n",
       "<style scoped>\n",
       "    .dataframe tbody tr th:only-of-type {\n",
       "        vertical-align: middle;\n",
       "    }\n",
       "\n",
       "    .dataframe tbody tr th {\n",
       "        vertical-align: top;\n",
       "    }\n",
       "\n",
       "    .dataframe thead th {\n",
       "        text-align: right;\n",
       "    }\n",
       "</style>\n",
       "<table border=\"1\" class=\"dataframe\">\n",
       "  <thead>\n",
       "    <tr style=\"text-align: right;\">\n",
       "      <th></th>\n",
       "      <th>id</th>\n",
       "      <th>age</th>\n",
       "      <th>gender</th>\n",
       "      <th>height</th>\n",
       "      <th>weight</th>\n",
       "      <th>ap_hi</th>\n",
       "      <th>ap_lo</th>\n",
       "      <th>cholesterol</th>\n",
       "      <th>gluc</th>\n",
       "      <th>smoke</th>\n",
       "      <th>alco</th>\n",
       "      <th>active</th>\n",
       "      <th>cardio</th>\n",
       "    </tr>\n",
       "  </thead>\n",
       "  <tbody>\n",
       "    <tr>\n",
       "      <th>0</th>\n",
       "      <td>0</td>\n",
       "      <td>50.391781</td>\n",
       "      <td>2</td>\n",
       "      <td>168</td>\n",
       "      <td>62.0</td>\n",
       "      <td>110</td>\n",
       "      <td>80</td>\n",
       "      <td>1</td>\n",
       "      <td>1</td>\n",
       "      <td>0</td>\n",
       "      <td>0</td>\n",
       "      <td>1</td>\n",
       "      <td>0</td>\n",
       "    </tr>\n",
       "    <tr>\n",
       "      <th>1</th>\n",
       "      <td>1</td>\n",
       "      <td>55.419178</td>\n",
       "      <td>1</td>\n",
       "      <td>156</td>\n",
       "      <td>85.0</td>\n",
       "      <td>140</td>\n",
       "      <td>90</td>\n",
       "      <td>3</td>\n",
       "      <td>1</td>\n",
       "      <td>0</td>\n",
       "      <td>0</td>\n",
       "      <td>1</td>\n",
       "      <td>1</td>\n",
       "    </tr>\n",
       "    <tr>\n",
       "      <th>2</th>\n",
       "      <td>2</td>\n",
       "      <td>51.663014</td>\n",
       "      <td>1</td>\n",
       "      <td>165</td>\n",
       "      <td>64.0</td>\n",
       "      <td>130</td>\n",
       "      <td>70</td>\n",
       "      <td>3</td>\n",
       "      <td>1</td>\n",
       "      <td>0</td>\n",
       "      <td>0</td>\n",
       "      <td>0</td>\n",
       "      <td>1</td>\n",
       "    </tr>\n",
       "    <tr>\n",
       "      <th>3</th>\n",
       "      <td>3</td>\n",
       "      <td>48.282192</td>\n",
       "      <td>2</td>\n",
       "      <td>169</td>\n",
       "      <td>82.0</td>\n",
       "      <td>150</td>\n",
       "      <td>100</td>\n",
       "      <td>1</td>\n",
       "      <td>1</td>\n",
       "      <td>0</td>\n",
       "      <td>0</td>\n",
       "      <td>1</td>\n",
       "      <td>1</td>\n",
       "    </tr>\n",
       "    <tr>\n",
       "      <th>4</th>\n",
       "      <td>4</td>\n",
       "      <td>47.873973</td>\n",
       "      <td>1</td>\n",
       "      <td>156</td>\n",
       "      <td>56.0</td>\n",
       "      <td>100</td>\n",
       "      <td>60</td>\n",
       "      <td>1</td>\n",
       "      <td>1</td>\n",
       "      <td>0</td>\n",
       "      <td>0</td>\n",
       "      <td>0</td>\n",
       "      <td>0</td>\n",
       "    </tr>\n",
       "  </tbody>\n",
       "</table>\n",
       "</div>"
      ],
      "text/plain": [
       "   id        age  gender  height  weight  ap_hi  ap_lo  cholesterol  gluc  \\\n",
       "0   0  50.391781       2     168    62.0    110     80            1     1   \n",
       "1   1  55.419178       1     156    85.0    140     90            3     1   \n",
       "2   2  51.663014       1     165    64.0    130     70            3     1   \n",
       "3   3  48.282192       2     169    82.0    150    100            1     1   \n",
       "4   4  47.873973       1     156    56.0    100     60            1     1   \n",
       "\n",
       "   smoke  alco  active  cardio  \n",
       "0      0     0       1       0  \n",
       "1      0     0       1       1  \n",
       "2      0     0       0       1  \n",
       "3      0     0       1       1  \n",
       "4      0     0       0       0  "
      ]
     },
     "execution_count": 6,
     "metadata": {},
     "output_type": "execute_result"
    }
   ],
   "source": [
    "df_cardio.head()"
   ]
  },
  {
   "cell_type": "code",
   "execution_count": 7,
   "id": "70603022",
   "metadata": {
    "execution": {
     "iopub.execute_input": "2024-04-21T12:48:36.525713Z",
     "iopub.status.busy": "2024-04-21T12:48:36.525328Z",
     "iopub.status.idle": "2024-04-21T12:48:36.531447Z",
     "shell.execute_reply": "2024-04-21T12:48:36.530525Z"
    },
    "papermill": {
     "duration": 0.032177,
     "end_time": "2024-04-21T12:48:36.533496",
     "exception": false,
     "start_time": "2024-04-21T12:48:36.501319",
     "status": "completed"
    },
    "tags": []
   },
   "outputs": [],
   "source": [
    "df_cardio['age']=df_cardio['age'].round().astype('int64')"
   ]
  },
  {
   "cell_type": "code",
   "execution_count": 8,
   "id": "c513a74b",
   "metadata": {
    "execution": {
     "iopub.execute_input": "2024-04-21T12:48:36.581073Z",
     "iopub.status.busy": "2024-04-21T12:48:36.580713Z",
     "iopub.status.idle": "2024-04-21T12:48:36.593945Z",
     "shell.execute_reply": "2024-04-21T12:48:36.593020Z"
    },
    "papermill": {
     "duration": 0.03986,
     "end_time": "2024-04-21T12:48:36.596070",
     "exception": false,
     "start_time": "2024-04-21T12:48:36.556210",
     "status": "completed"
    },
    "tags": []
   },
   "outputs": [
    {
     "data": {
      "text/html": [
       "<div>\n",
       "<style scoped>\n",
       "    .dataframe tbody tr th:only-of-type {\n",
       "        vertical-align: middle;\n",
       "    }\n",
       "\n",
       "    .dataframe tbody tr th {\n",
       "        vertical-align: top;\n",
       "    }\n",
       "\n",
       "    .dataframe thead th {\n",
       "        text-align: right;\n",
       "    }\n",
       "</style>\n",
       "<table border=\"1\" class=\"dataframe\">\n",
       "  <thead>\n",
       "    <tr style=\"text-align: right;\">\n",
       "      <th></th>\n",
       "      <th>id</th>\n",
       "      <th>age</th>\n",
       "      <th>gender</th>\n",
       "      <th>height</th>\n",
       "      <th>weight</th>\n",
       "      <th>ap_hi</th>\n",
       "      <th>ap_lo</th>\n",
       "      <th>cholesterol</th>\n",
       "      <th>gluc</th>\n",
       "      <th>smoke</th>\n",
       "      <th>alco</th>\n",
       "      <th>active</th>\n",
       "      <th>cardio</th>\n",
       "    </tr>\n",
       "  </thead>\n",
       "  <tbody>\n",
       "    <tr>\n",
       "      <th>0</th>\n",
       "      <td>0</td>\n",
       "      <td>50</td>\n",
       "      <td>2</td>\n",
       "      <td>168</td>\n",
       "      <td>62.0</td>\n",
       "      <td>110</td>\n",
       "      <td>80</td>\n",
       "      <td>1</td>\n",
       "      <td>1</td>\n",
       "      <td>0</td>\n",
       "      <td>0</td>\n",
       "      <td>1</td>\n",
       "      <td>0</td>\n",
       "    </tr>\n",
       "    <tr>\n",
       "      <th>1</th>\n",
       "      <td>1</td>\n",
       "      <td>55</td>\n",
       "      <td>1</td>\n",
       "      <td>156</td>\n",
       "      <td>85.0</td>\n",
       "      <td>140</td>\n",
       "      <td>90</td>\n",
       "      <td>3</td>\n",
       "      <td>1</td>\n",
       "      <td>0</td>\n",
       "      <td>0</td>\n",
       "      <td>1</td>\n",
       "      <td>1</td>\n",
       "    </tr>\n",
       "    <tr>\n",
       "      <th>2</th>\n",
       "      <td>2</td>\n",
       "      <td>52</td>\n",
       "      <td>1</td>\n",
       "      <td>165</td>\n",
       "      <td>64.0</td>\n",
       "      <td>130</td>\n",
       "      <td>70</td>\n",
       "      <td>3</td>\n",
       "      <td>1</td>\n",
       "      <td>0</td>\n",
       "      <td>0</td>\n",
       "      <td>0</td>\n",
       "      <td>1</td>\n",
       "    </tr>\n",
       "    <tr>\n",
       "      <th>3</th>\n",
       "      <td>3</td>\n",
       "      <td>48</td>\n",
       "      <td>2</td>\n",
       "      <td>169</td>\n",
       "      <td>82.0</td>\n",
       "      <td>150</td>\n",
       "      <td>100</td>\n",
       "      <td>1</td>\n",
       "      <td>1</td>\n",
       "      <td>0</td>\n",
       "      <td>0</td>\n",
       "      <td>1</td>\n",
       "      <td>1</td>\n",
       "    </tr>\n",
       "    <tr>\n",
       "      <th>4</th>\n",
       "      <td>4</td>\n",
       "      <td>48</td>\n",
       "      <td>1</td>\n",
       "      <td>156</td>\n",
       "      <td>56.0</td>\n",
       "      <td>100</td>\n",
       "      <td>60</td>\n",
       "      <td>1</td>\n",
       "      <td>1</td>\n",
       "      <td>0</td>\n",
       "      <td>0</td>\n",
       "      <td>0</td>\n",
       "      <td>0</td>\n",
       "    </tr>\n",
       "  </tbody>\n",
       "</table>\n",
       "</div>"
      ],
      "text/plain": [
       "   id  age  gender  height  weight  ap_hi  ap_lo  cholesterol  gluc  smoke  \\\n",
       "0   0   50       2     168    62.0    110     80            1     1      0   \n",
       "1   1   55       1     156    85.0    140     90            3     1      0   \n",
       "2   2   52       1     165    64.0    130     70            3     1      0   \n",
       "3   3   48       2     169    82.0    150    100            1     1      0   \n",
       "4   4   48       1     156    56.0    100     60            1     1      0   \n",
       "\n",
       "   alco  active  cardio  \n",
       "0     0       1       0  \n",
       "1     0       1       1  \n",
       "2     0       0       1  \n",
       "3     0       1       1  \n",
       "4     0       0       0  "
      ]
     },
     "execution_count": 8,
     "metadata": {},
     "output_type": "execute_result"
    }
   ],
   "source": [
    "df_cardio.head()"
   ]
  },
  {
   "cell_type": "code",
   "execution_count": 9,
   "id": "0cb0dfd1",
   "metadata": {
    "execution": {
     "iopub.execute_input": "2024-04-21T12:48:36.709314Z",
     "iopub.status.busy": "2024-04-21T12:48:36.708914Z",
     "iopub.status.idle": "2024-04-21T12:48:36.720487Z",
     "shell.execute_reply": "2024-04-21T12:48:36.719353Z"
    },
    "papermill": {
     "duration": 0.040158,
     "end_time": "2024-04-21T12:48:36.723110",
     "exception": false,
     "start_time": "2024-04-21T12:48:36.682952",
     "status": "completed"
    },
    "tags": []
   },
   "outputs": [],
   "source": [
    "df_cardio = df_cardio.drop(columns = 'id')"
   ]
  },
  {
   "cell_type": "code",
   "execution_count": 10,
   "id": "aca2d3b1",
   "metadata": {
    "execution": {
     "iopub.execute_input": "2024-04-21T12:48:36.772519Z",
     "iopub.status.busy": "2024-04-21T12:48:36.772121Z",
     "iopub.status.idle": "2024-04-21T12:48:36.785643Z",
     "shell.execute_reply": "2024-04-21T12:48:36.784386Z"
    },
    "papermill": {
     "duration": 0.04095,
     "end_time": "2024-04-21T12:48:36.788115",
     "exception": false,
     "start_time": "2024-04-21T12:48:36.747165",
     "status": "completed"
    },
    "tags": []
   },
   "outputs": [
    {
     "data": {
      "text/html": [
       "<div>\n",
       "<style scoped>\n",
       "    .dataframe tbody tr th:only-of-type {\n",
       "        vertical-align: middle;\n",
       "    }\n",
       "\n",
       "    .dataframe tbody tr th {\n",
       "        vertical-align: top;\n",
       "    }\n",
       "\n",
       "    .dataframe thead th {\n",
       "        text-align: right;\n",
       "    }\n",
       "</style>\n",
       "<table border=\"1\" class=\"dataframe\">\n",
       "  <thead>\n",
       "    <tr style=\"text-align: right;\">\n",
       "      <th></th>\n",
       "      <th>age</th>\n",
       "      <th>gender</th>\n",
       "      <th>height</th>\n",
       "      <th>weight</th>\n",
       "      <th>ap_hi</th>\n",
       "      <th>ap_lo</th>\n",
       "      <th>cholesterol</th>\n",
       "      <th>gluc</th>\n",
       "      <th>smoke</th>\n",
       "      <th>alco</th>\n",
       "      <th>active</th>\n",
       "      <th>cardio</th>\n",
       "    </tr>\n",
       "  </thead>\n",
       "  <tbody>\n",
       "    <tr>\n",
       "      <th>0</th>\n",
       "      <td>50</td>\n",
       "      <td>2</td>\n",
       "      <td>168</td>\n",
       "      <td>62.0</td>\n",
       "      <td>110</td>\n",
       "      <td>80</td>\n",
       "      <td>1</td>\n",
       "      <td>1</td>\n",
       "      <td>0</td>\n",
       "      <td>0</td>\n",
       "      <td>1</td>\n",
       "      <td>0</td>\n",
       "    </tr>\n",
       "  </tbody>\n",
       "</table>\n",
       "</div>"
      ],
      "text/plain": [
       "   age  gender  height  weight  ap_hi  ap_lo  cholesterol  gluc  smoke  alco  \\\n",
       "0   50       2     168    62.0    110     80            1     1      0     0   \n",
       "\n",
       "   active  cardio  \n",
       "0       1       0  "
      ]
     },
     "execution_count": 10,
     "metadata": {},
     "output_type": "execute_result"
    }
   ],
   "source": [
    "df_cardio.head(1)"
   ]
  },
  {
   "cell_type": "code",
   "execution_count": 11,
   "id": "020a4ded",
   "metadata": {
    "execution": {
     "iopub.execute_input": "2024-04-21T12:48:36.837135Z",
     "iopub.status.busy": "2024-04-21T12:48:36.836401Z",
     "iopub.status.idle": "2024-04-21T12:48:36.918798Z",
     "shell.execute_reply": "2024-04-21T12:48:36.917899Z"
    },
    "papermill": {
     "duration": 0.109384,
     "end_time": "2024-04-21T12:48:36.920942",
     "exception": false,
     "start_time": "2024-04-21T12:48:36.811558",
     "status": "completed"
    },
    "tags": []
   },
   "outputs": [
    {
     "data": {
      "text/html": [
       "<div>\n",
       "<style scoped>\n",
       "    .dataframe tbody tr th:only-of-type {\n",
       "        vertical-align: middle;\n",
       "    }\n",
       "\n",
       "    .dataframe tbody tr th {\n",
       "        vertical-align: top;\n",
       "    }\n",
       "\n",
       "    .dataframe thead th {\n",
       "        text-align: right;\n",
       "    }\n",
       "</style>\n",
       "<table border=\"1\" class=\"dataframe\">\n",
       "  <thead>\n",
       "    <tr style=\"text-align: right;\">\n",
       "      <th></th>\n",
       "      <th>age</th>\n",
       "      <th>gender</th>\n",
       "      <th>height</th>\n",
       "      <th>weight</th>\n",
       "      <th>ap_hi</th>\n",
       "      <th>ap_lo</th>\n",
       "      <th>cholesterol</th>\n",
       "      <th>gluc</th>\n",
       "      <th>smoke</th>\n",
       "      <th>alco</th>\n",
       "      <th>active</th>\n",
       "      <th>cardio</th>\n",
       "    </tr>\n",
       "  </thead>\n",
       "  <tbody>\n",
       "    <tr>\n",
       "      <th>count</th>\n",
       "      <td>70000.000000</td>\n",
       "      <td>70000.000000</td>\n",
       "      <td>70000.000000</td>\n",
       "      <td>70000.000000</td>\n",
       "      <td>70000.000000</td>\n",
       "      <td>70000.000000</td>\n",
       "      <td>70000.000000</td>\n",
       "      <td>70000.000000</td>\n",
       "      <td>70000.000000</td>\n",
       "      <td>70000.000000</td>\n",
       "      <td>70000.000000</td>\n",
       "      <td>70000.000000</td>\n",
       "    </tr>\n",
       "    <tr>\n",
       "      <th>mean</th>\n",
       "      <td>53.338686</td>\n",
       "      <td>1.349571</td>\n",
       "      <td>164.359229</td>\n",
       "      <td>74.205690</td>\n",
       "      <td>128.817286</td>\n",
       "      <td>96.630414</td>\n",
       "      <td>1.366871</td>\n",
       "      <td>1.226457</td>\n",
       "      <td>0.088129</td>\n",
       "      <td>0.053771</td>\n",
       "      <td>0.803729</td>\n",
       "      <td>0.499700</td>\n",
       "    </tr>\n",
       "    <tr>\n",
       "      <th>std</th>\n",
       "      <td>6.765294</td>\n",
       "      <td>0.476838</td>\n",
       "      <td>8.210126</td>\n",
       "      <td>14.395757</td>\n",
       "      <td>154.011419</td>\n",
       "      <td>188.472530</td>\n",
       "      <td>0.680250</td>\n",
       "      <td>0.572270</td>\n",
       "      <td>0.283484</td>\n",
       "      <td>0.225568</td>\n",
       "      <td>0.397179</td>\n",
       "      <td>0.500003</td>\n",
       "    </tr>\n",
       "    <tr>\n",
       "      <th>min</th>\n",
       "      <td>30.000000</td>\n",
       "      <td>1.000000</td>\n",
       "      <td>55.000000</td>\n",
       "      <td>10.000000</td>\n",
       "      <td>-150.000000</td>\n",
       "      <td>-70.000000</td>\n",
       "      <td>1.000000</td>\n",
       "      <td>1.000000</td>\n",
       "      <td>0.000000</td>\n",
       "      <td>0.000000</td>\n",
       "      <td>0.000000</td>\n",
       "      <td>0.000000</td>\n",
       "    </tr>\n",
       "    <tr>\n",
       "      <th>25%</th>\n",
       "      <td>48.000000</td>\n",
       "      <td>1.000000</td>\n",
       "      <td>159.000000</td>\n",
       "      <td>65.000000</td>\n",
       "      <td>120.000000</td>\n",
       "      <td>80.000000</td>\n",
       "      <td>1.000000</td>\n",
       "      <td>1.000000</td>\n",
       "      <td>0.000000</td>\n",
       "      <td>0.000000</td>\n",
       "      <td>1.000000</td>\n",
       "      <td>0.000000</td>\n",
       "    </tr>\n",
       "    <tr>\n",
       "      <th>50%</th>\n",
       "      <td>54.000000</td>\n",
       "      <td>1.000000</td>\n",
       "      <td>165.000000</td>\n",
       "      <td>72.000000</td>\n",
       "      <td>120.000000</td>\n",
       "      <td>80.000000</td>\n",
       "      <td>1.000000</td>\n",
       "      <td>1.000000</td>\n",
       "      <td>0.000000</td>\n",
       "      <td>0.000000</td>\n",
       "      <td>1.000000</td>\n",
       "      <td>0.000000</td>\n",
       "    </tr>\n",
       "    <tr>\n",
       "      <th>75%</th>\n",
       "      <td>58.000000</td>\n",
       "      <td>2.000000</td>\n",
       "      <td>170.000000</td>\n",
       "      <td>82.000000</td>\n",
       "      <td>140.000000</td>\n",
       "      <td>90.000000</td>\n",
       "      <td>2.000000</td>\n",
       "      <td>1.000000</td>\n",
       "      <td>0.000000</td>\n",
       "      <td>0.000000</td>\n",
       "      <td>1.000000</td>\n",
       "      <td>1.000000</td>\n",
       "    </tr>\n",
       "    <tr>\n",
       "      <th>max</th>\n",
       "      <td>65.000000</td>\n",
       "      <td>2.000000</td>\n",
       "      <td>250.000000</td>\n",
       "      <td>200.000000</td>\n",
       "      <td>16020.000000</td>\n",
       "      <td>11000.000000</td>\n",
       "      <td>3.000000</td>\n",
       "      <td>3.000000</td>\n",
       "      <td>1.000000</td>\n",
       "      <td>1.000000</td>\n",
       "      <td>1.000000</td>\n",
       "      <td>1.000000</td>\n",
       "    </tr>\n",
       "  </tbody>\n",
       "</table>\n",
       "</div>"
      ],
      "text/plain": [
       "                age        gender        height        weight         ap_hi  \\\n",
       "count  70000.000000  70000.000000  70000.000000  70000.000000  70000.000000   \n",
       "mean      53.338686      1.349571    164.359229     74.205690    128.817286   \n",
       "std        6.765294      0.476838      8.210126     14.395757    154.011419   \n",
       "min       30.000000      1.000000     55.000000     10.000000   -150.000000   \n",
       "25%       48.000000      1.000000    159.000000     65.000000    120.000000   \n",
       "50%       54.000000      1.000000    165.000000     72.000000    120.000000   \n",
       "75%       58.000000      2.000000    170.000000     82.000000    140.000000   \n",
       "max       65.000000      2.000000    250.000000    200.000000  16020.000000   \n",
       "\n",
       "              ap_lo   cholesterol          gluc         smoke          alco  \\\n",
       "count  70000.000000  70000.000000  70000.000000  70000.000000  70000.000000   \n",
       "mean      96.630414      1.366871      1.226457      0.088129      0.053771   \n",
       "std      188.472530      0.680250      0.572270      0.283484      0.225568   \n",
       "min      -70.000000      1.000000      1.000000      0.000000      0.000000   \n",
       "25%       80.000000      1.000000      1.000000      0.000000      0.000000   \n",
       "50%       80.000000      1.000000      1.000000      0.000000      0.000000   \n",
       "75%       90.000000      2.000000      1.000000      0.000000      0.000000   \n",
       "max    11000.000000      3.000000      3.000000      1.000000      1.000000   \n",
       "\n",
       "             active        cardio  \n",
       "count  70000.000000  70000.000000  \n",
       "mean       0.803729      0.499700  \n",
       "std        0.397179      0.500003  \n",
       "min        0.000000      0.000000  \n",
       "25%        1.000000      0.000000  \n",
       "50%        1.000000      0.000000  \n",
       "75%        1.000000      1.000000  \n",
       "max        1.000000      1.000000  "
      ]
     },
     "execution_count": 11,
     "metadata": {},
     "output_type": "execute_result"
    }
   ],
   "source": [
    "df_cardio.describe()"
   ]
  },
  {
   "cell_type": "code",
   "execution_count": 12,
   "id": "e478e655",
   "metadata": {
    "execution": {
     "iopub.execute_input": "2024-04-21T12:48:36.971073Z",
     "iopub.status.busy": "2024-04-21T12:48:36.970668Z",
     "iopub.status.idle": "2024-04-21T12:48:36.991091Z",
     "shell.execute_reply": "2024-04-21T12:48:36.990301Z"
    },
    "papermill": {
     "duration": 0.047963,
     "end_time": "2024-04-21T12:48:36.993447",
     "exception": false,
     "start_time": "2024-04-21T12:48:36.945484",
     "status": "completed"
    },
    "tags": []
   },
   "outputs": [
    {
     "name": "stdout",
     "output_type": "stream",
     "text": [
      "<class 'pandas.core.frame.DataFrame'>\n",
      "RangeIndex: 70000 entries, 0 to 69999\n",
      "Data columns (total 12 columns):\n",
      " #   Column       Non-Null Count  Dtype  \n",
      "---  ------       --------------  -----  \n",
      " 0   age          70000 non-null  int64  \n",
      " 1   gender       70000 non-null  int64  \n",
      " 2   height       70000 non-null  int64  \n",
      " 3   weight       70000 non-null  float64\n",
      " 4   ap_hi        70000 non-null  int64  \n",
      " 5   ap_lo        70000 non-null  int64  \n",
      " 6   cholesterol  70000 non-null  int64  \n",
      " 7   gluc         70000 non-null  int64  \n",
      " 8   smoke        70000 non-null  int64  \n",
      " 9   alco         70000 non-null  int64  \n",
      " 10  active       70000 non-null  int64  \n",
      " 11  cardio       70000 non-null  int64  \n",
      "dtypes: float64(1), int64(11)\n",
      "memory usage: 6.4 MB\n"
     ]
    }
   ],
   "source": [
    "df_cardio.info()"
   ]
  },
  {
   "cell_type": "code",
   "execution_count": 13,
   "id": "d0538146",
   "metadata": {
    "execution": {
     "iopub.execute_input": "2024-04-21T12:48:37.043027Z",
     "iopub.status.busy": "2024-04-21T12:48:37.042632Z",
     "iopub.status.idle": "2024-04-21T12:48:39.785973Z",
     "shell.execute_reply": "2024-04-21T12:48:39.784776Z"
    },
    "papermill": {
     "duration": 2.771272,
     "end_time": "2024-04-21T12:48:39.788477",
     "exception": false,
     "start_time": "2024-04-21T12:48:37.017205",
     "status": "completed"
    },
    "tags": []
   },
   "outputs": [
    {
     "data": {
      "text/plain": [
       "array([[<Axes: title={'center': 'age'}>,\n",
       "        <Axes: title={'center': 'gender'}>,\n",
       "        <Axes: title={'center': 'height'}>],\n",
       "       [<Axes: title={'center': 'weight'}>,\n",
       "        <Axes: title={'center': 'ap_hi'}>,\n",
       "        <Axes: title={'center': 'ap_lo'}>],\n",
       "       [<Axes: title={'center': 'cholesterol'}>,\n",
       "        <Axes: title={'center': 'gluc'}>,\n",
       "        <Axes: title={'center': 'smoke'}>],\n",
       "       [<Axes: title={'center': 'alco'}>,\n",
       "        <Axes: title={'center': 'active'}>,\n",
       "        <Axes: title={'center': 'cardio'}>]], dtype=object)"
      ]
     },
     "execution_count": 13,
     "metadata": {},
     "output_type": "execute_result"
    },
    {
     "data": {
      "image/png": "[encoded data removed]",
      "text/plain": [
       "<Figure size 1000x1000 with 12 Axes>"
      ]
     },
     "metadata": {},
     "output_type": "display_data"
    }
   ],
   "source": [
    "df_cardio.hist(bins=30,figsize=(10,10),color='r')\n"
   ]
  },
  {
   "cell_type": "code",
   "execution_count": 14,
   "id": "b4c19eb7",
   "metadata": {
    "execution": {
     "iopub.execute_input": "2024-04-21T12:48:39.840477Z",
     "iopub.status.busy": "2024-04-21T12:48:39.840122Z",
     "iopub.status.idle": "2024-04-21T12:48:39.893836Z",
     "shell.execute_reply": "2024-04-21T12:48:39.892887Z"
    },
    "papermill": {
     "duration": 0.082352,
     "end_time": "2024-04-21T12:48:39.896100",
     "exception": false,
     "start_time": "2024-04-21T12:48:39.813748",
     "status": "completed"
    },
    "tags": []
   },
   "outputs": [
    {
     "data": {
      "text/html": [
       "<div>\n",
       "<style scoped>\n",
       "    .dataframe tbody tr th:only-of-type {\n",
       "        vertical-align: middle;\n",
       "    }\n",
       "\n",
       "    .dataframe tbody tr th {\n",
       "        vertical-align: top;\n",
       "    }\n",
       "\n",
       "    .dataframe thead th {\n",
       "        text-align: right;\n",
       "    }\n",
       "</style>\n",
       "<table border=\"1\" class=\"dataframe\">\n",
       "  <thead>\n",
       "    <tr style=\"text-align: right;\">\n",
       "      <th></th>\n",
       "      <th>age</th>\n",
       "      <th>gender</th>\n",
       "      <th>height</th>\n",
       "      <th>weight</th>\n",
       "      <th>ap_hi</th>\n",
       "      <th>ap_lo</th>\n",
       "      <th>cholesterol</th>\n",
       "      <th>gluc</th>\n",
       "      <th>smoke</th>\n",
       "      <th>alco</th>\n",
       "      <th>active</th>\n",
       "      <th>cardio</th>\n",
       "    </tr>\n",
       "  </thead>\n",
       "  <tbody>\n",
       "    <tr>\n",
       "      <th>age</th>\n",
       "      <td>1.000000</td>\n",
       "      <td>-0.023017</td>\n",
       "      <td>-0.081456</td>\n",
       "      <td>0.053661</td>\n",
       "      <td>0.020793</td>\n",
       "      <td>0.017754</td>\n",
       "      <td>0.154386</td>\n",
       "      <td>0.098596</td>\n",
       "      <td>-0.047884</td>\n",
       "      <td>-0.029918</td>\n",
       "      <td>-0.009819</td>\n",
       "      <td>0.237749</td>\n",
       "    </tr>\n",
       "    <tr>\n",
       "      <th>gender</th>\n",
       "      <td>-0.023017</td>\n",
       "      <td>1.000000</td>\n",
       "      <td>0.499033</td>\n",
       "      <td>0.155406</td>\n",
       "      <td>0.006005</td>\n",
       "      <td>0.015254</td>\n",
       "      <td>-0.035821</td>\n",
       "      <td>-0.020491</td>\n",
       "      <td>0.338135</td>\n",
       "      <td>0.170966</td>\n",
       "      <td>0.005866</td>\n",
       "      <td>0.008109</td>\n",
       "    </tr>\n",
       "    <tr>\n",
       "      <th>height</th>\n",
       "      <td>-0.081456</td>\n",
       "      <td>0.499033</td>\n",
       "      <td>1.000000</td>\n",
       "      <td>0.290968</td>\n",
       "      <td>0.005488</td>\n",
       "      <td>0.006150</td>\n",
       "      <td>-0.050226</td>\n",
       "      <td>-0.018595</td>\n",
       "      <td>0.187989</td>\n",
       "      <td>0.094419</td>\n",
       "      <td>-0.006570</td>\n",
       "      <td>-0.010821</td>\n",
       "    </tr>\n",
       "    <tr>\n",
       "      <th>weight</th>\n",
       "      <td>0.053661</td>\n",
       "      <td>0.155406</td>\n",
       "      <td>0.290968</td>\n",
       "      <td>1.000000</td>\n",
       "      <td>0.030702</td>\n",
       "      <td>0.043710</td>\n",
       "      <td>0.141768</td>\n",
       "      <td>0.106857</td>\n",
       "      <td>0.067780</td>\n",
       "      <td>0.067113</td>\n",
       "      <td>-0.016867</td>\n",
       "      <td>0.181660</td>\n",
       "    </tr>\n",
       "    <tr>\n",
       "      <th>ap_hi</th>\n",
       "      <td>0.020793</td>\n",
       "      <td>0.006005</td>\n",
       "      <td>0.005488</td>\n",
       "      <td>0.030702</td>\n",
       "      <td>1.000000</td>\n",
       "      <td>0.016086</td>\n",
       "      <td>0.023778</td>\n",
       "      <td>0.011841</td>\n",
       "      <td>-0.000922</td>\n",
       "      <td>0.001408</td>\n",
       "      <td>-0.000033</td>\n",
       "      <td>0.054475</td>\n",
       "    </tr>\n",
       "    <tr>\n",
       "      <th>ap_lo</th>\n",
       "      <td>0.017754</td>\n",
       "      <td>0.015254</td>\n",
       "      <td>0.006150</td>\n",
       "      <td>0.043710</td>\n",
       "      <td>0.016086</td>\n",
       "      <td>1.000000</td>\n",
       "      <td>0.024019</td>\n",
       "      <td>0.010806</td>\n",
       "      <td>0.005186</td>\n",
       "      <td>0.010601</td>\n",
       "      <td>0.004780</td>\n",
       "      <td>0.065719</td>\n",
       "    </tr>\n",
       "    <tr>\n",
       "      <th>cholesterol</th>\n",
       "      <td>0.154386</td>\n",
       "      <td>-0.035821</td>\n",
       "      <td>-0.050226</td>\n",
       "      <td>0.141768</td>\n",
       "      <td>0.023778</td>\n",
       "      <td>0.024019</td>\n",
       "      <td>1.000000</td>\n",
       "      <td>0.451578</td>\n",
       "      <td>0.010354</td>\n",
       "      <td>0.035760</td>\n",
       "      <td>0.009911</td>\n",
       "      <td>0.221147</td>\n",
       "    </tr>\n",
       "    <tr>\n",
       "      <th>gluc</th>\n",
       "      <td>0.098596</td>\n",
       "      <td>-0.020491</td>\n",
       "      <td>-0.018595</td>\n",
       "      <td>0.106857</td>\n",
       "      <td>0.011841</td>\n",
       "      <td>0.010806</td>\n",
       "      <td>0.451578</td>\n",
       "      <td>1.000000</td>\n",
       "      <td>-0.004756</td>\n",
       "      <td>0.011246</td>\n",
       "      <td>-0.006770</td>\n",
       "      <td>0.089307</td>\n",
       "    </tr>\n",
       "    <tr>\n",
       "      <th>smoke</th>\n",
       "      <td>-0.047884</td>\n",
       "      <td>0.338135</td>\n",
       "      <td>0.187989</td>\n",
       "      <td>0.067780</td>\n",
       "      <td>-0.000922</td>\n",
       "      <td>0.005186</td>\n",
       "      <td>0.010354</td>\n",
       "      <td>-0.004756</td>\n",
       "      <td>1.000000</td>\n",
       "      <td>0.340094</td>\n",
       "      <td>0.025858</td>\n",
       "      <td>-0.015486</td>\n",
       "    </tr>\n",
       "    <tr>\n",
       "      <th>alco</th>\n",
       "      <td>-0.029918</td>\n",
       "      <td>0.170966</td>\n",
       "      <td>0.094419</td>\n",
       "      <td>0.067113</td>\n",
       "      <td>0.001408</td>\n",
       "      <td>0.010601</td>\n",
       "      <td>0.035760</td>\n",
       "      <td>0.011246</td>\n",
       "      <td>0.340094</td>\n",
       "      <td>1.000000</td>\n",
       "      <td>0.025476</td>\n",
       "      <td>-0.007330</td>\n",
       "    </tr>\n",
       "    <tr>\n",
       "      <th>active</th>\n",
       "      <td>-0.009819</td>\n",
       "      <td>0.005866</td>\n",
       "      <td>-0.006570</td>\n",
       "      <td>-0.016867</td>\n",
       "      <td>-0.000033</td>\n",
       "      <td>0.004780</td>\n",
       "      <td>0.009911</td>\n",
       "      <td>-0.006770</td>\n",
       "      <td>0.025858</td>\n",
       "      <td>0.025476</td>\n",
       "      <td>1.000000</td>\n",
       "      <td>-0.035653</td>\n",
       "    </tr>\n",
       "    <tr>\n",
       "      <th>cardio</th>\n",
       "      <td>0.237749</td>\n",
       "      <td>0.008109</td>\n",
       "      <td>-0.010821</td>\n",
       "      <td>0.181660</td>\n",
       "      <td>0.054475</td>\n",
       "      <td>0.065719</td>\n",
       "      <td>0.221147</td>\n",
       "      <td>0.089307</td>\n",
       "      <td>-0.015486</td>\n",
       "      <td>-0.007330</td>\n",
       "      <td>-0.035653</td>\n",
       "      <td>1.000000</td>\n",
       "    </tr>\n",
       "  </tbody>\n",
       "</table>\n",
       "</div>"
      ],
      "text/plain": [
       "                  age    gender    height    weight     ap_hi     ap_lo  \\\n",
       "age          1.000000 -0.023017 -0.081456  0.053661  0.020793  0.017754   \n",
       "gender      -0.023017  1.000000  0.499033  0.155406  0.006005  0.015254   \n",
       "height      -0.081456  0.499033  1.000000  0.290968  0.005488  0.006150   \n",
       "weight       0.053661  0.155406  0.290968  1.000000  0.030702  0.043710   \n",
       "ap_hi        0.020793  0.006005  0.005488  0.030702  1.000000  0.016086   \n",
       "ap_lo        0.017754  0.015254  0.006150  0.043710  0.016086  1.000000   \n",
       "cholesterol  0.154386 -0.035821 -0.050226  0.141768  0.023778  0.024019   \n",
       "gluc         0.098596 -0.020491 -0.018595  0.106857  0.011841  0.010806   \n",
       "smoke       -0.047884  0.338135  0.187989  0.067780 -0.000922  0.005186   \n",
       "alco        -0.029918  0.170966  0.094419  0.067113  0.001408  0.010601   \n",
       "active      -0.009819  0.005866 -0.006570 -0.016867 -0.000033  0.004780   \n",
       "cardio       0.237749  0.008109 -0.010821  0.181660  0.054475  0.065719   \n",
       "\n",
       "             cholesterol      gluc     smoke      alco    active    cardio  \n",
       "age             0.154386  0.098596 -0.047884 -0.029918 -0.009819  0.237749  \n",
       "gender         -0.035821 -0.020491  0.338135  0.170966  0.005866  0.008109  \n",
       "height         -0.050226 -0.018595  0.187989  0.094419 -0.006570 -0.010821  \n",
       "weight          0.141768  0.106857  0.067780  0.067113 -0.016867  0.181660  \n",
       "ap_hi           0.023778  0.011841 -0.000922  0.001408 -0.000033  0.054475  \n",
       "ap_lo           0.024019  0.010806  0.005186  0.010601  0.004780  0.065719  \n",
       "cholesterol     1.000000  0.451578  0.010354  0.035760  0.009911  0.221147  \n",
       "gluc            0.451578  1.000000 -0.004756  0.011246 -0.006770  0.089307  \n",
       "smoke           0.010354 -0.004756  1.000000  0.340094  0.025858 -0.015486  \n",
       "alco            0.035760  0.011246  0.340094  1.000000  0.025476 -0.007330  \n",
       "active          0.009911 -0.006770  0.025858  0.025476  1.000000 -0.035653  \n",
       "cardio          0.221147  0.089307 -0.015486 -0.007330 -0.035653  1.000000  "
      ]
     },
     "execution_count": 14,
     "metadata": {},
     "output_type": "execute_result"
    }
   ],
   "source": [
    "corr_matrix = df_cardio.corr()\n",
    "corr_matrix"
   ]
  },
  {
   "cell_type": "code",
   "execution_count": 15,
   "id": "7b94772f",
   "metadata": {
    "execution": {
     "iopub.execute_input": "2024-04-21T12:48:39.950061Z",
     "iopub.status.busy": "2024-04-21T12:48:39.949387Z",
     "iopub.status.idle": "2024-04-21T12:48:41.026458Z",
     "shell.execute_reply": "2024-04-21T12:48:41.025557Z"
    },
    "papermill": {
     "duration": 1.112711,
     "end_time": "2024-04-21T12:48:41.034089",
     "exception": false,
     "start_time": "2024-04-21T12:48:39.921378",
     "status": "completed"
    },
    "tags": []
   },
   "outputs": [
    {
     "data": {
      "text/plain": [
       "<Axes: >"
      ]
     },
     "execution_count": 15,
     "metadata": {},
     "output_type": "execute_result"
    },
    {
     "data": {
      "image/png": "[encoded data removed]",
      "text/plain": [
       "<Figure size 2000x2000 with 2 Axes>"
      ]
     },
     "metadata": {},
     "output_type": "display_data"
    }
   ],
   "source": [
    "plt.figure(figsize=(20,20))\n",
    "sns.heatmap(corr_matrix,annot=True)\n"
   ]
  },
  {
   "cell_type": "markdown",
   "id": "4f6b6eba",
   "metadata": {
    "papermill": {
     "duration": 0.029339,
     "end_time": "2024-04-21T12:48:41.095212",
     "exception": false,
     "start_time": "2024-04-21T12:48:41.065873",
     "status": "completed"
    },
    "tags": []
   },
   "source": [
    "# Split dataset to create model looking for trends\n"
   ]
  },
  {
   "cell_type": "code",
   "execution_count": 16,
   "id": "ac7e7a31",
   "metadata": {
    "execution": {
     "iopub.execute_input": "2024-04-21T12:48:41.161370Z",
     "iopub.status.busy": "2024-04-21T12:48:41.160453Z",
     "iopub.status.idle": "2024-04-21T12:48:41.169255Z",
     "shell.execute_reply": "2024-04-21T12:48:41.168093Z"
    },
    "papermill": {
     "duration": 0.04731,
     "end_time": "2024-04-21T12:48:41.172239",
     "exception": false,
     "start_time": "2024-04-21T12:48:41.124929",
     "status": "completed"
    },
    "tags": []
   },
   "outputs": [],
   "source": [
    "Y = df_cardio['cardio']\n",
    "X = df_cardio.drop(columns = 'cardio')"
   ]
  },
  {
   "cell_type": "code",
   "execution_count": 17,
   "id": "39005426",
   "metadata": {
    "execution": {
     "iopub.execute_input": "2024-04-21T12:48:41.240077Z",
     "iopub.status.busy": "2024-04-21T12:48:41.239252Z",
     "iopub.status.idle": "2024-04-21T12:48:41.246188Z",
     "shell.execute_reply": "2024-04-21T12:48:41.245117Z"
    },
    "papermill": {
     "duration": 0.039145,
     "end_time": "2024-04-21T12:48:41.248532",
     "exception": false,
     "start_time": "2024-04-21T12:48:41.209387",
     "status": "completed"
    },
    "tags": []
   },
   "outputs": [
    {
     "data": {
      "text/plain": [
       "(70000, 11)"
      ]
     },
     "execution_count": 17,
     "metadata": {},
     "output_type": "execute_result"
    }
   ],
   "source": [
    "X.shape"
   ]
  },
  {
   "cell_type": "code",
   "execution_count": 18,
   "id": "89c54de7",
   "metadata": {
    "execution": {
     "iopub.execute_input": "2024-04-21T12:48:41.308833Z",
     "iopub.status.busy": "2024-04-21T12:48:41.307653Z",
     "iopub.status.idle": "2024-04-21T12:48:41.315178Z",
     "shell.execute_reply": "2024-04-21T12:48:41.314030Z"
    },
    "papermill": {
     "duration": 0.040937,
     "end_time": "2024-04-21T12:48:41.317582",
     "exception": false,
     "start_time": "2024-04-21T12:48:41.276645",
     "status": "completed"
    },
    "tags": []
   },
   "outputs": [
    {
     "data": {
      "text/plain": [
       "(70000,)"
      ]
     },
     "execution_count": 18,
     "metadata": {},
     "output_type": "execute_result"
    }
   ],
   "source": [
    "Y.shape"
   ]
  },
  {
   "cell_type": "code",
   "execution_count": 19,
   "id": "5531f1b4",
   "metadata": {
    "execution": {
     "iopub.execute_input": "2024-04-21T12:48:41.378012Z",
     "iopub.status.busy": "2024-04-21T12:48:41.377147Z",
     "iopub.status.idle": "2024-04-21T12:48:41.765388Z",
     "shell.execute_reply": "2024-04-21T12:48:41.764438Z"
    },
    "papermill": {
     "duration": 0.421498,
     "end_time": "2024-04-21T12:48:41.767956",
     "exception": false,
     "start_time": "2024-04-21T12:48:41.346458",
     "status": "completed"
    },
    "tags": []
   },
   "outputs": [],
   "source": [
    "from sklearn.model_selection import train_test_split"
   ]
  },
  {
   "cell_type": "code",
   "execution_count": 20,
   "id": "14e40dbd",
   "metadata": {
    "execution": {
     "iopub.execute_input": "2024-04-21T12:48:41.825668Z",
     "iopub.status.busy": "2024-04-21T12:48:41.825313Z",
     "iopub.status.idle": "2024-04-21T12:48:41.849363Z",
     "shell.execute_reply": "2024-04-21T12:48:41.848410Z"
    },
    "papermill": {
     "duration": 0.055864,
     "end_time": "2024-04-21T12:48:41.851979",
     "exception": false,
     "start_time": "2024-04-21T12:48:41.796115",
     "status": "completed"
    },
    "tags": []
   },
   "outputs": [],
   "source": [
    "X_train,X_test,Y_train,Y_test = train_test_split(X,Y,test_size=0.2)"
   ]
  },
  {
   "cell_type": "code",
   "execution_count": 21,
   "id": "9e60f426",
   "metadata": {
    "execution": {
     "iopub.execute_input": "2024-04-21T12:48:41.911499Z",
     "iopub.status.busy": "2024-04-21T12:48:41.910345Z",
     "iopub.status.idle": "2024-04-21T12:48:41.916380Z",
     "shell.execute_reply": "2024-04-21T12:48:41.915390Z"
    },
    "papermill": {
     "duration": 0.038048,
     "end_time": "2024-04-21T12:48:41.919177",
     "exception": false,
     "start_time": "2024-04-21T12:48:41.881129",
     "status": "completed"
    },
    "tags": []
   },
   "outputs": [
    {
     "data": {
      "text/plain": [
       "(56000, 11)"
      ]
     },
     "execution_count": 21,
     "metadata": {},
     "output_type": "execute_result"
    }
   ],
   "source": [
    "X_train.shape"
   ]
  },
  {
   "cell_type": "code",
   "execution_count": 22,
   "id": "4cfcba2f",
   "metadata": {
    "execution": {
     "iopub.execute_input": "2024-04-21T12:48:41.979442Z",
     "iopub.status.busy": "2024-04-21T12:48:41.979040Z",
     "iopub.status.idle": "2024-04-21T12:48:41.985123Z",
     "shell.execute_reply": "2024-04-21T12:48:41.984157Z"
    },
    "papermill": {
     "duration": 0.038582,
     "end_time": "2024-04-21T12:48:41.987362",
     "exception": false,
     "start_time": "2024-04-21T12:48:41.948780",
     "status": "completed"
    },
    "tags": []
   },
   "outputs": [
    {
     "data": {
      "text/plain": [
       "(56000,)"
      ]
     },
     "execution_count": 22,
     "metadata": {},
     "output_type": "execute_result"
    }
   ],
   "source": [
    "Y_train.shape"
   ]
  },
  {
   "cell_type": "code",
   "execution_count": 23,
   "id": "e4f75f8d",
   "metadata": {
    "execution": {
     "iopub.execute_input": "2024-04-21T12:48:42.046922Z",
     "iopub.status.busy": "2024-04-21T12:48:42.046520Z",
     "iopub.status.idle": "2024-04-21T12:48:42.053431Z",
     "shell.execute_reply": "2024-04-21T12:48:42.052270Z"
    },
    "papermill": {
     "duration": 0.040093,
     "end_time": "2024-04-21T12:48:42.055972",
     "exception": false,
     "start_time": "2024-04-21T12:48:42.015879",
     "status": "completed"
    },
    "tags": []
   },
   "outputs": [
    {
     "data": {
      "text/plain": [
       "(14000, 11)"
      ]
     },
     "execution_count": 23,
     "metadata": {},
     "output_type": "execute_result"
    }
   ],
   "source": [
    "X_test.shape\n"
   ]
  },
  {
   "cell_type": "code",
   "execution_count": 24,
   "id": "291db380",
   "metadata": {
    "execution": {
     "iopub.execute_input": "2024-04-21T12:48:42.114444Z",
     "iopub.status.busy": "2024-04-21T12:48:42.114056Z",
     "iopub.status.idle": "2024-04-21T12:48:42.120289Z",
     "shell.execute_reply": "2024-04-21T12:48:42.119449Z"
    },
    "papermill": {
     "duration": 0.037619,
     "end_time": "2024-04-21T12:48:42.122195",
     "exception": false,
     "start_time": "2024-04-21T12:48:42.084576",
     "status": "completed"
    },
    "tags": []
   },
   "outputs": [
    {
     "data": {
      "text/plain": [
       "(14000,)"
      ]
     },
     "execution_count": 24,
     "metadata": {},
     "output_type": "execute_result"
    }
   ],
   "source": [
    "Y_test.shape"
   ]
  },
  {
   "cell_type": "markdown",
   "id": "0be55182",
   "metadata": {
    "papermill": {
     "duration": 0.028824,
     "end_time": "2024-04-21T12:48:42.179637",
     "exception": false,
     "start_time": "2024-04-21T12:48:42.150813",
     "status": "completed"
    },
    "tags": []
   },
   "source": [
    "# Using XG-BOOST algorithm to perform classification problem with our data "
   ]
  },
  {
   "cell_type": "code",
   "execution_count": 25,
   "id": "ef7f20ac",
   "metadata": {
    "execution": {
     "iopub.execute_input": "2024-04-21T12:48:42.239786Z",
     "iopub.status.busy": "2024-04-21T12:48:42.239413Z",
     "iopub.status.idle": "2024-04-21T12:48:42.448024Z",
     "shell.execute_reply": "2024-04-21T12:48:42.446832Z"
    },
    "papermill": {
     "duration": 0.241344,
     "end_time": "2024-04-21T12:48:42.450664",
     "exception": false,
     "start_time": "2024-04-21T12:48:42.209320",
     "status": "completed"
    },
    "tags": []
   },
   "outputs": [],
   "source": [
    "from xgboost import XGBClassifier "
   ]
  },
  {
   "cell_type": "markdown",
   "id": "692ef819",
   "metadata": {
    "papermill": {
     "duration": 0.028213,
     "end_time": "2024-04-21T12:48:42.507509",
     "exception": false,
     "start_time": "2024-04-21T12:48:42.479296",
     "status": "completed"
    },
    "tags": []
   },
   "source": [
    "Train an XG boost classifier model "
   ]
  },
  {
   "cell_type": "code",
   "execution_count": 26,
   "id": "8a75f7cd",
   "metadata": {
    "execution": {
     "iopub.execute_input": "2024-04-21T12:48:42.567246Z",
     "iopub.status.busy": "2024-04-21T12:48:42.566843Z",
     "iopub.status.idle": "2024-04-21T12:48:42.703326Z",
     "shell.execute_reply": "2024-04-21T12:48:42.702360Z"
    },
    "papermill": {
     "duration": 0.16952,
     "end_time": "2024-04-21T12:48:42.705524",
     "exception": false,
     "start_time": "2024-04-21T12:48:42.536004",
     "status": "completed"
    },
    "tags": []
   },
   "outputs": [
    {
     "data": {
      "text/html": [
       "<style>#sk-container-id-1 {color: black;background-color: white;}#sk-container-id-1 pre{padding: 0;}#sk-container-id-1 div.sk-toggleable {background-color: white;}#sk-container-id-1 label.sk-toggleable__label {cursor: pointer;display: block;width: 100%;margin-bottom: 0;padding: 0.3em;box-sizing: border-box;text-align: center;}#sk-container-id-1 label.sk-toggleable__label-arrow:before {content: \"▸\";float: left;margin-right: 0.25em;color: #696969;}#sk-container-id-1 label.sk-toggleable__label-arrow:hover:before {color: black;}#sk-container-id-1 div.sk-estimator:hover label.sk-toggleable__label-arrow:before {color: black;}#sk-container-id-1 div.sk-toggleable__content {max-height: 0;max-width: 0;overflow: hidden;text-align: left;background-color: #f0f8ff;}#sk-container-id-1 div.sk-toggleable__content pre {margin: 0.2em;color: black;border-radius: 0.25em;background-color: #f0f8ff;}#sk-container-id-1 input.sk-toggleable__control:checked~div.sk-toggleable__content {max-height: 200px;max-width: 100%;overflow: auto;}#sk-container-id-1 input.sk-toggleable__control:checked~label.sk-toggleable__label-arrow:before {content: \"▾\";}#sk-container-id-1 div.sk-estimator input.sk-toggleable__control:checked~label.sk-toggleable__label {background-color: #d4ebff;}#sk-container-id-1 div.sk-label input.sk-toggleable__control:checked~label.sk-toggleable__label {background-color: #d4ebff;}#sk-container-id-1 input.sk-hidden--visually {border: 0;clip: rect(1px 1px 1px 1px);clip: rect(1px, 1px, 1px, 1px);height: 1px;margin: -1px;overflow: hidden;padding: 0;position: absolute;width: 1px;}#sk-container-id-1 div.sk-estimator {font-family: monospace;background-color: #f0f8ff;border: 1px dotted black;border-radius: 0.25em;box-sizing: border-box;margin-bottom: 0.5em;}#sk-container-id-1 div.sk-estimator:hover {background-color: #d4ebff;}#sk-container-id-1 div.sk-parallel-item::after {content: \"\";width: 100%;border-bottom: 1px solid gray;flex-grow: 1;}#sk-container-id-1 div.sk-label:hover label.sk-toggleable__label {background-color: #d4ebff;}#sk-container-id-1 div.sk-serial::before {content: \"\";position: absolute;border-left: 1px solid gray;box-sizing: border-box;top: 0;bottom: 0;left: 50%;z-index: 0;}#sk-container-id-1 div.sk-serial {display: flex;flex-direction: column;align-items: center;background-color: white;padding-right: 0.2em;padding-left: 0.2em;position: relative;}#sk-container-id-1 div.sk-item {position: relative;z-index: 1;}#sk-container-id-1 div.sk-parallel {display: flex;align-items: stretch;justify-content: center;background-color: white;position: relative;}#sk-container-id-1 div.sk-item::before, #sk-container-id-1 div.sk-parallel-item::before {content: \"\";position: absolute;border-left: 1px solid gray;box-sizing: border-box;top: 0;bottom: 0;left: 50%;z-index: -1;}#sk-container-id-1 div.sk-parallel-item {display: flex;flex-direction: column;z-index: 1;position: relative;background-color: white;}#sk-container-id-1 div.sk-parallel-item:first-child::after {align-self: flex-end;width: 50%;}#sk-container-id-1 div.sk-parallel-item:last-child::after {align-self: flex-start;width: 50%;}#sk-container-id-1 div.sk-parallel-item:only-child::after {width: 0;}#sk-container-id-1 div.sk-dashed-wrapped {border: 1px dashed gray;margin: 0 0.4em 0.5em 0.4em;box-sizing: border-box;padding-bottom: 0.4em;background-color: white;}#sk-container-id-1 div.sk-label label {font-family: monospace;font-weight: bold;display: inline-block;line-height: 1.2em;}#sk-container-id-1 div.sk-label-container {text-align: center;}#sk-container-id-1 div.sk-container {/* jupyter's `normalize.less` sets `[hidden] { display: none; }` but bootstrap.min.css set `[hidden] { display: none !important; }` so we also need the `!important` here to be able to override the default hidden behavior on the sphinx rendered scikit-learn.org. See: https://github.com/scikit-learn/scikit-learn/issues/21755 */display: inline-block !important;position: relative;}#sk-container-id-1 div.sk-text-repr-fallback {display: none;}</style><div id=\"sk-container-id-1\" class=\"sk-top-container\"><div class=\"sk-text-repr-fallback\"><pre>XGBClassifier(base_score=None, booster=None, callbacks=None,\n",
       "              colsample_bylevel=None, colsample_bynode=None,\n",
       "              colsample_bytree=None, device=None, early_stopping_rounds=None,\n",
       "              enable_categorical=False, eval_metric=&#x27;error&#x27;, feature_types=None,\n",
       "              gamma=None, grow_policy=None, importance_type=None,\n",
       "              interaction_constraints=None, learning_rate=0.1, max_bin=None,\n",
       "              max_cat_threshold=None, max_cat_to_onehot=None,\n",
       "              max_delta_step=None, max_depth=1, max_leaves=None,\n",
       "              min_child_weight=None, missing=nan, monotone_constraints=None,\n",
       "              multi_strategy=None, n_estimators=10, n_jobs=None,\n",
       "              num_parallel_tree=None, random_state=None, ...)</pre><b>In a Jupyter environment, please rerun this cell to show the HTML representation or trust the notebook. <br />On GitHub, the HTML representation is unable to render, please try loading this page with nbviewer.org.</b></div><div class=\"sk-container\" hidden><div class=\"sk-item\"><div class=\"sk-estimator sk-toggleable\"><input class=\"sk-toggleable__control sk-hidden--visually\" id=\"sk-estimator-id-1\" type=\"checkbox\" checked><label for=\"sk-estimator-id-1\" class=\"sk-toggleable__label sk-toggleable__label-arrow\">XGBClassifier</label><div class=\"sk-toggleable__content\"><pre>XGBClassifier(base_score=None, booster=None, callbacks=None,\n",
       "              colsample_bylevel=None, colsample_bynode=None,\n",
       "              colsample_bytree=None, device=None, early_stopping_rounds=None,\n",
       "              enable_categorical=False, eval_metric=&#x27;error&#x27;, feature_types=None,\n",
       "              gamma=None, grow_policy=None, importance_type=None,\n",
       "              interaction_constraints=None, learning_rate=0.1, max_bin=None,\n",
       "              max_cat_threshold=None, max_cat_to_onehot=None,\n",
       "              max_delta_step=None, max_depth=1, max_leaves=None,\n",
       "              min_child_weight=None, missing=nan, monotone_constraints=None,\n",
       "              multi_strategy=None, n_estimators=10, n_jobs=None,\n",
       "              num_parallel_tree=None, random_state=None, ...)</pre></div></div></div></div></div>"
      ],
      "text/plain": [
       "XGBClassifier(base_score=None, booster=None, callbacks=None,\n",
       "              colsample_bylevel=None, colsample_bynode=None,\n",
       "              colsample_bytree=None, device=None, early_stopping_rounds=None,\n",
       "              enable_categorical=False, eval_metric='error', feature_types=None,\n",
       "              gamma=None, grow_policy=None, importance_type=None,\n",
       "              interaction_constraints=None, learning_rate=0.1, max_bin=None,\n",
       "              max_cat_threshold=None, max_cat_to_onehot=None,\n",
       "              max_delta_step=None, max_depth=1, max_leaves=None,\n",
       "              min_child_weight=None, missing=nan, monotone_constraints=None,\n",
       "              multi_strategy=None, n_estimators=10, n_jobs=None,\n",
       "              num_parallel_tree=None, random_state=None, ...)"
      ]
     },
     "execution_count": 26,
     "metadata": {},
     "output_type": "execute_result"
    }
   ],
   "source": [
    "xgb_classifier = XGBClassifier(objective='binary:logistic',eval_metric='error',learning_rate=0.1,max_depth=1,n_estimators=10)\n",
    "xgb_classifier.fit(X_train,Y_train)"
   ]
  },
  {
   "cell_type": "code",
   "execution_count": 27,
   "id": "1851d683",
   "metadata": {
    "execution": {
     "iopub.execute_input": "2024-04-21T12:48:42.765771Z",
     "iopub.status.busy": "2024-04-21T12:48:42.765347Z",
     "iopub.status.idle": "2024-04-21T12:48:42.783809Z",
     "shell.execute_reply": "2024-04-21T12:48:42.782472Z"
    },
    "papermill": {
     "duration": 0.051227,
     "end_time": "2024-04-21T12:48:42.786055",
     "exception": false,
     "start_time": "2024-04-21T12:48:42.734828",
     "status": "completed"
    },
    "tags": []
   },
   "outputs": [
    {
     "name": "stdout",
     "output_type": "stream",
     "text": [
      "Accuracy 0.715\n"
     ]
    }
   ],
   "source": [
    "result = xgb_classifier.score(X_test,Y_test)\n",
    "print('Accuracy {}'.format(result))"
   ]
  },
  {
   "cell_type": "code",
   "execution_count": 28,
   "id": "04fd2609",
   "metadata": {
    "execution": {
     "iopub.execute_input": "2024-04-21T12:48:42.846196Z",
     "iopub.status.busy": "2024-04-21T12:48:42.845822Z",
     "iopub.status.idle": "2024-04-21T12:48:42.859870Z",
     "shell.execute_reply": "2024-04-21T12:48:42.858654Z"
    },
    "papermill": {
     "duration": 0.047203,
     "end_time": "2024-04-21T12:48:42.862453",
     "exception": false,
     "start_time": "2024-04-21T12:48:42.815250",
     "status": "completed"
    },
    "tags": []
   },
   "outputs": [
    {
     "data": {
      "text/plain": [
       "array([1, 0, 1, ..., 0, 0, 1])"
      ]
     },
     "execution_count": 28,
     "metadata": {},
     "output_type": "execute_result"
    }
   ],
   "source": [
    "y_predict = xgb_classifier.predict(X_test)\n",
    "y_predict"
   ]
  },
  {
   "cell_type": "code",
   "execution_count": 29,
   "id": "4bacf072",
   "metadata": {
    "execution": {
     "iopub.execute_input": "2024-04-21T12:48:42.924830Z",
     "iopub.status.busy": "2024-04-21T12:48:42.924422Z",
     "iopub.status.idle": "2024-04-21T12:48:42.961843Z",
     "shell.execute_reply": "2024-04-21T12:48:42.960300Z"
    },
    "papermill": {
     "duration": 0.071254,
     "end_time": "2024-04-21T12:48:42.964351",
     "exception": false,
     "start_time": "2024-04-21T12:48:42.893097",
     "status": "completed"
    },
    "tags": []
   },
   "outputs": [
    {
     "name": "stdout",
     "output_type": "stream",
     "text": [
      "              precision    recall  f1-score   support\n",
      "\n",
      "           0       0.68      0.80      0.74      7022\n",
      "           1       0.76      0.63      0.69      6978\n",
      "\n",
      "    accuracy                           0.71     14000\n",
      "   macro avg       0.72      0.71      0.71     14000\n",
      "weighted avg       0.72      0.71      0.71     14000\n",
      "\n"
     ]
    }
   ],
   "source": [
    "from sklearn.metrics import classification_report\n",
    "print(classification_report(Y_test,y_predict))"
   ]
  },
  {
   "cell_type": "code",
   "execution_count": 30,
   "id": "3b364e05",
   "metadata": {
    "execution": {
     "iopub.execute_input": "2024-04-21T12:48:43.026248Z",
     "iopub.status.busy": "2024-04-21T12:48:43.025855Z",
     "iopub.status.idle": "2024-04-21T12:48:43.314803Z",
     "shell.execute_reply": "2024-04-21T12:48:43.312869Z"
    },
    "papermill": {
     "duration": 0.322911,
     "end_time": "2024-04-21T12:48:43.317655",
     "exception": false,
     "start_time": "2024-04-21T12:48:42.994744",
     "status": "completed"
    },
    "tags": []
   },
   "outputs": [
    {
     "data": {
      "text/plain": [
       "<Axes: >"
      ]
     },
     "execution_count": 30,
     "metadata": {},
     "output_type": "execute_result"
    },
    {
     "data": {
      "image/png": "[encoded data removed]",
      "text/plain": [
       "<Figure size 640x480 with 2 Axes>"
      ]
     },
     "metadata": {},
     "output_type": "display_data"
    }
   ],
   "source": [
    "from sklearn.metrics import confusion_matrix\n",
    "cm = confusion_matrix(Y_test,y_predict)\n",
    "sns.heatmap(cm,fmt='d',annot=True)"
   ]
  },
  {
   "cell_type": "markdown",
   "id": "fce0b07e",
   "metadata": {
    "papermill": {
     "duration": 0.030009,
     "end_time": "2024-04-21T12:48:43.378263",
     "exception": false,
     "start_time": "2024-04-21T12:48:43.348254",
     "status": "completed"
    },
    "tags": []
   },
   "source": [
    "# Titanic dataset do each passenger survive or not?"
   ]
  },
  {
   "cell_type": "code",
   "execution_count": 31,
   "id": "4898c168",
   "metadata": {
    "execution": {
     "iopub.execute_input": "2024-04-21T12:48:43.441644Z",
     "iopub.status.busy": "2024-04-21T12:48:43.441214Z",
     "iopub.status.idle": "2024-04-21T12:48:43.454788Z",
     "shell.execute_reply": "2024-04-21T12:48:43.453749Z"
    },
    "papermill": {
     "duration": 0.048371,
     "end_time": "2024-04-21T12:48:43.457367",
     "exception": false,
     "start_time": "2024-04-21T12:48:43.408996",
     "status": "completed"
    },
    "tags": []
   },
   "outputs": [],
   "source": [
    "df_titanic_train = pd.read_csv('/kaggle/input/titanic-proper-dataset/train.csv')"
   ]
  },
  {
   "cell_type": "code",
   "execution_count": 32,
   "id": "fd5ca5f9",
   "metadata": {
    "execution": {
     "iopub.execute_input": "2024-04-21T12:48:43.524080Z",
     "iopub.status.busy": "2024-04-21T12:48:43.522404Z",
     "iopub.status.idle": "2024-04-21T12:48:43.533457Z",
     "shell.execute_reply": "2024-04-21T12:48:43.532315Z"
    },
    "papermill": {
     "duration": 0.046525,
     "end_time": "2024-04-21T12:48:43.536101",
     "exception": false,
     "start_time": "2024-04-21T12:48:43.489576",
     "status": "completed"
    },
    "tags": []
   },
   "outputs": [],
   "source": [
    "df_titanic_test = pd.read_csv('/kaggle/input/titanic-proper-dataset/test.csv')"
   ]
  },
  {
   "cell_type": "markdown",
   "id": "9166e3c5",
   "metadata": {
    "papermill": {
     "duration": 0.030935,
     "end_time": "2024-04-21T12:48:43.597443",
     "exception": false,
     "start_time": "2024-04-21T12:48:43.566508",
     "status": "completed"
    },
    "tags": []
   },
   "source": [
    "# Do our data is correct ?"
   ]
  },
  {
   "cell_type": "code",
   "execution_count": 33,
   "id": "42256675",
   "metadata": {
    "execution": {
     "iopub.execute_input": "2024-04-21T12:48:43.661204Z",
     "iopub.status.busy": "2024-04-21T12:48:43.660097Z",
     "iopub.status.idle": "2024-04-21T12:48:43.672355Z",
     "shell.execute_reply": "2024-04-21T12:48:43.670714Z"
    },
    "papermill": {
     "duration": 0.046351,
     "end_time": "2024-04-21T12:48:43.674736",
     "exception": false,
     "start_time": "2024-04-21T12:48:43.628385",
     "status": "completed"
    },
    "tags": []
   },
   "outputs": [
    {
     "name": "stdout",
     "output_type": "stream",
     "text": [
      "<class 'pandas.core.frame.DataFrame'>\n",
      "RangeIndex: 891 entries, 0 to 890\n",
      "Data columns (total 12 columns):\n",
      " #   Column       Non-Null Count  Dtype  \n",
      "---  ------       --------------  -----  \n",
      " 0   PassengerId  891 non-null    int64  \n",
      " 1   Survived     891 non-null    int64  \n",
      " 2   Pclass       891 non-null    int64  \n",
      " 3   Name         891 non-null    object \n",
      " 4   Sex          891 non-null    object \n",
      " 5   Age          714 non-null    float64\n",
      " 6   SibSp        891 non-null    int64  \n",
      " 7   Parch        891 non-null    int64  \n",
      " 8   Ticket       891 non-null    object \n",
      " 9   Fare         891 non-null    float64\n",
      " 10  Cabin        204 non-null    object \n",
      " 11  Embarked     889 non-null    object \n",
      "dtypes: float64(2), int64(5), object(5)\n",
      "memory usage: 83.7+ KB\n"
     ]
    }
   ],
   "source": [
    "df_titanic_train.info()"
   ]
  },
  {
   "cell_type": "code",
   "execution_count": 34,
   "id": "cb2ea705",
   "metadata": {
    "execution": {
     "iopub.execute_input": "2024-04-21T12:48:43.738225Z",
     "iopub.status.busy": "2024-04-21T12:48:43.737094Z",
     "iopub.status.idle": "2024-04-21T12:48:43.749474Z",
     "shell.execute_reply": "2024-04-21T12:48:43.747916Z"
    },
    "papermill": {
     "duration": 0.046261,
     "end_time": "2024-04-21T12:48:43.751810",
     "exception": false,
     "start_time": "2024-04-21T12:48:43.705549",
     "status": "completed"
    },
    "tags": []
   },
   "outputs": [
    {
     "name": "stdout",
     "output_type": "stream",
     "text": [
      "<class 'pandas.core.frame.DataFrame'>\n",
      "RangeIndex: 418 entries, 0 to 417\n",
      "Data columns (total 11 columns):\n",
      " #   Column       Non-Null Count  Dtype  \n",
      "---  ------       --------------  -----  \n",
      " 0   PassengerId  418 non-null    int64  \n",
      " 1   Pclass       418 non-null    int64  \n",
      " 2   Name         418 non-null    object \n",
      " 3   Sex          418 non-null    object \n",
      " 4   Age          332 non-null    float64\n",
      " 5   SibSp        418 non-null    int64  \n",
      " 6   Parch        418 non-null    int64  \n",
      " 7   Ticket       418 non-null    object \n",
      " 8   Fare         417 non-null    float64\n",
      " 9   Cabin        91 non-null     object \n",
      " 10  Embarked     418 non-null    object \n",
      "dtypes: float64(2), int64(4), object(5)\n",
      "memory usage: 36.0+ KB\n"
     ]
    }
   ],
   "source": [
    "df_titanic_test.info()"
   ]
  },
  {
   "cell_type": "code",
   "execution_count": 35,
   "id": "13c5682c",
   "metadata": {
    "execution": {
     "iopub.execute_input": "2024-04-21T12:48:43.814950Z",
     "iopub.status.busy": "2024-04-21T12:48:43.814526Z",
     "iopub.status.idle": "2024-04-21T12:48:43.820971Z",
     "shell.execute_reply": "2024-04-21T12:48:43.819917Z"
    },
    "papermill": {
     "duration": 0.041559,
     "end_time": "2024-04-21T12:48:43.823458",
     "exception": false,
     "start_time": "2024-04-21T12:48:43.781899",
     "status": "completed"
    },
    "tags": []
   },
   "outputs": [],
   "source": [
    "def count_female_survived(df_titanic_train):\n",
    "    count_female_survived = 0\n",
    "    for sex, survived in zip(df_titanic_train['Sex'], df_titanic_train['Survived']):\n",
    "        if sex == 'female' and survived == 1:\n",
    "            count_female_survived += 1\n",
    "\n",
    "    return count_female_survived\n",
    "\n",
    "# Call the function with your DataFrame as an argument\n",
    "result = count_female_survived(df_titanic_train)"
   ]
  },
  {
   "cell_type": "code",
   "execution_count": 36,
   "id": "492b538d",
   "metadata": {
    "execution": {
     "iopub.execute_input": "2024-04-21T12:48:43.887134Z",
     "iopub.status.busy": "2024-04-21T12:48:43.885527Z",
     "iopub.status.idle": "2024-04-21T12:48:43.892129Z",
     "shell.execute_reply": "2024-04-21T12:48:43.890781Z"
    },
    "papermill": {
     "duration": 0.040539,
     "end_time": "2024-04-21T12:48:43.894214",
     "exception": false,
     "start_time": "2024-04-21T12:48:43.853675",
     "status": "completed"
    },
    "tags": []
   },
   "outputs": [
    {
     "name": "stdout",
     "output_type": "stream",
     "text": [
      "233\n"
     ]
    }
   ],
   "source": [
    "print(result)"
   ]
  },
  {
   "cell_type": "code",
   "execution_count": 37,
   "id": "324064a5",
   "metadata": {
    "execution": {
     "iopub.execute_input": "2024-04-21T12:48:43.957145Z",
     "iopub.status.busy": "2024-04-21T12:48:43.956786Z",
     "iopub.status.idle": "2024-04-21T12:48:43.970978Z",
     "shell.execute_reply": "2024-04-21T12:48:43.969774Z"
    },
    "papermill": {
     "duration": 0.048123,
     "end_time": "2024-04-21T12:48:43.973188",
     "exception": false,
     "start_time": "2024-04-21T12:48:43.925065",
     "status": "completed"
    },
    "tags": []
   },
   "outputs": [
    {
     "data": {
      "text/html": [
       "<div>\n",
       "<style scoped>\n",
       "    .dataframe tbody tr th:only-of-type {\n",
       "        vertical-align: middle;\n",
       "    }\n",
       "\n",
       "    .dataframe tbody tr th {\n",
       "        vertical-align: top;\n",
       "    }\n",
       "\n",
       "    .dataframe thead th {\n",
       "        text-align: right;\n",
       "    }\n",
       "</style>\n",
       "<table border=\"1\" class=\"dataframe\">\n",
       "  <thead>\n",
       "    <tr style=\"text-align: right;\">\n",
       "      <th></th>\n",
       "      <th>PassengerId</th>\n",
       "      <th>Pclass</th>\n",
       "      <th>Name</th>\n",
       "      <th>Sex</th>\n",
       "      <th>Age</th>\n",
       "      <th>SibSp</th>\n",
       "      <th>Parch</th>\n",
       "      <th>Ticket</th>\n",
       "      <th>Fare</th>\n",
       "      <th>Cabin</th>\n",
       "      <th>Embarked</th>\n",
       "    </tr>\n",
       "    <tr>\n",
       "      <th>Survived</th>\n",
       "      <th></th>\n",
       "      <th></th>\n",
       "      <th></th>\n",
       "      <th></th>\n",
       "      <th></th>\n",
       "      <th></th>\n",
       "      <th></th>\n",
       "      <th></th>\n",
       "      <th></th>\n",
       "      <th></th>\n",
       "      <th></th>\n",
       "    </tr>\n",
       "  </thead>\n",
       "  <tbody>\n",
       "    <tr>\n",
       "      <th>0</th>\n",
       "      <td>549</td>\n",
       "      <td>549</td>\n",
       "      <td>549</td>\n",
       "      <td>549</td>\n",
       "      <td>424</td>\n",
       "      <td>549</td>\n",
       "      <td>549</td>\n",
       "      <td>549</td>\n",
       "      <td>549</td>\n",
       "      <td>68</td>\n",
       "      <td>549</td>\n",
       "    </tr>\n",
       "    <tr>\n",
       "      <th>1</th>\n",
       "      <td>342</td>\n",
       "      <td>342</td>\n",
       "      <td>342</td>\n",
       "      <td>342</td>\n",
       "      <td>290</td>\n",
       "      <td>342</td>\n",
       "      <td>342</td>\n",
       "      <td>342</td>\n",
       "      <td>342</td>\n",
       "      <td>136</td>\n",
       "      <td>340</td>\n",
       "    </tr>\n",
       "  </tbody>\n",
       "</table>\n",
       "</div>"
      ],
      "text/plain": [
       "          PassengerId  Pclass  Name  Sex  Age  SibSp  Parch  Ticket  Fare  \\\n",
       "Survived                                                                    \n",
       "0                 549     549   549  549  424    549    549     549   549   \n",
       "1                 342     342   342  342  290    342    342     342   342   \n",
       "\n",
       "          Cabin  Embarked  \n",
       "Survived                   \n",
       "0            68       549  \n",
       "1           136       340  "
      ]
     },
     "execution_count": 37,
     "metadata": {},
     "output_type": "execute_result"
    }
   ],
   "source": [
    "df_titanic_train.groupby('Survived').count()"
   ]
  },
  {
   "cell_type": "code",
   "execution_count": 38,
   "id": "ced90aaf",
   "metadata": {
    "execution": {
     "iopub.execute_input": "2024-04-21T12:48:44.036654Z",
     "iopub.status.busy": "2024-04-21T12:48:44.035555Z",
     "iopub.status.idle": "2024-04-21T12:48:44.043830Z",
     "shell.execute_reply": "2024-04-21T12:48:44.043029Z"
    },
    "papermill": {
     "duration": 0.042181,
     "end_time": "2024-04-21T12:48:44.045758",
     "exception": false,
     "start_time": "2024-04-21T12:48:44.003577",
     "status": "completed"
    },
    "tags": []
   },
   "outputs": [
    {
     "data": {
      "text/plain": [
       "PassengerId      0\n",
       "Survived         0\n",
       "Pclass           0\n",
       "Name             0\n",
       "Sex              0\n",
       "Age            177\n",
       "SibSp            0\n",
       "Parch            0\n",
       "Ticket           0\n",
       "Fare             0\n",
       "Cabin          687\n",
       "Embarked         2\n",
       "dtype: int64"
      ]
     },
     "execution_count": 38,
     "metadata": {},
     "output_type": "execute_result"
    }
   ],
   "source": [
    "df_titanic_train.isnull().sum()"
   ]
  },
  {
   "cell_type": "markdown",
   "id": "8b7b473d",
   "metadata": {
    "papermill": {
     "duration": 0.030218,
     "end_time": "2024-04-21T12:48:44.106504",
     "exception": false,
     "start_time": "2024-04-21T12:48:44.076286",
     "status": "completed"
    },
    "tags": []
   },
   "source": [
    "Our data have some nulls but for cabin its not a problem we can give 0-1 for each person same for embarked but age is our worse scenario \n",
    "we have 3 possibilities:\n",
    "1 Drop record with nulls in age - not a good idea we don't have so much data to do so \n",
    "2 Fill data with mean - in this scenario mean doesn't neacessearly can be apply \n",
    "3 Leave as it it - stay with it there"
   ]
  },
  {
   "cell_type": "code",
   "execution_count": 39,
   "id": "cd89a688",
   "metadata": {
    "execution": {
     "iopub.execute_input": "2024-04-21T12:48:44.169376Z",
     "iopub.status.busy": "2024-04-21T12:48:44.169010Z",
     "iopub.status.idle": "2024-04-21T12:48:44.175747Z",
     "shell.execute_reply": "2024-04-21T12:48:44.174607Z"
    },
    "papermill": {
     "duration": 0.04131,
     "end_time": "2024-04-21T12:48:44.178249",
     "exception": false,
     "start_time": "2024-04-21T12:48:44.136939",
     "status": "completed"
    },
    "tags": []
   },
   "outputs": [
    {
     "data": {
      "text/plain": [
       "array(['S', 'C', 'Q', nan], dtype=object)"
      ]
     },
     "execution_count": 39,
     "metadata": {},
     "output_type": "execute_result"
    }
   ],
   "source": [
    "df_titanic_train['Embarked'].unique()"
   ]
  },
  {
   "cell_type": "code",
   "execution_count": 40,
   "id": "8d903842",
   "metadata": {
    "execution": {
     "iopub.execute_input": "2024-04-21T12:48:44.245079Z",
     "iopub.status.busy": "2024-04-21T12:48:44.244709Z",
     "iopub.status.idle": "2024-04-21T12:48:44.255044Z",
     "shell.execute_reply": "2024-04-21T12:48:44.253814Z"
    },
    "papermill": {
     "duration": 0.04564,
     "end_time": "2024-04-21T12:48:44.257336",
     "exception": false,
     "start_time": "2024-04-21T12:48:44.211696",
     "status": "completed"
    },
    "tags": []
   },
   "outputs": [],
   "source": [
    "columns_to_encode_tr = ['Embarked', 'Sex']\n",
    "columns_to_keep_tr = ['PassengerId', 'Survived', 'Pclass', 'Name', 'Age', 'SibSp', 'Parch', 'Ticket', 'Fare', 'Cabin']\n",
    "df_titanic_encoded_tr = pd.get_dummies(df_titanic_train[columns_to_encode_tr])"
   ]
  },
  {
   "cell_type": "code",
   "execution_count": 41,
   "id": "ead5daf6",
   "metadata": {
    "execution": {
     "iopub.execute_input": "2024-04-21T12:48:44.321276Z",
     "iopub.status.busy": "2024-04-21T12:48:44.320924Z",
     "iopub.status.idle": "2024-04-21T12:48:44.332579Z",
     "shell.execute_reply": "2024-04-21T12:48:44.331461Z"
    },
    "papermill": {
     "duration": 0.046703,
     "end_time": "2024-04-21T12:48:44.334776",
     "exception": false,
     "start_time": "2024-04-21T12:48:44.288073",
     "status": "completed"
    },
    "tags": []
   },
   "outputs": [
    {
     "data": {
      "text/html": [
       "<div>\n",
       "<style scoped>\n",
       "    .dataframe tbody tr th:only-of-type {\n",
       "        vertical-align: middle;\n",
       "    }\n",
       "\n",
       "    .dataframe tbody tr th {\n",
       "        vertical-align: top;\n",
       "    }\n",
       "\n",
       "    .dataframe thead th {\n",
       "        text-align: right;\n",
       "    }\n",
       "</style>\n",
       "<table border=\"1\" class=\"dataframe\">\n",
       "  <thead>\n",
       "    <tr style=\"text-align: right;\">\n",
       "      <th></th>\n",
       "      <th>Embarked_C</th>\n",
       "      <th>Embarked_Q</th>\n",
       "      <th>Embarked_S</th>\n",
       "      <th>Sex_female</th>\n",
       "      <th>Sex_male</th>\n",
       "    </tr>\n",
       "  </thead>\n",
       "  <tbody>\n",
       "    <tr>\n",
       "      <th>0</th>\n",
       "      <td>False</td>\n",
       "      <td>False</td>\n",
       "      <td>True</td>\n",
       "      <td>False</td>\n",
       "      <td>True</td>\n",
       "    </tr>\n",
       "    <tr>\n",
       "      <th>1</th>\n",
       "      <td>True</td>\n",
       "      <td>False</td>\n",
       "      <td>False</td>\n",
       "      <td>True</td>\n",
       "      <td>False</td>\n",
       "    </tr>\n",
       "    <tr>\n",
       "      <th>2</th>\n",
       "      <td>False</td>\n",
       "      <td>False</td>\n",
       "      <td>True</td>\n",
       "      <td>True</td>\n",
       "      <td>False</td>\n",
       "    </tr>\n",
       "    <tr>\n",
       "      <th>3</th>\n",
       "      <td>False</td>\n",
       "      <td>False</td>\n",
       "      <td>True</td>\n",
       "      <td>True</td>\n",
       "      <td>False</td>\n",
       "    </tr>\n",
       "    <tr>\n",
       "      <th>4</th>\n",
       "      <td>False</td>\n",
       "      <td>False</td>\n",
       "      <td>True</td>\n",
       "      <td>False</td>\n",
       "      <td>True</td>\n",
       "    </tr>\n",
       "  </tbody>\n",
       "</table>\n",
       "</div>"
      ],
      "text/plain": [
       "   Embarked_C  Embarked_Q  Embarked_S  Sex_female  Sex_male\n",
       "0       False       False        True       False      True\n",
       "1        True       False       False        True     False\n",
       "2       False       False        True        True     False\n",
       "3       False       False        True        True     False\n",
       "4       False       False        True       False      True"
      ]
     },
     "execution_count": 41,
     "metadata": {},
     "output_type": "execute_result"
    }
   ],
   "source": [
    "df_titanic_encoded_tr.head()"
   ]
  },
  {
   "cell_type": "code",
   "execution_count": 42,
   "id": "eabbefbd",
   "metadata": {
    "execution": {
     "iopub.execute_input": "2024-04-21T12:48:44.398896Z",
     "iopub.status.busy": "2024-04-21T12:48:44.398505Z",
     "iopub.status.idle": "2024-04-21T12:48:44.406377Z",
     "shell.execute_reply": "2024-04-21T12:48:44.405250Z"
    },
    "papermill": {
     "duration": 0.042855,
     "end_time": "2024-04-21T12:48:44.408415",
     "exception": false,
     "start_time": "2024-04-21T12:48:44.365560",
     "status": "completed"
    },
    "tags": []
   },
   "outputs": [],
   "source": [
    "df_titanic_corr_tr = pd.concat([df_titanic_train[columns_to_keep_tr], df_titanic_encoded_tr], axis=1)"
   ]
  },
  {
   "cell_type": "code",
   "execution_count": 43,
   "id": "86a08adb",
   "metadata": {
    "execution": {
     "iopub.execute_input": "2024-04-21T12:48:44.473449Z",
     "iopub.status.busy": "2024-04-21T12:48:44.472467Z",
     "iopub.status.idle": "2024-04-21T12:48:44.480504Z",
     "shell.execute_reply": "2024-04-21T12:48:44.479702Z"
    },
    "papermill": {
     "duration": 0.04264,
     "end_time": "2024-04-21T12:48:44.482650",
     "exception": false,
     "start_time": "2024-04-21T12:48:44.440010",
     "status": "completed"
    },
    "tags": []
   },
   "outputs": [],
   "source": [
    "df_titanic_corr_tr[['Embarked_C', 'Embarked_Q','Embarked_S', 'Sex_female', 'Sex_male']] = df_titanic_corr_tr[['Embarked_C', 'Embarked_Q','Embarked_S', 'Sex_female', 'Sex_male']].astype('int64')"
   ]
  },
  {
   "cell_type": "code",
   "execution_count": 44,
   "id": "59a18895",
   "metadata": {
    "execution": {
     "iopub.execute_input": "2024-04-21T12:48:44.547860Z",
     "iopub.status.busy": "2024-04-21T12:48:44.546646Z",
     "iopub.status.idle": "2024-04-21T12:48:44.561331Z",
     "shell.execute_reply": "2024-04-21T12:48:44.560382Z"
    },
    "papermill": {
     "duration": 0.049206,
     "end_time": "2024-04-21T12:48:44.563442",
     "exception": false,
     "start_time": "2024-04-21T12:48:44.514236",
     "status": "completed"
    },
    "tags": []
   },
   "outputs": [
    {
     "data": {
      "text/html": [
       "<div>\n",
       "<style scoped>\n",
       "    .dataframe tbody tr th:only-of-type {\n",
       "        vertical-align: middle;\n",
       "    }\n",
       "\n",
       "    .dataframe tbody tr th {\n",
       "        vertical-align: top;\n",
       "    }\n",
       "\n",
       "    .dataframe thead th {\n",
       "        text-align: right;\n",
       "    }\n",
       "</style>\n",
       "<table border=\"1\" class=\"dataframe\">\n",
       "  <thead>\n",
       "    <tr style=\"text-align: right;\">\n",
       "      <th></th>\n",
       "      <th>PassengerId</th>\n",
       "      <th>Survived</th>\n",
       "      <th>Pclass</th>\n",
       "      <th>Name</th>\n",
       "      <th>Age</th>\n",
       "      <th>SibSp</th>\n",
       "      <th>Parch</th>\n",
       "      <th>Ticket</th>\n",
       "      <th>Fare</th>\n",
       "      <th>Cabin</th>\n",
       "      <th>Embarked_C</th>\n",
       "      <th>Embarked_Q</th>\n",
       "      <th>Embarked_S</th>\n",
       "      <th>Sex_female</th>\n",
       "      <th>Sex_male</th>\n",
       "    </tr>\n",
       "  </thead>\n",
       "  <tbody>\n",
       "    <tr>\n",
       "      <th>0</th>\n",
       "      <td>1</td>\n",
       "      <td>0</td>\n",
       "      <td>3</td>\n",
       "      <td>Braund, Mr. Owen Harris</td>\n",
       "      <td>22.0</td>\n",
       "      <td>1</td>\n",
       "      <td>0</td>\n",
       "      <td>A/5 21171</td>\n",
       "      <td>7.2500</td>\n",
       "      <td>NaN</td>\n",
       "      <td>0</td>\n",
       "      <td>0</td>\n",
       "      <td>1</td>\n",
       "      <td>0</td>\n",
       "      <td>1</td>\n",
       "    </tr>\n",
       "    <tr>\n",
       "      <th>1</th>\n",
       "      <td>2</td>\n",
       "      <td>1</td>\n",
       "      <td>1</td>\n",
       "      <td>Cumings, Mrs. John Bradley (Florence Briggs Th...</td>\n",
       "      <td>38.0</td>\n",
       "      <td>1</td>\n",
       "      <td>0</td>\n",
       "      <td>PC 17599</td>\n",
       "      <td>71.2833</td>\n",
       "      <td>C85</td>\n",
       "      <td>1</td>\n",
       "      <td>0</td>\n",
       "      <td>0</td>\n",
       "      <td>1</td>\n",
       "      <td>0</td>\n",
       "    </tr>\n",
       "  </tbody>\n",
       "</table>\n",
       "</div>"
      ],
      "text/plain": [
       "   PassengerId  Survived  Pclass  \\\n",
       "0            1         0       3   \n",
       "1            2         1       1   \n",
       "\n",
       "                                                Name   Age  SibSp  Parch  \\\n",
       "0                            Braund, Mr. Owen Harris  22.0      1      0   \n",
       "1  Cumings, Mrs. John Bradley (Florence Briggs Th...  38.0      1      0   \n",
       "\n",
       "      Ticket     Fare Cabin  Embarked_C  Embarked_Q  Embarked_S  Sex_female  \\\n",
       "0  A/5 21171   7.2500   NaN           0           0           1           0   \n",
       "1   PC 17599  71.2833   C85           1           0           0           1   \n",
       "\n",
       "   Sex_male  \n",
       "0         1  \n",
       "1         0  "
      ]
     },
     "execution_count": 44,
     "metadata": {},
     "output_type": "execute_result"
    }
   ],
   "source": [
    "df_titanic_corr_tr.head(2)"
   ]
  },
  {
   "cell_type": "code",
   "execution_count": 45,
   "id": "94e37e9e",
   "metadata": {
    "execution": {
     "iopub.execute_input": "2024-04-21T12:48:44.629317Z",
     "iopub.status.busy": "2024-04-21T12:48:44.628303Z",
     "iopub.status.idle": "2024-04-21T12:48:44.635849Z",
     "shell.execute_reply": "2024-04-21T12:48:44.634888Z"
    },
    "papermill": {
     "duration": 0.042131,
     "end_time": "2024-04-21T12:48:44.637958",
     "exception": false,
     "start_time": "2024-04-21T12:48:44.595827",
     "status": "completed"
    },
    "tags": []
   },
   "outputs": [],
   "source": [
    "df_titanic_corr_tr['Cabin_ind'] = df_titanic_train['Cabin'].fillna(0).apply(lambda x: 1 if x != 0 else 0)"
   ]
  },
  {
   "cell_type": "code",
   "execution_count": 46,
   "id": "b9194b91",
   "metadata": {
    "execution": {
     "iopub.execute_input": "2024-04-21T12:48:44.704924Z",
     "iopub.status.busy": "2024-04-21T12:48:44.704529Z",
     "iopub.status.idle": "2024-04-21T12:48:44.710554Z",
     "shell.execute_reply": "2024-04-21T12:48:44.709598Z"
    },
    "papermill": {
     "duration": 0.042607,
     "end_time": "2024-04-21T12:48:44.712716",
     "exception": false,
     "start_time": "2024-04-21T12:48:44.670109",
     "status": "completed"
    },
    "tags": []
   },
   "outputs": [],
   "source": [
    "df_titanic_corr_tr = df_titanic_corr_tr.drop(columns = ['Ticket','Cabin','Name'])"
   ]
  },
  {
   "cell_type": "code",
   "execution_count": 47,
   "id": "13cebfa3",
   "metadata": {
    "execution": {
     "iopub.execute_input": "2024-04-21T12:48:44.777170Z",
     "iopub.status.busy": "2024-04-21T12:48:44.776751Z",
     "iopub.status.idle": "2024-04-21T12:48:44.792334Z",
     "shell.execute_reply": "2024-04-21T12:48:44.791155Z"
    },
    "papermill": {
     "duration": 0.050763,
     "end_time": "2024-04-21T12:48:44.794640",
     "exception": false,
     "start_time": "2024-04-21T12:48:44.743877",
     "status": "completed"
    },
    "tags": []
   },
   "outputs": [
    {
     "data": {
      "text/html": [
       "<div>\n",
       "<style scoped>\n",
       "    .dataframe tbody tr th:only-of-type {\n",
       "        vertical-align: middle;\n",
       "    }\n",
       "\n",
       "    .dataframe tbody tr th {\n",
       "        vertical-align: top;\n",
       "    }\n",
       "\n",
       "    .dataframe thead th {\n",
       "        text-align: right;\n",
       "    }\n",
       "</style>\n",
       "<table border=\"1\" class=\"dataframe\">\n",
       "  <thead>\n",
       "    <tr style=\"text-align: right;\">\n",
       "      <th></th>\n",
       "      <th>PassengerId</th>\n",
       "      <th>Survived</th>\n",
       "      <th>Pclass</th>\n",
       "      <th>Age</th>\n",
       "      <th>SibSp</th>\n",
       "      <th>Parch</th>\n",
       "      <th>Fare</th>\n",
       "      <th>Embarked_C</th>\n",
       "      <th>Embarked_Q</th>\n",
       "      <th>Embarked_S</th>\n",
       "      <th>Sex_female</th>\n",
       "      <th>Sex_male</th>\n",
       "      <th>Cabin_ind</th>\n",
       "    </tr>\n",
       "  </thead>\n",
       "  <tbody>\n",
       "    <tr>\n",
       "      <th>886</th>\n",
       "      <td>887</td>\n",
       "      <td>0</td>\n",
       "      <td>2</td>\n",
       "      <td>27.0</td>\n",
       "      <td>0</td>\n",
       "      <td>0</td>\n",
       "      <td>13.00</td>\n",
       "      <td>0</td>\n",
       "      <td>0</td>\n",
       "      <td>1</td>\n",
       "      <td>0</td>\n",
       "      <td>1</td>\n",
       "      <td>0</td>\n",
       "    </tr>\n",
       "    <tr>\n",
       "      <th>887</th>\n",
       "      <td>888</td>\n",
       "      <td>1</td>\n",
       "      <td>1</td>\n",
       "      <td>19.0</td>\n",
       "      <td>0</td>\n",
       "      <td>0</td>\n",
       "      <td>30.00</td>\n",
       "      <td>0</td>\n",
       "      <td>0</td>\n",
       "      <td>1</td>\n",
       "      <td>1</td>\n",
       "      <td>0</td>\n",
       "      <td>1</td>\n",
       "    </tr>\n",
       "    <tr>\n",
       "      <th>888</th>\n",
       "      <td>889</td>\n",
       "      <td>0</td>\n",
       "      <td>3</td>\n",
       "      <td>NaN</td>\n",
       "      <td>1</td>\n",
       "      <td>2</td>\n",
       "      <td>23.45</td>\n",
       "      <td>0</td>\n",
       "      <td>0</td>\n",
       "      <td>1</td>\n",
       "      <td>1</td>\n",
       "      <td>0</td>\n",
       "      <td>0</td>\n",
       "    </tr>\n",
       "    <tr>\n",
       "      <th>889</th>\n",
       "      <td>890</td>\n",
       "      <td>1</td>\n",
       "      <td>1</td>\n",
       "      <td>26.0</td>\n",
       "      <td>0</td>\n",
       "      <td>0</td>\n",
       "      <td>30.00</td>\n",
       "      <td>1</td>\n",
       "      <td>0</td>\n",
       "      <td>0</td>\n",
       "      <td>0</td>\n",
       "      <td>1</td>\n",
       "      <td>1</td>\n",
       "    </tr>\n",
       "    <tr>\n",
       "      <th>890</th>\n",
       "      <td>891</td>\n",
       "      <td>0</td>\n",
       "      <td>3</td>\n",
       "      <td>32.0</td>\n",
       "      <td>0</td>\n",
       "      <td>0</td>\n",
       "      <td>7.75</td>\n",
       "      <td>0</td>\n",
       "      <td>1</td>\n",
       "      <td>0</td>\n",
       "      <td>0</td>\n",
       "      <td>1</td>\n",
       "      <td>0</td>\n",
       "    </tr>\n",
       "  </tbody>\n",
       "</table>\n",
       "</div>"
      ],
      "text/plain": [
       "     PassengerId  Survived  Pclass   Age  SibSp  Parch   Fare  Embarked_C  \\\n",
       "886          887         0       2  27.0      0      0  13.00           0   \n",
       "887          888         1       1  19.0      0      0  30.00           0   \n",
       "888          889         0       3   NaN      1      2  23.45           0   \n",
       "889          890         1       1  26.0      0      0  30.00           1   \n",
       "890          891         0       3  32.0      0      0   7.75           0   \n",
       "\n",
       "     Embarked_Q  Embarked_S  Sex_female  Sex_male  Cabin_ind  \n",
       "886           0           1           0         1          0  \n",
       "887           0           1           1         0          1  \n",
       "888           0           1           1         0          0  \n",
       "889           0           0           0         1          1  \n",
       "890           1           0           0         1          0  "
      ]
     },
     "execution_count": 47,
     "metadata": {},
     "output_type": "execute_result"
    }
   ],
   "source": [
    "df_titanic_corr_tr.tail(5)"
   ]
  },
  {
   "cell_type": "code",
   "execution_count": 48,
   "id": "1eb5b37c",
   "metadata": {
    "execution": {
     "iopub.execute_input": "2024-04-21T12:48:44.860483Z",
     "iopub.status.busy": "2024-04-21T12:48:44.859791Z",
     "iopub.status.idle": "2024-04-21T12:48:44.865460Z",
     "shell.execute_reply": "2024-04-21T12:48:44.864628Z"
    },
    "papermill": {
     "duration": 0.041578,
     "end_time": "2024-04-21T12:48:44.867890",
     "exception": false,
     "start_time": "2024-04-21T12:48:44.826312",
     "status": "completed"
    },
    "tags": []
   },
   "outputs": [],
   "source": [
    "df_titanic_corr_tr_heat = df_titanic_corr_tr.corr()"
   ]
  },
  {
   "cell_type": "code",
   "execution_count": 49,
   "id": "17c89980",
   "metadata": {
    "execution": {
     "iopub.execute_input": "2024-04-21T12:48:44.933854Z",
     "iopub.status.busy": "2024-04-21T12:48:44.933194Z",
     "iopub.status.idle": "2024-04-21T12:48:45.828181Z",
     "shell.execute_reply": "2024-04-21T12:48:45.826982Z"
    },
    "papermill": {
     "duration": 0.930726,
     "end_time": "2024-04-21T12:48:45.830879",
     "exception": false,
     "start_time": "2024-04-21T12:48:44.900153",
     "status": "completed"
    },
    "tags": []
   },
   "outputs": [
    {
     "data": {
      "text/plain": [
       "<Axes: >"
      ]
     },
     "execution_count": 49,
     "metadata": {},
     "output_type": "execute_result"
    },
    {
     "data": {
      "image/png": "[encoded data removed]",
      "text/plain": [
       "<Figure size 1000x600 with 2 Axes>"
      ]
     },
     "metadata": {},
     "output_type": "display_data"
    }
   ],
   "source": [
    "plt.figure(figsize=(10,6))\n",
    "sns.heatmap(df_titanic_corr_tr_heat,annot=True)"
   ]
  },
  {
   "cell_type": "code",
   "execution_count": 50,
   "id": "2b8b7e55",
   "metadata": {
    "execution": {
     "iopub.execute_input": "2024-04-21T12:48:45.900970Z",
     "iopub.status.busy": "2024-04-21T12:48:45.900588Z",
     "iopub.status.idle": "2024-04-21T12:48:45.906104Z",
     "shell.execute_reply": "2024-04-21T12:48:45.905329Z"
    },
    "papermill": {
     "duration": 0.043041,
     "end_time": "2024-04-21T12:48:45.908316",
     "exception": false,
     "start_time": "2024-04-21T12:48:45.865275",
     "status": "completed"
    },
    "tags": []
   },
   "outputs": [],
   "source": [
    "#Splitting Data\n",
    "Y = df_titanic_corr_tr['Survived']\n",
    "X = df_titanic_corr_tr.drop(columns='Survived')"
   ]
  },
  {
   "cell_type": "code",
   "execution_count": 51,
   "id": "b2ef744d",
   "metadata": {
    "execution": {
     "iopub.execute_input": "2024-04-21T12:48:45.980189Z",
     "iopub.status.busy": "2024-04-21T12:48:45.978324Z",
     "iopub.status.idle": "2024-04-21T12:48:45.985585Z",
     "shell.execute_reply": "2024-04-21T12:48:45.984764Z"
    },
    "papermill": {
     "duration": 0.045462,
     "end_time": "2024-04-21T12:48:45.987841",
     "exception": false,
     "start_time": "2024-04-21T12:48:45.942379",
     "status": "completed"
    },
    "tags": []
   },
   "outputs": [],
   "source": [
    "X_train,X_test,Y_train,Y_test = train_test_split(X,Y,test_size=0.2)"
   ]
  },
  {
   "cell_type": "code",
   "execution_count": 52,
   "id": "25fcf1b7",
   "metadata": {
    "execution": {
     "iopub.execute_input": "2024-04-21T12:48:46.061739Z",
     "iopub.status.busy": "2024-04-21T12:48:46.060712Z",
     "iopub.status.idle": "2024-04-21T12:48:46.091277Z",
     "shell.execute_reply": "2024-04-21T12:48:46.090414Z"
    },
    "papermill": {
     "duration": 0.069606,
     "end_time": "2024-04-21T12:48:46.093551",
     "exception": false,
     "start_time": "2024-04-21T12:48:46.023945",
     "status": "completed"
    },
    "tags": []
   },
   "outputs": [
    {
     "data": {
      "text/html": [
       "<style>#sk-container-id-2 {color: black;background-color: white;}#sk-container-id-2 pre{padding: 0;}#sk-container-id-2 div.sk-toggleable {background-color: white;}#sk-container-id-2 label.sk-toggleable__label {cursor: pointer;display: block;width: 100%;margin-bottom: 0;padding: 0.3em;box-sizing: border-box;text-align: center;}#sk-container-id-2 label.sk-toggleable__label-arrow:before {content: \"▸\";float: left;margin-right: 0.25em;color: #696969;}#sk-container-id-2 label.sk-toggleable__label-arrow:hover:before {color: black;}#sk-container-id-2 div.sk-estimator:hover label.sk-toggleable__label-arrow:before {color: black;}#sk-container-id-2 div.sk-toggleable__content {max-height: 0;max-width: 0;overflow: hidden;text-align: left;background-color: #f0f8ff;}#sk-container-id-2 div.sk-toggleable__content pre {margin: 0.2em;color: black;border-radius: 0.25em;background-color: #f0f8ff;}#sk-container-id-2 input.sk-toggleable__control:checked~div.sk-toggleable__content {max-height: 200px;max-width: 100%;overflow: auto;}#sk-container-id-2 input.sk-toggleable__control:checked~label.sk-toggleable__label-arrow:before {content: \"▾\";}#sk-container-id-2 div.sk-estimator input.sk-toggleable__control:checked~label.sk-toggleable__label {background-color: #d4ebff;}#sk-container-id-2 div.sk-label input.sk-toggleable__control:checked~label.sk-toggleable__label {background-color: #d4ebff;}#sk-container-id-2 input.sk-hidden--visually {border: 0;clip: rect(1px 1px 1px 1px);clip: rect(1px, 1px, 1px, 1px);height: 1px;margin: -1px;overflow: hidden;padding: 0;position: absolute;width: 1px;}#sk-container-id-2 div.sk-estimator {font-family: monospace;background-color: #f0f8ff;border: 1px dotted black;border-radius: 0.25em;box-sizing: border-box;margin-bottom: 0.5em;}#sk-container-id-2 div.sk-estimator:hover {background-color: #d4ebff;}#sk-container-id-2 div.sk-parallel-item::after {content: \"\";width: 100%;border-bottom: 1px solid gray;flex-grow: 1;}#sk-container-id-2 div.sk-label:hover label.sk-toggleable__label {background-color: #d4ebff;}#sk-container-id-2 div.sk-serial::before {content: \"\";position: absolute;border-left: 1px solid gray;box-sizing: border-box;top: 0;bottom: 0;left: 50%;z-index: 0;}#sk-container-id-2 div.sk-serial {display: flex;flex-direction: column;align-items: center;background-color: white;padding-right: 0.2em;padding-left: 0.2em;position: relative;}#sk-container-id-2 div.sk-item {position: relative;z-index: 1;}#sk-container-id-2 div.sk-parallel {display: flex;align-items: stretch;justify-content: center;background-color: white;position: relative;}#sk-container-id-2 div.sk-item::before, #sk-container-id-2 div.sk-parallel-item::before {content: \"\";position: absolute;border-left: 1px solid gray;box-sizing: border-box;top: 0;bottom: 0;left: 50%;z-index: -1;}#sk-container-id-2 div.sk-parallel-item {display: flex;flex-direction: column;z-index: 1;position: relative;background-color: white;}#sk-container-id-2 div.sk-parallel-item:first-child::after {align-self: flex-end;width: 50%;}#sk-container-id-2 div.sk-parallel-item:last-child::after {align-self: flex-start;width: 50%;}#sk-container-id-2 div.sk-parallel-item:only-child::after {width: 0;}#sk-container-id-2 div.sk-dashed-wrapped {border: 1px dashed gray;margin: 0 0.4em 0.5em 0.4em;box-sizing: border-box;padding-bottom: 0.4em;background-color: white;}#sk-container-id-2 div.sk-label label {font-family: monospace;font-weight: bold;display: inline-block;line-height: 1.2em;}#sk-container-id-2 div.sk-label-container {text-align: center;}#sk-container-id-2 div.sk-container {/* jupyter's `normalize.less` sets `[hidden] { display: none; }` but bootstrap.min.css set `[hidden] { display: none !important; }` so we also need the `!important` here to be able to override the default hidden behavior on the sphinx rendered scikit-learn.org. See: https://github.com/scikit-learn/scikit-learn/issues/21755 */display: inline-block !important;position: relative;}#sk-container-id-2 div.sk-text-repr-fallback {display: none;}</style><div id=\"sk-container-id-2\" class=\"sk-top-container\"><div class=\"sk-text-repr-fallback\"><pre>XGBClassifier(base_score=None, booster=None, callbacks=None,\n",
       "              colsample_bylevel=None, colsample_bynode=None,\n",
       "              colsample_bytree=None, device=None, early_stopping_rounds=None,\n",
       "              enable_categorical=False, eval_metric=None, feature_types=None,\n",
       "              gamma=None, grow_policy=None, importance_type=None,\n",
       "              interaction_constraints=None, learning_rate=0.1, max_bin=None,\n",
       "              max_cat_threshold=None, max_cat_to_onehot=None,\n",
       "              max_delta_step=None, max_depth=3, max_leaves=None,\n",
       "              min_child_weight=None, missing=nan, monotone_constraints=None,\n",
       "              multi_strategy=None, n_estimators=10, n_jobs=None,\n",
       "              num_parallel_tree=None, random_state=None, ...)</pre><b>In a Jupyter environment, please rerun this cell to show the HTML representation or trust the notebook. <br />On GitHub, the HTML representation is unable to render, please try loading this page with nbviewer.org.</b></div><div class=\"sk-container\" hidden><div class=\"sk-item\"><div class=\"sk-estimator sk-toggleable\"><input class=\"sk-toggleable__control sk-hidden--visually\" id=\"sk-estimator-id-2\" type=\"checkbox\" checked><label for=\"sk-estimator-id-2\" class=\"sk-toggleable__label sk-toggleable__label-arrow\">XGBClassifier</label><div class=\"sk-toggleable__content\"><pre>XGBClassifier(base_score=None, booster=None, callbacks=None,\n",
       "              colsample_bylevel=None, colsample_bynode=None,\n",
       "              colsample_bytree=None, device=None, early_stopping_rounds=None,\n",
       "              enable_categorical=False, eval_metric=None, feature_types=None,\n",
       "              gamma=None, grow_policy=None, importance_type=None,\n",
       "              interaction_constraints=None, learning_rate=0.1, max_bin=None,\n",
       "              max_cat_threshold=None, max_cat_to_onehot=None,\n",
       "              max_delta_step=None, max_depth=3, max_leaves=None,\n",
       "              min_child_weight=None, missing=nan, monotone_constraints=None,\n",
       "              multi_strategy=None, n_estimators=10, n_jobs=None,\n",
       "              num_parallel_tree=None, random_state=None, ...)</pre></div></div></div></div></div>"
      ],
      "text/plain": [
       "XGBClassifier(base_score=None, booster=None, callbacks=None,\n",
       "              colsample_bylevel=None, colsample_bynode=None,\n",
       "              colsample_bytree=None, device=None, early_stopping_rounds=None,\n",
       "              enable_categorical=False, eval_metric=None, feature_types=None,\n",
       "              gamma=None, grow_policy=None, importance_type=None,\n",
       "              interaction_constraints=None, learning_rate=0.1, max_bin=None,\n",
       "              max_cat_threshold=None, max_cat_to_onehot=None,\n",
       "              max_delta_step=None, max_depth=3, max_leaves=None,\n",
       "              min_child_weight=None, missing=nan, monotone_constraints=None,\n",
       "              multi_strategy=None, n_estimators=10, n_jobs=None,\n",
       "              num_parallel_tree=None, random_state=None, ...)"
      ]
     },
     "execution_count": 52,
     "metadata": {},
     "output_type": "execute_result"
    }
   ],
   "source": [
    "xgb_classifier_titanic = XGBClassifier(objective='binary:logistic',n_estimators=10,max_depth=3,learning_rate=0.1)\n",
    "xgb_classifier_titanic.fit(X_train,Y_train)"
   ]
  },
  {
   "cell_type": "code",
   "execution_count": 53,
   "id": "1a0fd893",
   "metadata": {
    "execution": {
     "iopub.execute_input": "2024-04-21T12:48:46.165421Z",
     "iopub.status.busy": "2024-04-21T12:48:46.164632Z",
     "iopub.status.idle": "2024-04-21T12:48:46.178488Z",
     "shell.execute_reply": "2024-04-21T12:48:46.177315Z"
    },
    "papermill": {
     "duration": 0.052425,
     "end_time": "2024-04-21T12:48:46.180963",
     "exception": false,
     "start_time": "2024-04-21T12:48:46.128538",
     "status": "completed"
    },
    "tags": []
   },
   "outputs": [
    {
     "name": "stdout",
     "output_type": "stream",
     "text": [
      "Accuracy: 0.7988826815642458\n"
     ]
    }
   ],
   "source": [
    " results = xgb_classifier_titanic.score(X_test,Y_test)\n",
    "print('Accuracy: {}'.format(results))"
   ]
  },
  {
   "cell_type": "code",
   "execution_count": 54,
   "id": "b013851c",
   "metadata": {
    "execution": {
     "iopub.execute_input": "2024-04-21T12:48:46.253038Z",
     "iopub.status.busy": "2024-04-21T12:48:46.252235Z",
     "iopub.status.idle": "2024-04-21T12:48:46.266473Z",
     "shell.execute_reply": "2024-04-21T12:48:46.265558Z"
    },
    "papermill": {
     "duration": 0.053164,
     "end_time": "2024-04-21T12:48:46.269243",
     "exception": false,
     "start_time": "2024-04-21T12:48:46.216079",
     "status": "completed"
    },
    "tags": []
   },
   "outputs": [
    {
     "data": {
      "text/plain": [
       "array([1, 1, 0, 0, 0, 0, 0, 0, 0, 0, 0, 1, 0, 0, 0, 0, 0, 0, 0, 0, 1, 1,\n",
       "       0, 0, 1, 0, 0, 0, 0, 0, 0, 1, 0, 0, 0, 1, 0, 0, 1, 0, 0, 0, 0, 0,\n",
       "       0, 0, 1, 0, 1, 1, 0, 0, 1, 1, 0, 0, 0, 0, 0, 0, 0, 1, 1, 1, 1, 0,\n",
       "       0, 1, 1, 0, 0, 0, 0, 0, 1, 1, 0, 0, 0, 0, 0, 0, 1, 0, 0, 0, 1, 1,\n",
       "       0, 1, 0, 0, 0, 1, 0, 0, 0, 1, 0, 0, 0, 1, 0, 1, 0, 1, 1, 1, 1, 0,\n",
       "       0, 1, 0, 0, 0, 0, 1, 1, 0, 0, 1, 0, 0, 0, 0, 0, 1, 0, 1, 1, 0, 0,\n",
       "       1, 1, 0, 1, 0, 1, 0, 1, 1, 0, 0, 1, 0, 1, 0, 0, 0, 0, 0, 1, 1, 1,\n",
       "       0, 0, 0, 0, 1, 0, 0, 0, 0, 1, 1, 0, 0, 1, 0, 1, 0, 1, 0, 0, 0, 0,\n",
       "       0, 0, 0])"
      ]
     },
     "execution_count": 54,
     "metadata": {},
     "output_type": "execute_result"
    }
   ],
   "source": [
    "y_predictor = xgb_classifier_titanic.predict(X_test)\n",
    "y_predictor"
   ]
  },
  {
   "cell_type": "code",
   "execution_count": 55,
   "id": "3d3374fd",
   "metadata": {
    "execution": {
     "iopub.execute_input": "2024-04-21T12:48:46.341312Z",
     "iopub.status.busy": "2024-04-21T12:48:46.340812Z",
     "iopub.status.idle": "2024-04-21T12:48:46.353776Z",
     "shell.execute_reply": "2024-04-21T12:48:46.352788Z"
    },
    "papermill": {
     "duration": 0.052374,
     "end_time": "2024-04-21T12:48:46.356308",
     "exception": false,
     "start_time": "2024-04-21T12:48:46.303934",
     "status": "completed"
    },
    "tags": []
   },
   "outputs": [
    {
     "name": "stdout",
     "output_type": "stream",
     "text": [
      "              precision    recall  f1-score   support\n",
      "\n",
      "           0       0.82      0.88      0.85       113\n",
      "           1       0.76      0.67      0.71        66\n",
      "\n",
      "    accuracy                           0.80       179\n",
      "   macro avg       0.79      0.77      0.78       179\n",
      "weighted avg       0.80      0.80      0.80       179\n",
      "\n"
     ]
    }
   ],
   "source": [
    "from sklearn.metrics import classification_report\n",
    "print(classification_report(Y_test,y_predictor))"
   ]
  },
  {
   "cell_type": "code",
   "execution_count": 56,
   "id": "a2cc5fa2",
   "metadata": {
    "execution": {
     "iopub.execute_input": "2024-04-21T12:48:46.427593Z",
     "iopub.status.busy": "2024-04-21T12:48:46.427187Z",
     "iopub.status.idle": "2024-04-21T12:48:46.724471Z",
     "shell.execute_reply": "2024-04-21T12:48:46.723207Z"
    },
    "papermill": {
     "duration": 0.335707,
     "end_time": "2024-04-21T12:48:46.726980",
     "exception": false,
     "start_time": "2024-04-21T12:48:46.391273",
     "status": "completed"
    },
    "tags": []
   },
   "outputs": [
    {
     "data": {
      "text/plain": [
       "<Axes: >"
      ]
     },
     "execution_count": 56,
     "metadata": {},
     "output_type": "execute_result"
    },
    {
     "data": {
      "image/png": "[encoded data removed]",
      "text/plain": [
       "<Figure size 1000x600 with 2 Axes>"
      ]
     },
     "metadata": {},
     "output_type": "display_data"
    }
   ],
   "source": [
    "from sklearn.metrics import confusion_matrix\n",
    "cm = confusion_matrix(Y_test,y_predictor)\n",
    "plt.figure(figsize=(10,6))\n",
    "sns.heatmap(cm,fmt='d',annot=True)"
   ]
  },
  {
   "cell_type": "markdown",
   "id": "a8500db6",
   "metadata": {
    "papermill": {
     "duration": 0.034655,
     "end_time": "2024-04-21T12:48:46.797895",
     "exception": false,
     "start_time": "2024-04-21T12:48:46.763240",
     "status": "completed"
    },
    "tags": []
   },
   "source": [
    "### Cleaning test model"
   ]
  },
  {
   "cell_type": "code",
   "execution_count": 57,
   "id": "380cf5bd",
   "metadata": {
    "execution": {
     "iopub.execute_input": "2024-04-21T12:48:46.869778Z",
     "iopub.status.busy": "2024-04-21T12:48:46.869361Z",
     "iopub.status.idle": "2024-04-21T12:48:46.884553Z",
     "shell.execute_reply": "2024-04-21T12:48:46.883406Z"
    },
    "papermill": {
     "duration": 0.053878,
     "end_time": "2024-04-21T12:48:46.886934",
     "exception": false,
     "start_time": "2024-04-21T12:48:46.833056",
     "status": "completed"
    },
    "tags": []
   },
   "outputs": [
    {
     "data": {
      "text/html": [
       "<div>\n",
       "<style scoped>\n",
       "    .dataframe tbody tr th:only-of-type {\n",
       "        vertical-align: middle;\n",
       "    }\n",
       "\n",
       "    .dataframe tbody tr th {\n",
       "        vertical-align: top;\n",
       "    }\n",
       "\n",
       "    .dataframe thead th {\n",
       "        text-align: right;\n",
       "    }\n",
       "</style>\n",
       "<table border=\"1\" class=\"dataframe\">\n",
       "  <thead>\n",
       "    <tr style=\"text-align: right;\">\n",
       "      <th></th>\n",
       "      <th>PassengerId</th>\n",
       "      <th>Pclass</th>\n",
       "      <th>Name</th>\n",
       "      <th>Sex</th>\n",
       "      <th>Age</th>\n",
       "      <th>SibSp</th>\n",
       "      <th>Parch</th>\n",
       "      <th>Ticket</th>\n",
       "      <th>Fare</th>\n",
       "      <th>Cabin</th>\n",
       "      <th>Embarked</th>\n",
       "    </tr>\n",
       "  </thead>\n",
       "  <tbody>\n",
       "    <tr>\n",
       "      <th>0</th>\n",
       "      <td>892</td>\n",
       "      <td>3</td>\n",
       "      <td>Kelly, Mr. James</td>\n",
       "      <td>male</td>\n",
       "      <td>34.5</td>\n",
       "      <td>0</td>\n",
       "      <td>0</td>\n",
       "      <td>330911</td>\n",
       "      <td>7.8292</td>\n",
       "      <td>NaN</td>\n",
       "      <td>Q</td>\n",
       "    </tr>\n",
       "    <tr>\n",
       "      <th>1</th>\n",
       "      <td>893</td>\n",
       "      <td>3</td>\n",
       "      <td>Wilkes, Mrs. James (Ellen Needs)</td>\n",
       "      <td>female</td>\n",
       "      <td>47.0</td>\n",
       "      <td>1</td>\n",
       "      <td>0</td>\n",
       "      <td>363272</td>\n",
       "      <td>7.0000</td>\n",
       "      <td>NaN</td>\n",
       "      <td>S</td>\n",
       "    </tr>\n",
       "    <tr>\n",
       "      <th>2</th>\n",
       "      <td>894</td>\n",
       "      <td>2</td>\n",
       "      <td>Myles, Mr. Thomas Francis</td>\n",
       "      <td>male</td>\n",
       "      <td>62.0</td>\n",
       "      <td>0</td>\n",
       "      <td>0</td>\n",
       "      <td>240276</td>\n",
       "      <td>9.6875</td>\n",
       "      <td>NaN</td>\n",
       "      <td>Q</td>\n",
       "    </tr>\n",
       "    <tr>\n",
       "      <th>3</th>\n",
       "      <td>895</td>\n",
       "      <td>3</td>\n",
       "      <td>Wirz, Mr. Albert</td>\n",
       "      <td>male</td>\n",
       "      <td>27.0</td>\n",
       "      <td>0</td>\n",
       "      <td>0</td>\n",
       "      <td>315154</td>\n",
       "      <td>8.6625</td>\n",
       "      <td>NaN</td>\n",
       "      <td>S</td>\n",
       "    </tr>\n",
       "    <tr>\n",
       "      <th>4</th>\n",
       "      <td>896</td>\n",
       "      <td>3</td>\n",
       "      <td>Hirvonen, Mrs. Alexander (Helga E Lindqvist)</td>\n",
       "      <td>female</td>\n",
       "      <td>22.0</td>\n",
       "      <td>1</td>\n",
       "      <td>1</td>\n",
       "      <td>3101298</td>\n",
       "      <td>12.2875</td>\n",
       "      <td>NaN</td>\n",
       "      <td>S</td>\n",
       "    </tr>\n",
       "  </tbody>\n",
       "</table>\n",
       "</div>"
      ],
      "text/plain": [
       "   PassengerId  Pclass                                          Name     Sex  \\\n",
       "0          892       3                              Kelly, Mr. James    male   \n",
       "1          893       3              Wilkes, Mrs. James (Ellen Needs)  female   \n",
       "2          894       2                     Myles, Mr. Thomas Francis    male   \n",
       "3          895       3                              Wirz, Mr. Albert    male   \n",
       "4          896       3  Hirvonen, Mrs. Alexander (Helga E Lindqvist)  female   \n",
       "\n",
       "    Age  SibSp  Parch   Ticket     Fare Cabin Embarked  \n",
       "0  34.5      0      0   330911   7.8292   NaN        Q  \n",
       "1  47.0      1      0   363272   7.0000   NaN        S  \n",
       "2  62.0      0      0   240276   9.6875   NaN        Q  \n",
       "3  27.0      0      0   315154   8.6625   NaN        S  \n",
       "4  22.0      1      1  3101298  12.2875   NaN        S  "
      ]
     },
     "execution_count": 57,
     "metadata": {},
     "output_type": "execute_result"
    }
   ],
   "source": [
    "df_titanic_test.head()"
   ]
  },
  {
   "cell_type": "code",
   "execution_count": 58,
   "id": "4875f420",
   "metadata": {
    "execution": {
     "iopub.execute_input": "2024-04-21T12:48:46.960611Z",
     "iopub.status.busy": "2024-04-21T12:48:46.959924Z",
     "iopub.status.idle": "2024-04-21T12:48:46.968791Z",
     "shell.execute_reply": "2024-04-21T12:48:46.967717Z"
    },
    "papermill": {
     "duration": 0.048135,
     "end_time": "2024-04-21T12:48:46.971314",
     "exception": false,
     "start_time": "2024-04-21T12:48:46.923179",
     "status": "completed"
    },
    "tags": []
   },
   "outputs": [],
   "source": [
    "columns_to_encode_test = ['Embarked', 'Sex']\n",
    "columns_to_keep_test = ['PassengerId', 'Pclass', 'Name', 'Age', 'SibSp', 'Parch', 'Ticket', 'Fare', 'Cabin']\n",
    "df_titanic_encoded_test = pd.get_dummies(df_titanic_test[columns_to_encode_test])"
   ]
  },
  {
   "cell_type": "code",
   "execution_count": 59,
   "id": "fd93990b",
   "metadata": {
    "execution": {
     "iopub.execute_input": "2024-04-21T12:48:47.043540Z",
     "iopub.status.busy": "2024-04-21T12:48:47.043180Z",
     "iopub.status.idle": "2024-04-21T12:48:47.049760Z",
     "shell.execute_reply": "2024-04-21T12:48:47.048763Z"
    },
    "papermill": {
     "duration": 0.045393,
     "end_time": "2024-04-21T12:48:47.051863",
     "exception": false,
     "start_time": "2024-04-21T12:48:47.006470",
     "status": "completed"
    },
    "tags": []
   },
   "outputs": [],
   "source": [
    "df_titanic_corr_test = pd.concat([df_titanic_test[columns_to_keep_test], df_titanic_encoded_test], axis=1)"
   ]
  },
  {
   "cell_type": "code",
   "execution_count": 60,
   "id": "9cc22b27",
   "metadata": {
    "execution": {
     "iopub.execute_input": "2024-04-21T12:48:47.124988Z",
     "iopub.status.busy": "2024-04-21T12:48:47.124102Z",
     "iopub.status.idle": "2024-04-21T12:48:47.133243Z",
     "shell.execute_reply": "2024-04-21T12:48:47.131960Z"
    },
    "papermill": {
     "duration": 0.049201,
     "end_time": "2024-04-21T12:48:47.136092",
     "exception": false,
     "start_time": "2024-04-21T12:48:47.086891",
     "status": "completed"
    },
    "tags": []
   },
   "outputs": [],
   "source": [
    "df_titanic_corr_test[['Embarked_C', 'Embarked_Q','Embarked_S', 'Sex_female', 'Sex_male']] = df_titanic_corr_test[['Embarked_C', 'Embarked_Q','Embarked_S', 'Sex_female', 'Sex_male']].astype('int64')"
   ]
  },
  {
   "cell_type": "code",
   "execution_count": 61,
   "id": "e518afda",
   "metadata": {
    "execution": {
     "iopub.execute_input": "2024-04-21T12:48:47.210778Z",
     "iopub.status.busy": "2024-04-21T12:48:47.209722Z",
     "iopub.status.idle": "2024-04-21T12:48:47.217023Z",
     "shell.execute_reply": "2024-04-21T12:48:47.215774Z"
    },
    "papermill": {
     "duration": 0.047731,
     "end_time": "2024-04-21T12:48:47.219577",
     "exception": false,
     "start_time": "2024-04-21T12:48:47.171846",
     "status": "completed"
    },
    "tags": []
   },
   "outputs": [],
   "source": [
    "df_titanic_corr_test['Cabin_ind'] = df_titanic_test['Cabin'].fillna(0).apply(lambda x: 1 if x != 0 else 0)"
   ]
  },
  {
   "cell_type": "code",
   "execution_count": 62,
   "id": "71294513",
   "metadata": {
    "execution": {
     "iopub.execute_input": "2024-04-21T12:48:47.293936Z",
     "iopub.status.busy": "2024-04-21T12:48:47.293541Z",
     "iopub.status.idle": "2024-04-21T12:48:47.299491Z",
     "shell.execute_reply": "2024-04-21T12:48:47.298280Z"
    },
    "papermill": {
     "duration": 0.04502,
     "end_time": "2024-04-21T12:48:47.301511",
     "exception": false,
     "start_time": "2024-04-21T12:48:47.256491",
     "status": "completed"
    },
    "tags": []
   },
   "outputs": [],
   "source": [
    "df_titanic_corr_test = df_titanic_corr_test.drop(columns = ['Ticket','Cabin','Name'])"
   ]
  },
  {
   "cell_type": "code",
   "execution_count": 63,
   "id": "62ade6dd",
   "metadata": {
    "execution": {
     "iopub.execute_input": "2024-04-21T12:48:47.374769Z",
     "iopub.status.busy": "2024-04-21T12:48:47.374023Z",
     "iopub.status.idle": "2024-04-21T12:48:47.386185Z",
     "shell.execute_reply": "2024-04-21T12:48:47.385321Z"
    },
    "papermill": {
     "duration": 0.050772,
     "end_time": "2024-04-21T12:48:47.388181",
     "exception": false,
     "start_time": "2024-04-21T12:48:47.337409",
     "status": "completed"
    },
    "tags": []
   },
   "outputs": [
    {
     "data": {
      "text/html": [
       "<div>\n",
       "<style scoped>\n",
       "    .dataframe tbody tr th:only-of-type {\n",
       "        vertical-align: middle;\n",
       "    }\n",
       "\n",
       "    .dataframe tbody tr th {\n",
       "        vertical-align: top;\n",
       "    }\n",
       "\n",
       "    .dataframe thead th {\n",
       "        text-align: right;\n",
       "    }\n",
       "</style>\n",
       "<table border=\"1\" class=\"dataframe\">\n",
       "  <thead>\n",
       "    <tr style=\"text-align: right;\">\n",
       "      <th></th>\n",
       "      <th>PassengerId</th>\n",
       "      <th>Pclass</th>\n",
       "      <th>Age</th>\n",
       "      <th>SibSp</th>\n",
       "      <th>Parch</th>\n",
       "      <th>Fare</th>\n",
       "      <th>Embarked_C</th>\n",
       "      <th>Embarked_Q</th>\n",
       "      <th>Embarked_S</th>\n",
       "      <th>Sex_female</th>\n",
       "      <th>Sex_male</th>\n",
       "      <th>Cabin_ind</th>\n",
       "    </tr>\n",
       "  </thead>\n",
       "  <tbody>\n",
       "    <tr>\n",
       "      <th>417</th>\n",
       "      <td>1309</td>\n",
       "      <td>3</td>\n",
       "      <td>NaN</td>\n",
       "      <td>1</td>\n",
       "      <td>1</td>\n",
       "      <td>22.3583</td>\n",
       "      <td>1</td>\n",
       "      <td>0</td>\n",
       "      <td>0</td>\n",
       "      <td>0</td>\n",
       "      <td>1</td>\n",
       "      <td>0</td>\n",
       "    </tr>\n",
       "  </tbody>\n",
       "</table>\n",
       "</div>"
      ],
      "text/plain": [
       "     PassengerId  Pclass  Age  SibSp  Parch     Fare  Embarked_C  Embarked_Q  \\\n",
       "417         1309       3  NaN      1      1  22.3583           1           0   \n",
       "\n",
       "     Embarked_S  Sex_female  Sex_male  Cabin_ind  \n",
       "417           0           0         1          0  "
      ]
     },
     "execution_count": 63,
     "metadata": {},
     "output_type": "execute_result"
    }
   ],
   "source": [
    "df_titanic_corr_test.tail(1)"
   ]
  },
  {
   "cell_type": "code",
   "execution_count": 64,
   "id": "16554bce",
   "metadata": {
    "execution": {
     "iopub.execute_input": "2024-04-21T12:48:47.462168Z",
     "iopub.status.busy": "2024-04-21T12:48:47.461241Z",
     "iopub.status.idle": "2024-04-21T12:48:47.476113Z",
     "shell.execute_reply": "2024-04-21T12:48:47.475020Z"
    },
    "papermill": {
     "duration": 0.054692,
     "end_time": "2024-04-21T12:48:47.478806",
     "exception": false,
     "start_time": "2024-04-21T12:48:47.424114",
     "status": "completed"
    },
    "tags": []
   },
   "outputs": [],
   "source": [
    "y_test_set = xgb_classifier_titanic.predict(df_titanic_corr_test)"
   ]
  },
  {
   "cell_type": "code",
   "execution_count": 65,
   "id": "e1e39f1d",
   "metadata": {
    "execution": {
     "iopub.execute_input": "2024-04-21T12:48:47.552022Z",
     "iopub.status.busy": "2024-04-21T12:48:47.551604Z",
     "iopub.status.idle": "2024-04-21T12:48:47.559219Z",
     "shell.execute_reply": "2024-04-21T12:48:47.558396Z"
    },
    "papermill": {
     "duration": 0.047206,
     "end_time": "2024-04-21T12:48:47.561539",
     "exception": false,
     "start_time": "2024-04-21T12:48:47.514333",
     "status": "completed"
    },
    "tags": []
   },
   "outputs": [],
   "source": [
    "df_gender = pd.read_csv('/kaggle/input/titanic-proper-dataset/gender_submission.csv')\n"
   ]
  },
  {
   "cell_type": "code",
   "execution_count": 66,
   "id": "9f3853a6",
   "metadata": {
    "execution": {
     "iopub.execute_input": "2024-04-21T12:48:47.636399Z",
     "iopub.status.busy": "2024-04-21T12:48:47.635332Z",
     "iopub.status.idle": "2024-04-21T12:48:47.645281Z",
     "shell.execute_reply": "2024-04-21T12:48:47.644255Z"
    },
    "papermill": {
     "duration": 0.049718,
     "end_time": "2024-04-21T12:48:47.647337",
     "exception": false,
     "start_time": "2024-04-21T12:48:47.597619",
     "status": "completed"
    },
    "tags": []
   },
   "outputs": [
    {
     "data": {
      "text/html": [
       "<div>\n",
       "<style scoped>\n",
       "    .dataframe tbody tr th:only-of-type {\n",
       "        vertical-align: middle;\n",
       "    }\n",
       "\n",
       "    .dataframe tbody tr th {\n",
       "        vertical-align: top;\n",
       "    }\n",
       "\n",
       "    .dataframe thead th {\n",
       "        text-align: right;\n",
       "    }\n",
       "</style>\n",
       "<table border=\"1\" class=\"dataframe\">\n",
       "  <thead>\n",
       "    <tr style=\"text-align: right;\">\n",
       "      <th></th>\n",
       "      <th>PassengerId</th>\n",
       "      <th>Survived</th>\n",
       "    </tr>\n",
       "  </thead>\n",
       "  <tbody>\n",
       "    <tr>\n",
       "      <th>0</th>\n",
       "      <td>892</td>\n",
       "      <td>0</td>\n",
       "    </tr>\n",
       "    <tr>\n",
       "      <th>1</th>\n",
       "      <td>893</td>\n",
       "      <td>1</td>\n",
       "    </tr>\n",
       "    <tr>\n",
       "      <th>2</th>\n",
       "      <td>894</td>\n",
       "      <td>0</td>\n",
       "    </tr>\n",
       "    <tr>\n",
       "      <th>3</th>\n",
       "      <td>895</td>\n",
       "      <td>0</td>\n",
       "    </tr>\n",
       "    <tr>\n",
       "      <th>4</th>\n",
       "      <td>896</td>\n",
       "      <td>1</td>\n",
       "    </tr>\n",
       "  </tbody>\n",
       "</table>\n",
       "</div>"
      ],
      "text/plain": [
       "   PassengerId  Survived\n",
       "0          892         0\n",
       "1          893         1\n",
       "2          894         0\n",
       "3          895         0\n",
       "4          896         1"
      ]
     },
     "execution_count": 66,
     "metadata": {},
     "output_type": "execute_result"
    }
   ],
   "source": [
    "df_gender.head()"
   ]
  },
  {
   "cell_type": "code",
   "execution_count": 67,
   "id": "53d9bc38",
   "metadata": {
    "execution": {
     "iopub.execute_input": "2024-04-21T12:48:47.722137Z",
     "iopub.status.busy": "2024-04-21T12:48:47.721428Z",
     "iopub.status.idle": "2024-04-21T12:48:47.730199Z",
     "shell.execute_reply": "2024-04-21T12:48:47.729297Z"
    },
    "papermill": {
     "duration": 0.048714,
     "end_time": "2024-04-21T12:48:47.732531",
     "exception": false,
     "start_time": "2024-04-21T12:48:47.683817",
     "status": "completed"
    },
    "tags": []
   },
   "outputs": [],
   "source": [
    "df_merged = df_titanic_corr_test.merge(df_gender,on='PassengerId')"
   ]
  },
  {
   "cell_type": "code",
   "execution_count": 68,
   "id": "a1284345",
   "metadata": {
    "execution": {
     "iopub.execute_input": "2024-04-21T12:48:47.806274Z",
     "iopub.status.busy": "2024-04-21T12:48:47.805503Z",
     "iopub.status.idle": "2024-04-21T12:48:47.819963Z",
     "shell.execute_reply": "2024-04-21T12:48:47.819159Z"
    },
    "papermill": {
     "duration": 0.054124,
     "end_time": "2024-04-21T12:48:47.822165",
     "exception": false,
     "start_time": "2024-04-21T12:48:47.768041",
     "status": "completed"
    },
    "tags": []
   },
   "outputs": [
    {
     "data": {
      "text/html": [
       "<div>\n",
       "<style scoped>\n",
       "    .dataframe tbody tr th:only-of-type {\n",
       "        vertical-align: middle;\n",
       "    }\n",
       "\n",
       "    .dataframe tbody tr th {\n",
       "        vertical-align: top;\n",
       "    }\n",
       "\n",
       "    .dataframe thead th {\n",
       "        text-align: right;\n",
       "    }\n",
       "</style>\n",
       "<table border=\"1\" class=\"dataframe\">\n",
       "  <thead>\n",
       "    <tr style=\"text-align: right;\">\n",
       "      <th></th>\n",
       "      <th>PassengerId</th>\n",
       "      <th>Pclass</th>\n",
       "      <th>Age</th>\n",
       "      <th>SibSp</th>\n",
       "      <th>Parch</th>\n",
       "      <th>Fare</th>\n",
       "      <th>Embarked_C</th>\n",
       "      <th>Embarked_Q</th>\n",
       "      <th>Embarked_S</th>\n",
       "      <th>Sex_female</th>\n",
       "      <th>Sex_male</th>\n",
       "      <th>Cabin_ind</th>\n",
       "      <th>Survived</th>\n",
       "    </tr>\n",
       "  </thead>\n",
       "  <tbody>\n",
       "    <tr>\n",
       "      <th>413</th>\n",
       "      <td>1305</td>\n",
       "      <td>3</td>\n",
       "      <td>NaN</td>\n",
       "      <td>0</td>\n",
       "      <td>0</td>\n",
       "      <td>8.0500</td>\n",
       "      <td>0</td>\n",
       "      <td>0</td>\n",
       "      <td>1</td>\n",
       "      <td>0</td>\n",
       "      <td>1</td>\n",
       "      <td>0</td>\n",
       "      <td>0</td>\n",
       "    </tr>\n",
       "    <tr>\n",
       "      <th>414</th>\n",
       "      <td>1306</td>\n",
       "      <td>1</td>\n",
       "      <td>39.0</td>\n",
       "      <td>0</td>\n",
       "      <td>0</td>\n",
       "      <td>108.9000</td>\n",
       "      <td>1</td>\n",
       "      <td>0</td>\n",
       "      <td>0</td>\n",
       "      <td>1</td>\n",
       "      <td>0</td>\n",
       "      <td>1</td>\n",
       "      <td>1</td>\n",
       "    </tr>\n",
       "    <tr>\n",
       "      <th>415</th>\n",
       "      <td>1307</td>\n",
       "      <td>3</td>\n",
       "      <td>38.5</td>\n",
       "      <td>0</td>\n",
       "      <td>0</td>\n",
       "      <td>7.2500</td>\n",
       "      <td>0</td>\n",
       "      <td>0</td>\n",
       "      <td>1</td>\n",
       "      <td>0</td>\n",
       "      <td>1</td>\n",
       "      <td>0</td>\n",
       "      <td>0</td>\n",
       "    </tr>\n",
       "    <tr>\n",
       "      <th>416</th>\n",
       "      <td>1308</td>\n",
       "      <td>3</td>\n",
       "      <td>NaN</td>\n",
       "      <td>0</td>\n",
       "      <td>0</td>\n",
       "      <td>8.0500</td>\n",
       "      <td>0</td>\n",
       "      <td>0</td>\n",
       "      <td>1</td>\n",
       "      <td>0</td>\n",
       "      <td>1</td>\n",
       "      <td>0</td>\n",
       "      <td>0</td>\n",
       "    </tr>\n",
       "    <tr>\n",
       "      <th>417</th>\n",
       "      <td>1309</td>\n",
       "      <td>3</td>\n",
       "      <td>NaN</td>\n",
       "      <td>1</td>\n",
       "      <td>1</td>\n",
       "      <td>22.3583</td>\n",
       "      <td>1</td>\n",
       "      <td>0</td>\n",
       "      <td>0</td>\n",
       "      <td>0</td>\n",
       "      <td>1</td>\n",
       "      <td>0</td>\n",
       "      <td>0</td>\n",
       "    </tr>\n",
       "  </tbody>\n",
       "</table>\n",
       "</div>"
      ],
      "text/plain": [
       "     PassengerId  Pclass   Age  SibSp  Parch      Fare  Embarked_C  \\\n",
       "413         1305       3   NaN      0      0    8.0500           0   \n",
       "414         1306       1  39.0      0      0  108.9000           1   \n",
       "415         1307       3  38.5      0      0    7.2500           0   \n",
       "416         1308       3   NaN      0      0    8.0500           0   \n",
       "417         1309       3   NaN      1      1   22.3583           1   \n",
       "\n",
       "     Embarked_Q  Embarked_S  Sex_female  Sex_male  Cabin_ind  Survived  \n",
       "413           0           1           0         1          0         0  \n",
       "414           0           0           1         0          1         1  \n",
       "415           0           1           0         1          0         0  \n",
       "416           0           1           0         1          0         0  \n",
       "417           0           0           0         1          0         0  "
      ]
     },
     "execution_count": 68,
     "metadata": {},
     "output_type": "execute_result"
    }
   ],
   "source": [
    "df_merged.tail()"
   ]
  },
  {
   "cell_type": "code",
   "execution_count": 69,
   "id": "588da504",
   "metadata": {
    "execution": {
     "iopub.execute_input": "2024-04-21T12:48:47.895944Z",
     "iopub.status.busy": "2024-04-21T12:48:47.895321Z",
     "iopub.status.idle": "2024-04-21T12:48:47.899179Z",
     "shell.execute_reply": "2024-04-21T12:48:47.898143Z"
    },
    "papermill": {
     "duration": 0.043475,
     "end_time": "2024-04-21T12:48:47.901393",
     "exception": false,
     "start_time": "2024-04-21T12:48:47.857918",
     "status": "completed"
    },
    "tags": []
   },
   "outputs": [],
   "source": [
    "#from sklearn.metrics import classification_report\n",
    "##print(classification_report(df_titanic_corr_test,y_test_set))"
   ]
  },
  {
   "cell_type": "markdown",
   "id": "4024093d",
   "metadata": {
    "execution": {
     "iopub.execute_input": "2024-04-19T11:18:38.250190Z",
     "iopub.status.busy": "2024-04-19T11:18:38.249324Z",
     "iopub.status.idle": "2024-04-19T11:18:38.254725Z",
     "shell.execute_reply": "2024-04-19T11:18:38.253631Z",
     "shell.execute_reply.started": "2024-04-19T11:18:38.250156Z"
    },
    "papermill": {
     "duration": 0.035393,
     "end_time": "2024-04-21T12:48:47.973229",
     "exception": false,
     "start_time": "2024-04-21T12:48:47.937836",
     "status": "completed"
    },
    "tags": []
   },
   "source": [
    "# Titanic dataset do each passenger survive or not? (FAILED MODEL AND EXPLANATION)"
   ]
  },
  {
   "cell_type": "code",
   "execution_count": 70,
   "id": "66930733",
   "metadata": {
    "execution": {
     "iopub.execute_input": "2024-04-21T12:48:48.046227Z",
     "iopub.status.busy": "2024-04-21T12:48:48.045617Z",
     "iopub.status.idle": "2024-04-21T12:48:48.056468Z",
     "shell.execute_reply": "2024-04-21T12:48:48.055297Z"
    },
    "papermill": {
     "duration": 0.050346,
     "end_time": "2024-04-21T12:48:48.059061",
     "exception": false,
     "start_time": "2024-04-21T12:48:48.008715",
     "status": "completed"
    },
    "tags": []
   },
   "outputs": [],
   "source": [
    "df_titanic = pd.read_csv('/kaggle/input/titanic/tested.csv')"
   ]
  },
  {
   "cell_type": "code",
   "execution_count": 71,
   "id": "43ab2659",
   "metadata": {
    "execution": {
     "iopub.execute_input": "2024-04-21T12:48:48.132994Z",
     "iopub.status.busy": "2024-04-21T12:48:48.132340Z",
     "iopub.status.idle": "2024-04-21T12:48:48.148200Z",
     "shell.execute_reply": "2024-04-21T12:48:48.147063Z"
    },
    "papermill": {
     "duration": 0.055192,
     "end_time": "2024-04-21T12:48:48.150334",
     "exception": false,
     "start_time": "2024-04-21T12:48:48.095142",
     "status": "completed"
    },
    "tags": []
   },
   "outputs": [
    {
     "data": {
      "text/html": [
       "<div>\n",
       "<style scoped>\n",
       "    .dataframe tbody tr th:only-of-type {\n",
       "        vertical-align: middle;\n",
       "    }\n",
       "\n",
       "    .dataframe tbody tr th {\n",
       "        vertical-align: top;\n",
       "    }\n",
       "\n",
       "    .dataframe thead th {\n",
       "        text-align: right;\n",
       "    }\n",
       "</style>\n",
       "<table border=\"1\" class=\"dataframe\">\n",
       "  <thead>\n",
       "    <tr style=\"text-align: right;\">\n",
       "      <th></th>\n",
       "      <th>PassengerId</th>\n",
       "      <th>Survived</th>\n",
       "      <th>Pclass</th>\n",
       "      <th>Name</th>\n",
       "      <th>Sex</th>\n",
       "      <th>Age</th>\n",
       "      <th>SibSp</th>\n",
       "      <th>Parch</th>\n",
       "      <th>Ticket</th>\n",
       "      <th>Fare</th>\n",
       "      <th>Cabin</th>\n",
       "      <th>Embarked</th>\n",
       "    </tr>\n",
       "  </thead>\n",
       "  <tbody>\n",
       "    <tr>\n",
       "      <th>0</th>\n",
       "      <td>892</td>\n",
       "      <td>0</td>\n",
       "      <td>3</td>\n",
       "      <td>Kelly, Mr. James</td>\n",
       "      <td>male</td>\n",
       "      <td>34.5</td>\n",
       "      <td>0</td>\n",
       "      <td>0</td>\n",
       "      <td>330911</td>\n",
       "      <td>7.8292</td>\n",
       "      <td>NaN</td>\n",
       "      <td>Q</td>\n",
       "    </tr>\n",
       "    <tr>\n",
       "      <th>1</th>\n",
       "      <td>893</td>\n",
       "      <td>1</td>\n",
       "      <td>3</td>\n",
       "      <td>Wilkes, Mrs. James (Ellen Needs)</td>\n",
       "      <td>female</td>\n",
       "      <td>47.0</td>\n",
       "      <td>1</td>\n",
       "      <td>0</td>\n",
       "      <td>363272</td>\n",
       "      <td>7.0000</td>\n",
       "      <td>NaN</td>\n",
       "      <td>S</td>\n",
       "    </tr>\n",
       "    <tr>\n",
       "      <th>2</th>\n",
       "      <td>894</td>\n",
       "      <td>0</td>\n",
       "      <td>2</td>\n",
       "      <td>Myles, Mr. Thomas Francis</td>\n",
       "      <td>male</td>\n",
       "      <td>62.0</td>\n",
       "      <td>0</td>\n",
       "      <td>0</td>\n",
       "      <td>240276</td>\n",
       "      <td>9.6875</td>\n",
       "      <td>NaN</td>\n",
       "      <td>Q</td>\n",
       "    </tr>\n",
       "    <tr>\n",
       "      <th>3</th>\n",
       "      <td>895</td>\n",
       "      <td>0</td>\n",
       "      <td>3</td>\n",
       "      <td>Wirz, Mr. Albert</td>\n",
       "      <td>male</td>\n",
       "      <td>27.0</td>\n",
       "      <td>0</td>\n",
       "      <td>0</td>\n",
       "      <td>315154</td>\n",
       "      <td>8.6625</td>\n",
       "      <td>NaN</td>\n",
       "      <td>S</td>\n",
       "    </tr>\n",
       "    <tr>\n",
       "      <th>4</th>\n",
       "      <td>896</td>\n",
       "      <td>1</td>\n",
       "      <td>3</td>\n",
       "      <td>Hirvonen, Mrs. Alexander (Helga E Lindqvist)</td>\n",
       "      <td>female</td>\n",
       "      <td>22.0</td>\n",
       "      <td>1</td>\n",
       "      <td>1</td>\n",
       "      <td>3101298</td>\n",
       "      <td>12.2875</td>\n",
       "      <td>NaN</td>\n",
       "      <td>S</td>\n",
       "    </tr>\n",
       "  </tbody>\n",
       "</table>\n",
       "</div>"
      ],
      "text/plain": [
       "   PassengerId  Survived  Pclass  \\\n",
       "0          892         0       3   \n",
       "1          893         1       3   \n",
       "2          894         0       2   \n",
       "3          895         0       3   \n",
       "4          896         1       3   \n",
       "\n",
       "                                           Name     Sex   Age  SibSp  Parch  \\\n",
       "0                              Kelly, Mr. James    male  34.5      0      0   \n",
       "1              Wilkes, Mrs. James (Ellen Needs)  female  47.0      1      0   \n",
       "2                     Myles, Mr. Thomas Francis    male  62.0      0      0   \n",
       "3                              Wirz, Mr. Albert    male  27.0      0      0   \n",
       "4  Hirvonen, Mrs. Alexander (Helga E Lindqvist)  female  22.0      1      1   \n",
       "\n",
       "    Ticket     Fare Cabin Embarked  \n",
       "0   330911   7.8292   NaN        Q  \n",
       "1   363272   7.0000   NaN        S  \n",
       "2   240276   9.6875   NaN        Q  \n",
       "3   315154   8.6625   NaN        S  \n",
       "4  3101298  12.2875   NaN        S  "
      ]
     },
     "execution_count": 71,
     "metadata": {},
     "output_type": "execute_result"
    }
   ],
   "source": [
    "df_titanic.head()"
   ]
  },
  {
   "cell_type": "code",
   "execution_count": 72,
   "id": "96c7f753",
   "metadata": {
    "execution": {
     "iopub.execute_input": "2024-04-21T12:48:48.226070Z",
     "iopub.status.busy": "2024-04-21T12:48:48.225628Z",
     "iopub.status.idle": "2024-04-21T12:48:48.233568Z",
     "shell.execute_reply": "2024-04-21T12:48:48.232522Z"
    },
    "papermill": {
     "duration": 0.048814,
     "end_time": "2024-04-21T12:48:48.235877",
     "exception": false,
     "start_time": "2024-04-21T12:48:48.187063",
     "status": "completed"
    },
    "tags": []
   },
   "outputs": [],
   "source": [
    "def count_female_survived(df_titanic):\n",
    "    count_female_survived = 0\n",
    "    for sex, survived in zip(df_titanic['Sex'], df_titanic['Survived']):\n",
    "        if sex == 'female' and survived == 1:\n",
    "            count_female_survived += 1\n",
    "\n",
    "    return count_female_survived\n",
    "\n",
    "# Call the function with your DataFrame as an argument\n",
    "result = count_female_survived(df_titanic)\n"
   ]
  },
  {
   "cell_type": "code",
   "execution_count": 73,
   "id": "6f68d88f",
   "metadata": {
    "execution": {
     "iopub.execute_input": "2024-04-21T12:48:48.312431Z",
     "iopub.status.busy": "2024-04-21T12:48:48.311640Z",
     "iopub.status.idle": "2024-04-21T12:48:48.316503Z",
     "shell.execute_reply": "2024-04-21T12:48:48.315721Z"
    },
    "papermill": {
     "duration": 0.045335,
     "end_time": "2024-04-21T12:48:48.318603",
     "exception": false,
     "start_time": "2024-04-21T12:48:48.273268",
     "status": "completed"
    },
    "tags": []
   },
   "outputs": [
    {
     "name": "stdout",
     "output_type": "stream",
     "text": [
      "152\n"
     ]
    }
   ],
   "source": [
    "print(result)"
   ]
  },
  {
   "cell_type": "code",
   "execution_count": 74,
   "id": "6776e4e7",
   "metadata": {
    "execution": {
     "iopub.execute_input": "2024-04-21T12:48:48.395739Z",
     "iopub.status.busy": "2024-04-21T12:48:48.395019Z",
     "iopub.status.idle": "2024-04-21T12:48:48.408599Z",
     "shell.execute_reply": "2024-04-21T12:48:48.407485Z"
    },
    "papermill": {
     "duration": 0.05325,
     "end_time": "2024-04-21T12:48:48.410758",
     "exception": false,
     "start_time": "2024-04-21T12:48:48.357508",
     "status": "completed"
    },
    "tags": []
   },
   "outputs": [
    {
     "data": {
      "text/html": [
       "<div>\n",
       "<style scoped>\n",
       "    .dataframe tbody tr th:only-of-type {\n",
       "        vertical-align: middle;\n",
       "    }\n",
       "\n",
       "    .dataframe tbody tr th {\n",
       "        vertical-align: top;\n",
       "    }\n",
       "\n",
       "    .dataframe thead th {\n",
       "        text-align: right;\n",
       "    }\n",
       "</style>\n",
       "<table border=\"1\" class=\"dataframe\">\n",
       "  <thead>\n",
       "    <tr style=\"text-align: right;\">\n",
       "      <th></th>\n",
       "      <th>PassengerId</th>\n",
       "      <th>Pclass</th>\n",
       "      <th>Name</th>\n",
       "      <th>Sex</th>\n",
       "      <th>Age</th>\n",
       "      <th>SibSp</th>\n",
       "      <th>Parch</th>\n",
       "      <th>Ticket</th>\n",
       "      <th>Fare</th>\n",
       "      <th>Cabin</th>\n",
       "      <th>Embarked</th>\n",
       "    </tr>\n",
       "    <tr>\n",
       "      <th>Survived</th>\n",
       "      <th></th>\n",
       "      <th></th>\n",
       "      <th></th>\n",
       "      <th></th>\n",
       "      <th></th>\n",
       "      <th></th>\n",
       "      <th></th>\n",
       "      <th></th>\n",
       "      <th></th>\n",
       "      <th></th>\n",
       "      <th></th>\n",
       "    </tr>\n",
       "  </thead>\n",
       "  <tbody>\n",
       "    <tr>\n",
       "      <th>0</th>\n",
       "      <td>266</td>\n",
       "      <td>266</td>\n",
       "      <td>266</td>\n",
       "      <td>266</td>\n",
       "      <td>205</td>\n",
       "      <td>266</td>\n",
       "      <td>266</td>\n",
       "      <td>266</td>\n",
       "      <td>265</td>\n",
       "      <td>47</td>\n",
       "      <td>266</td>\n",
       "    </tr>\n",
       "    <tr>\n",
       "      <th>1</th>\n",
       "      <td>152</td>\n",
       "      <td>152</td>\n",
       "      <td>152</td>\n",
       "      <td>152</td>\n",
       "      <td>127</td>\n",
       "      <td>152</td>\n",
       "      <td>152</td>\n",
       "      <td>152</td>\n",
       "      <td>152</td>\n",
       "      <td>44</td>\n",
       "      <td>152</td>\n",
       "    </tr>\n",
       "  </tbody>\n",
       "</table>\n",
       "</div>"
      ],
      "text/plain": [
       "          PassengerId  Pclass  Name  Sex  Age  SibSp  Parch  Ticket  Fare  \\\n",
       "Survived                                                                    \n",
       "0                 266     266   266  266  205    266    266     266   265   \n",
       "1                 152     152   152  152  127    152    152     152   152   \n",
       "\n",
       "          Cabin  Embarked  \n",
       "Survived                   \n",
       "0            47       266  \n",
       "1            44       152  "
      ]
     },
     "execution_count": 74,
     "metadata": {},
     "output_type": "execute_result"
    }
   ],
   "source": [
    "df_titanic.groupby('Survived').count()\n",
    "#well as we can see 0 male survived and all females were get second chance so our model will be quite a bias right there  "
   ]
  },
  {
   "cell_type": "code",
   "execution_count": 75,
   "id": "a82492f2",
   "metadata": {
    "execution": {
     "iopub.execute_input": "2024-04-21T12:48:48.485316Z",
     "iopub.status.busy": "2024-04-21T12:48:48.484592Z",
     "iopub.status.idle": "2024-04-21T12:48:48.495748Z",
     "shell.execute_reply": "2024-04-21T12:48:48.494398Z"
    },
    "papermill": {
     "duration": 0.05102,
     "end_time": "2024-04-21T12:48:48.497917",
     "exception": false,
     "start_time": "2024-04-21T12:48:48.446897",
     "status": "completed"
    },
    "tags": []
   },
   "outputs": [
    {
     "name": "stdout",
     "output_type": "stream",
     "text": [
      "<class 'pandas.core.frame.DataFrame'>\n",
      "RangeIndex: 418 entries, 0 to 417\n",
      "Data columns (total 12 columns):\n",
      " #   Column       Non-Null Count  Dtype  \n",
      "---  ------       --------------  -----  \n",
      " 0   PassengerId  418 non-null    int64  \n",
      " 1   Survived     418 non-null    int64  \n",
      " 2   Pclass       418 non-null    int64  \n",
      " 3   Name         418 non-null    object \n",
      " 4   Sex          418 non-null    object \n",
      " 5   Age          332 non-null    float64\n",
      " 6   SibSp        418 non-null    int64  \n",
      " 7   Parch        418 non-null    int64  \n",
      " 8   Ticket       418 non-null    object \n",
      " 9   Fare         417 non-null    float64\n",
      " 10  Cabin        91 non-null     object \n",
      " 11  Embarked     418 non-null    object \n",
      "dtypes: float64(2), int64(5), object(5)\n",
      "memory usage: 39.3+ KB\n"
     ]
    }
   ],
   "source": [
    "df_titanic.info()"
   ]
  },
  {
   "cell_type": "code",
   "execution_count": 76,
   "id": "8aae262f",
   "metadata": {
    "execution": {
     "iopub.execute_input": "2024-04-21T12:48:48.572208Z",
     "iopub.status.busy": "2024-04-21T12:48:48.571813Z",
     "iopub.status.idle": "2024-04-21T12:48:48.578694Z",
     "shell.execute_reply": "2024-04-21T12:48:48.577924Z"
    },
    "papermill": {
     "duration": 0.046458,
     "end_time": "2024-04-21T12:48:48.580533",
     "exception": false,
     "start_time": "2024-04-21T12:48:48.534075",
     "status": "completed"
    },
    "tags": []
   },
   "outputs": [
    {
     "data": {
      "text/plain": [
       "327"
      ]
     },
     "execution_count": 76,
     "metadata": {},
     "output_type": "execute_result"
    }
   ],
   "source": [
    "df_titanic['Cabin'].isnull().sum()"
   ]
  },
  {
   "cell_type": "code",
   "execution_count": 77,
   "id": "4a4f98f0",
   "metadata": {
    "execution": {
     "iopub.execute_input": "2024-04-21T12:48:48.655133Z",
     "iopub.status.busy": "2024-04-21T12:48:48.654737Z",
     "iopub.status.idle": "2024-04-21T12:48:48.661883Z",
     "shell.execute_reply": "2024-04-21T12:48:48.660834Z"
    },
    "papermill": {
     "duration": 0.047056,
     "end_time": "2024-04-21T12:48:48.663996",
     "exception": false,
     "start_time": "2024-04-21T12:48:48.616940",
     "status": "completed"
    },
    "tags": []
   },
   "outputs": [
    {
     "data": {
      "text/plain": [
       "array(['Q', 'S', 'C'], dtype=object)"
      ]
     },
     "execution_count": 77,
     "metadata": {},
     "output_type": "execute_result"
    }
   ],
   "source": [
    "df_titanic['Embarked'].unique()"
   ]
  },
  {
   "cell_type": "code",
   "execution_count": 78,
   "id": "3ca96890",
   "metadata": {
    "execution": {
     "iopub.execute_input": "2024-04-21T12:48:48.740192Z",
     "iopub.status.busy": "2024-04-21T12:48:48.739727Z",
     "iopub.status.idle": "2024-04-21T12:48:48.749492Z",
     "shell.execute_reply": "2024-04-21T12:48:48.748388Z"
    },
    "papermill": {
     "duration": 0.051445,
     "end_time": "2024-04-21T12:48:48.751961",
     "exception": false,
     "start_time": "2024-04-21T12:48:48.700516",
     "status": "completed"
    },
    "tags": []
   },
   "outputs": [],
   "source": [
    "columns_to_encode = ['Embarked', 'Sex']\n",
    "columns_to_keep = ['PassengerId', 'Survived', 'Pclass', 'Name', 'Age', 'SibSp', 'Parch', 'Ticket', 'Fare', 'Cabin']\n",
    "df_titanic_encoded = pd.get_dummies(df_titanic[columns_to_encode])\n"
   ]
  },
  {
   "cell_type": "code",
   "execution_count": 79,
   "id": "5124a4f0",
   "metadata": {
    "execution": {
     "iopub.execute_input": "2024-04-21T12:48:48.826801Z",
     "iopub.status.busy": "2024-04-21T12:48:48.826368Z",
     "iopub.status.idle": "2024-04-21T12:48:48.840767Z",
     "shell.execute_reply": "2024-04-21T12:48:48.839632Z"
    },
    "papermill": {
     "duration": 0.054562,
     "end_time": "2024-04-21T12:48:48.843037",
     "exception": false,
     "start_time": "2024-04-21T12:48:48.788475",
     "status": "completed"
    },
    "tags": []
   },
   "outputs": [
    {
     "data": {
      "text/html": [
       "<div>\n",
       "<style scoped>\n",
       "    .dataframe tbody tr th:only-of-type {\n",
       "        vertical-align: middle;\n",
       "    }\n",
       "\n",
       "    .dataframe tbody tr th {\n",
       "        vertical-align: top;\n",
       "    }\n",
       "\n",
       "    .dataframe thead th {\n",
       "        text-align: right;\n",
       "    }\n",
       "</style>\n",
       "<table border=\"1\" class=\"dataframe\">\n",
       "  <thead>\n",
       "    <tr style=\"text-align: right;\">\n",
       "      <th></th>\n",
       "      <th>Embarked_C</th>\n",
       "      <th>Embarked_Q</th>\n",
       "      <th>Embarked_S</th>\n",
       "      <th>Sex_female</th>\n",
       "      <th>Sex_male</th>\n",
       "    </tr>\n",
       "  </thead>\n",
       "  <tbody>\n",
       "    <tr>\n",
       "      <th>0</th>\n",
       "      <td>False</td>\n",
       "      <td>True</td>\n",
       "      <td>False</td>\n",
       "      <td>False</td>\n",
       "      <td>True</td>\n",
       "    </tr>\n",
       "    <tr>\n",
       "      <th>1</th>\n",
       "      <td>False</td>\n",
       "      <td>False</td>\n",
       "      <td>True</td>\n",
       "      <td>True</td>\n",
       "      <td>False</td>\n",
       "    </tr>\n",
       "    <tr>\n",
       "      <th>2</th>\n",
       "      <td>False</td>\n",
       "      <td>True</td>\n",
       "      <td>False</td>\n",
       "      <td>False</td>\n",
       "      <td>True</td>\n",
       "    </tr>\n",
       "    <tr>\n",
       "      <th>3</th>\n",
       "      <td>False</td>\n",
       "      <td>False</td>\n",
       "      <td>True</td>\n",
       "      <td>False</td>\n",
       "      <td>True</td>\n",
       "    </tr>\n",
       "    <tr>\n",
       "      <th>4</th>\n",
       "      <td>False</td>\n",
       "      <td>False</td>\n",
       "      <td>True</td>\n",
       "      <td>True</td>\n",
       "      <td>False</td>\n",
       "    </tr>\n",
       "    <tr>\n",
       "      <th>...</th>\n",
       "      <td>...</td>\n",
       "      <td>...</td>\n",
       "      <td>...</td>\n",
       "      <td>...</td>\n",
       "      <td>...</td>\n",
       "    </tr>\n",
       "    <tr>\n",
       "      <th>413</th>\n",
       "      <td>False</td>\n",
       "      <td>False</td>\n",
       "      <td>True</td>\n",
       "      <td>False</td>\n",
       "      <td>True</td>\n",
       "    </tr>\n",
       "    <tr>\n",
       "      <th>414</th>\n",
       "      <td>True</td>\n",
       "      <td>False</td>\n",
       "      <td>False</td>\n",
       "      <td>True</td>\n",
       "      <td>False</td>\n",
       "    </tr>\n",
       "    <tr>\n",
       "      <th>415</th>\n",
       "      <td>False</td>\n",
       "      <td>False</td>\n",
       "      <td>True</td>\n",
       "      <td>False</td>\n",
       "      <td>True</td>\n",
       "    </tr>\n",
       "    <tr>\n",
       "      <th>416</th>\n",
       "      <td>False</td>\n",
       "      <td>False</td>\n",
       "      <td>True</td>\n",
       "      <td>False</td>\n",
       "      <td>True</td>\n",
       "    </tr>\n",
       "    <tr>\n",
       "      <th>417</th>\n",
       "      <td>True</td>\n",
       "      <td>False</td>\n",
       "      <td>False</td>\n",
       "      <td>False</td>\n",
       "      <td>True</td>\n",
       "    </tr>\n",
       "  </tbody>\n",
       "</table>\n",
       "<p>418 rows × 5 columns</p>\n",
       "</div>"
      ],
      "text/plain": [
       "     Embarked_C  Embarked_Q  Embarked_S  Sex_female  Sex_male\n",
       "0         False        True       False       False      True\n",
       "1         False       False        True        True     False\n",
       "2         False        True       False       False      True\n",
       "3         False       False        True       False      True\n",
       "4         False       False        True        True     False\n",
       "..          ...         ...         ...         ...       ...\n",
       "413       False       False        True       False      True\n",
       "414        True       False       False        True     False\n",
       "415       False       False        True       False      True\n",
       "416       False       False        True       False      True\n",
       "417        True       False       False       False      True\n",
       "\n",
       "[418 rows x 5 columns]"
      ]
     },
     "execution_count": 79,
     "metadata": {},
     "output_type": "execute_result"
    }
   ],
   "source": [
    "df_titanic_encoded "
   ]
  },
  {
   "cell_type": "code",
   "execution_count": 80,
   "id": "b25272bd",
   "metadata": {
    "execution": {
     "iopub.execute_input": "2024-04-21T12:48:48.922343Z",
     "iopub.status.busy": "2024-04-21T12:48:48.921950Z",
     "iopub.status.idle": "2024-04-21T12:48:48.930364Z",
     "shell.execute_reply": "2024-04-21T12:48:48.928986Z"
    },
    "papermill": {
     "duration": 0.052878,
     "end_time": "2024-04-21T12:48:48.932920",
     "exception": false,
     "start_time": "2024-04-21T12:48:48.880042",
     "status": "completed"
    },
    "tags": []
   },
   "outputs": [],
   "source": [
    "df_titanic_corr = pd.concat([df_titanic[columns_to_keep], df_titanic_encoded], axis=1)"
   ]
  },
  {
   "cell_type": "code",
   "execution_count": 81,
   "id": "4ccf3b81",
   "metadata": {
    "execution": {
     "iopub.execute_input": "2024-04-21T12:48:49.009570Z",
     "iopub.status.busy": "2024-04-21T12:48:49.009173Z",
     "iopub.status.idle": "2024-04-21T12:48:49.017987Z",
     "shell.execute_reply": "2024-04-21T12:48:49.016726Z"
    },
    "papermill": {
     "duration": 0.04932,
     "end_time": "2024-04-21T12:48:49.020248",
     "exception": false,
     "start_time": "2024-04-21T12:48:48.970928",
     "status": "completed"
    },
    "tags": []
   },
   "outputs": [],
   "source": [
    "df_titanic_corr[['Embarked_C', 'Embarked_Q','Embarked_S', 'Sex_female', 'Sex_male']] = df_titanic_corr[['Embarked_C', 'Embarked_Q','Embarked_S', 'Sex_female', 'Sex_male']].astype('int64')"
   ]
  },
  {
   "cell_type": "code",
   "execution_count": 82,
   "id": "7afb1898",
   "metadata": {
    "execution": {
     "iopub.execute_input": "2024-04-21T12:48:49.097023Z",
     "iopub.status.busy": "2024-04-21T12:48:49.096630Z",
     "iopub.status.idle": "2024-04-21T12:48:49.112031Z",
     "shell.execute_reply": "2024-04-21T12:48:49.110870Z"
    },
    "papermill": {
     "duration": 0.056658,
     "end_time": "2024-04-21T12:48:49.114444",
     "exception": false,
     "start_time": "2024-04-21T12:48:49.057786",
     "status": "completed"
    },
    "tags": []
   },
   "outputs": [
    {
     "data": {
      "text/html": [
       "<div>\n",
       "<style scoped>\n",
       "    .dataframe tbody tr th:only-of-type {\n",
       "        vertical-align: middle;\n",
       "    }\n",
       "\n",
       "    .dataframe tbody tr th {\n",
       "        vertical-align: top;\n",
       "    }\n",
       "\n",
       "    .dataframe thead th {\n",
       "        text-align: right;\n",
       "    }\n",
       "</style>\n",
       "<table border=\"1\" class=\"dataframe\">\n",
       "  <thead>\n",
       "    <tr style=\"text-align: right;\">\n",
       "      <th></th>\n",
       "      <th>PassengerId</th>\n",
       "      <th>Survived</th>\n",
       "      <th>Pclass</th>\n",
       "      <th>Name</th>\n",
       "      <th>Age</th>\n",
       "      <th>SibSp</th>\n",
       "      <th>Parch</th>\n",
       "      <th>Ticket</th>\n",
       "      <th>Fare</th>\n",
       "      <th>Cabin</th>\n",
       "      <th>Embarked_C</th>\n",
       "      <th>Embarked_Q</th>\n",
       "      <th>Embarked_S</th>\n",
       "      <th>Sex_female</th>\n",
       "      <th>Sex_male</th>\n",
       "    </tr>\n",
       "  </thead>\n",
       "  <tbody>\n",
       "    <tr>\n",
       "      <th>0</th>\n",
       "      <td>892</td>\n",
       "      <td>0</td>\n",
       "      <td>3</td>\n",
       "      <td>Kelly, Mr. James</td>\n",
       "      <td>34.5</td>\n",
       "      <td>0</td>\n",
       "      <td>0</td>\n",
       "      <td>330911</td>\n",
       "      <td>7.8292</td>\n",
       "      <td>NaN</td>\n",
       "      <td>0</td>\n",
       "      <td>1</td>\n",
       "      <td>0</td>\n",
       "      <td>0</td>\n",
       "      <td>1</td>\n",
       "    </tr>\n",
       "    <tr>\n",
       "      <th>1</th>\n",
       "      <td>893</td>\n",
       "      <td>1</td>\n",
       "      <td>3</td>\n",
       "      <td>Wilkes, Mrs. James (Ellen Needs)</td>\n",
       "      <td>47.0</td>\n",
       "      <td>1</td>\n",
       "      <td>0</td>\n",
       "      <td>363272</td>\n",
       "      <td>7.0000</td>\n",
       "      <td>NaN</td>\n",
       "      <td>0</td>\n",
       "      <td>0</td>\n",
       "      <td>1</td>\n",
       "      <td>1</td>\n",
       "      <td>0</td>\n",
       "    </tr>\n",
       "    <tr>\n",
       "      <th>2</th>\n",
       "      <td>894</td>\n",
       "      <td>0</td>\n",
       "      <td>2</td>\n",
       "      <td>Myles, Mr. Thomas Francis</td>\n",
       "      <td>62.0</td>\n",
       "      <td>0</td>\n",
       "      <td>0</td>\n",
       "      <td>240276</td>\n",
       "      <td>9.6875</td>\n",
       "      <td>NaN</td>\n",
       "      <td>0</td>\n",
       "      <td>1</td>\n",
       "      <td>0</td>\n",
       "      <td>0</td>\n",
       "      <td>1</td>\n",
       "    </tr>\n",
       "    <tr>\n",
       "      <th>3</th>\n",
       "      <td>895</td>\n",
       "      <td>0</td>\n",
       "      <td>3</td>\n",
       "      <td>Wirz, Mr. Albert</td>\n",
       "      <td>27.0</td>\n",
       "      <td>0</td>\n",
       "      <td>0</td>\n",
       "      <td>315154</td>\n",
       "      <td>8.6625</td>\n",
       "      <td>NaN</td>\n",
       "      <td>0</td>\n",
       "      <td>0</td>\n",
       "      <td>1</td>\n",
       "      <td>0</td>\n",
       "      <td>1</td>\n",
       "    </tr>\n",
       "    <tr>\n",
       "      <th>4</th>\n",
       "      <td>896</td>\n",
       "      <td>1</td>\n",
       "      <td>3</td>\n",
       "      <td>Hirvonen, Mrs. Alexander (Helga E Lindqvist)</td>\n",
       "      <td>22.0</td>\n",
       "      <td>1</td>\n",
       "      <td>1</td>\n",
       "      <td>3101298</td>\n",
       "      <td>12.2875</td>\n",
       "      <td>NaN</td>\n",
       "      <td>0</td>\n",
       "      <td>0</td>\n",
       "      <td>1</td>\n",
       "      <td>1</td>\n",
       "      <td>0</td>\n",
       "    </tr>\n",
       "  </tbody>\n",
       "</table>\n",
       "</div>"
      ],
      "text/plain": [
       "   PassengerId  Survived  Pclass  \\\n",
       "0          892         0       3   \n",
       "1          893         1       3   \n",
       "2          894         0       2   \n",
       "3          895         0       3   \n",
       "4          896         1       3   \n",
       "\n",
       "                                           Name   Age  SibSp  Parch   Ticket  \\\n",
       "0                              Kelly, Mr. James  34.5      0      0   330911   \n",
       "1              Wilkes, Mrs. James (Ellen Needs)  47.0      1      0   363272   \n",
       "2                     Myles, Mr. Thomas Francis  62.0      0      0   240276   \n",
       "3                              Wirz, Mr. Albert  27.0      0      0   315154   \n",
       "4  Hirvonen, Mrs. Alexander (Helga E Lindqvist)  22.0      1      1  3101298   \n",
       "\n",
       "      Fare Cabin  Embarked_C  Embarked_Q  Embarked_S  Sex_female  Sex_male  \n",
       "0   7.8292   NaN           0           1           0           0         1  \n",
       "1   7.0000   NaN           0           0           1           1         0  \n",
       "2   9.6875   NaN           0           1           0           0         1  \n",
       "3   8.6625   NaN           0           0           1           0         1  \n",
       "4  12.2875   NaN           0           0           1           1         0  "
      ]
     },
     "execution_count": 82,
     "metadata": {},
     "output_type": "execute_result"
    }
   ],
   "source": [
    "df_titanic_corr.head(5)"
   ]
  },
  {
   "cell_type": "code",
   "execution_count": 83,
   "id": "4ce3e246",
   "metadata": {
    "execution": {
     "iopub.execute_input": "2024-04-21T12:48:49.191513Z",
     "iopub.status.busy": "2024-04-21T12:48:49.190446Z",
     "iopub.status.idle": "2024-04-21T12:48:49.197271Z",
     "shell.execute_reply": "2024-04-21T12:48:49.196198Z"
    },
    "papermill": {
     "duration": 0.047872,
     "end_time": "2024-04-21T12:48:49.199451",
     "exception": false,
     "start_time": "2024-04-21T12:48:49.151579",
     "status": "completed"
    },
    "tags": []
   },
   "outputs": [],
   "source": [
    "df_titanic_corr['Cabin_ind'] = df_titanic['Cabin'].fillna(0).apply(lambda x: 1 if x != 0 else 0)"
   ]
  },
  {
   "cell_type": "code",
   "execution_count": 84,
   "id": "1e61eb4d",
   "metadata": {
    "execution": {
     "iopub.execute_input": "2024-04-21T12:48:49.277531Z",
     "iopub.status.busy": "2024-04-21T12:48:49.276364Z",
     "iopub.status.idle": "2024-04-21T12:48:49.291440Z",
     "shell.execute_reply": "2024-04-21T12:48:49.290317Z"
    },
    "papermill": {
     "duration": 0.056339,
     "end_time": "2024-04-21T12:48:49.293782",
     "exception": false,
     "start_time": "2024-04-21T12:48:49.237443",
     "status": "completed"
    },
    "tags": []
   },
   "outputs": [
    {
     "data": {
      "text/html": [
       "<div>\n",
       "<style scoped>\n",
       "    .dataframe tbody tr th:only-of-type {\n",
       "        vertical-align: middle;\n",
       "    }\n",
       "\n",
       "    .dataframe tbody tr th {\n",
       "        vertical-align: top;\n",
       "    }\n",
       "\n",
       "    .dataframe thead th {\n",
       "        text-align: right;\n",
       "    }\n",
       "</style>\n",
       "<table border=\"1\" class=\"dataframe\">\n",
       "  <thead>\n",
       "    <tr style=\"text-align: right;\">\n",
       "      <th></th>\n",
       "      <th>PassengerId</th>\n",
       "      <th>Survived</th>\n",
       "      <th>Pclass</th>\n",
       "      <th>Name</th>\n",
       "      <th>Age</th>\n",
       "      <th>SibSp</th>\n",
       "      <th>Parch</th>\n",
       "      <th>Ticket</th>\n",
       "      <th>Fare</th>\n",
       "      <th>Cabin</th>\n",
       "      <th>Embarked_C</th>\n",
       "      <th>Embarked_Q</th>\n",
       "      <th>Embarked_S</th>\n",
       "      <th>Sex_female</th>\n",
       "      <th>Sex_male</th>\n",
       "      <th>Cabin_ind</th>\n",
       "    </tr>\n",
       "  </thead>\n",
       "  <tbody>\n",
       "    <tr>\n",
       "      <th>0</th>\n",
       "      <td>892</td>\n",
       "      <td>0</td>\n",
       "      <td>3</td>\n",
       "      <td>Kelly, Mr. James</td>\n",
       "      <td>34.5</td>\n",
       "      <td>0</td>\n",
       "      <td>0</td>\n",
       "      <td>330911</td>\n",
       "      <td>7.8292</td>\n",
       "      <td>NaN</td>\n",
       "      <td>0</td>\n",
       "      <td>1</td>\n",
       "      <td>0</td>\n",
       "      <td>0</td>\n",
       "      <td>1</td>\n",
       "      <td>0</td>\n",
       "    </tr>\n",
       "  </tbody>\n",
       "</table>\n",
       "</div>"
      ],
      "text/plain": [
       "   PassengerId  Survived  Pclass              Name   Age  SibSp  Parch  \\\n",
       "0          892         0       3  Kelly, Mr. James  34.5      0      0   \n",
       "\n",
       "   Ticket    Fare Cabin  Embarked_C  Embarked_Q  Embarked_S  Sex_female  \\\n",
       "0  330911  7.8292   NaN           0           1           0           0   \n",
       "\n",
       "   Sex_male  Cabin_ind  \n",
       "0         1          0  "
      ]
     },
     "execution_count": 84,
     "metadata": {},
     "output_type": "execute_result"
    }
   ],
   "source": [
    "df_titanic_corr.head(1)"
   ]
  },
  {
   "cell_type": "code",
   "execution_count": 85,
   "id": "03dd77d0",
   "metadata": {
    "execution": {
     "iopub.execute_input": "2024-04-21T12:48:49.372610Z",
     "iopub.status.busy": "2024-04-21T12:48:49.371952Z",
     "iopub.status.idle": "2024-04-21T12:48:49.378382Z",
     "shell.execute_reply": "2024-04-21T12:48:49.377502Z"
    },
    "papermill": {
     "duration": 0.049143,
     "end_time": "2024-04-21T12:48:49.380647",
     "exception": false,
     "start_time": "2024-04-21T12:48:49.331504",
     "status": "completed"
    },
    "tags": []
   },
   "outputs": [],
   "source": [
    "df_titanic_corr = df_titanic_corr.drop(columns = ['Ticket','Cabin','Name'])"
   ]
  },
  {
   "cell_type": "code",
   "execution_count": 86,
   "id": "5c137feb",
   "metadata": {
    "execution": {
     "iopub.execute_input": "2024-04-21T12:48:49.459889Z",
     "iopub.status.busy": "2024-04-21T12:48:49.458670Z",
     "iopub.status.idle": "2024-04-21T12:48:49.473011Z",
     "shell.execute_reply": "2024-04-21T12:48:49.471861Z"
    },
    "papermill": {
     "duration": 0.056009,
     "end_time": "2024-04-21T12:48:49.475581",
     "exception": false,
     "start_time": "2024-04-21T12:48:49.419572",
     "status": "completed"
    },
    "tags": []
   },
   "outputs": [
    {
     "data": {
      "text/html": [
       "<div>\n",
       "<style scoped>\n",
       "    .dataframe tbody tr th:only-of-type {\n",
       "        vertical-align: middle;\n",
       "    }\n",
       "\n",
       "    .dataframe tbody tr th {\n",
       "        vertical-align: top;\n",
       "    }\n",
       "\n",
       "    .dataframe thead th {\n",
       "        text-align: right;\n",
       "    }\n",
       "</style>\n",
       "<table border=\"1\" class=\"dataframe\">\n",
       "  <thead>\n",
       "    <tr style=\"text-align: right;\">\n",
       "      <th></th>\n",
       "      <th>PassengerId</th>\n",
       "      <th>Survived</th>\n",
       "      <th>Pclass</th>\n",
       "      <th>Age</th>\n",
       "      <th>SibSp</th>\n",
       "      <th>Parch</th>\n",
       "      <th>Fare</th>\n",
       "      <th>Embarked_C</th>\n",
       "      <th>Embarked_Q</th>\n",
       "      <th>Embarked_S</th>\n",
       "      <th>Sex_female</th>\n",
       "      <th>Sex_male</th>\n",
       "      <th>Cabin_ind</th>\n",
       "    </tr>\n",
       "  </thead>\n",
       "  <tbody>\n",
       "    <tr>\n",
       "      <th>417</th>\n",
       "      <td>1309</td>\n",
       "      <td>0</td>\n",
       "      <td>3</td>\n",
       "      <td>NaN</td>\n",
       "      <td>1</td>\n",
       "      <td>1</td>\n",
       "      <td>22.3583</td>\n",
       "      <td>1</td>\n",
       "      <td>0</td>\n",
       "      <td>0</td>\n",
       "      <td>0</td>\n",
       "      <td>1</td>\n",
       "      <td>0</td>\n",
       "    </tr>\n",
       "  </tbody>\n",
       "</table>\n",
       "</div>"
      ],
      "text/plain": [
       "     PassengerId  Survived  Pclass  Age  SibSp  Parch     Fare  Embarked_C  \\\n",
       "417         1309         0       3  NaN      1      1  22.3583           1   \n",
       "\n",
       "     Embarked_Q  Embarked_S  Sex_female  Sex_male  Cabin_ind  \n",
       "417           0           0           0         1          0  "
      ]
     },
     "execution_count": 86,
     "metadata": {},
     "output_type": "execute_result"
    }
   ],
   "source": [
    "df_titanic_corr.tail(1)"
   ]
  },
  {
   "cell_type": "code",
   "execution_count": 87,
   "id": "c5f71588",
   "metadata": {
    "execution": {
     "iopub.execute_input": "2024-04-21T12:48:49.552722Z",
     "iopub.status.busy": "2024-04-21T12:48:49.552337Z",
     "iopub.status.idle": "2024-04-21T12:48:49.560859Z",
     "shell.execute_reply": "2024-04-21T12:48:49.559566Z"
    },
    "papermill": {
     "duration": 0.049724,
     "end_time": "2024-04-21T12:48:49.563006",
     "exception": false,
     "start_time": "2024-04-21T12:48:49.513282",
     "status": "completed"
    },
    "tags": []
   },
   "outputs": [
    {
     "data": {
      "text/plain": [
       "PassengerId     0\n",
       "Survived        0\n",
       "Pclass          0\n",
       "Age            86\n",
       "SibSp           0\n",
       "Parch           0\n",
       "Fare            1\n",
       "Embarked_C      0\n",
       "Embarked_Q      0\n",
       "Embarked_S      0\n",
       "Sex_female      0\n",
       "Sex_male        0\n",
       "Cabin_ind       0\n",
       "dtype: int64"
      ]
     },
     "execution_count": 87,
     "metadata": {},
     "output_type": "execute_result"
    }
   ],
   "source": [
    "df_titanic_corr.isnull().sum()\n",
    "# 86 nulls in age which is really important for us in making prediction "
   ]
  },
  {
   "cell_type": "code",
   "execution_count": 88,
   "id": "5de86305",
   "metadata": {
    "execution": {
     "iopub.execute_input": "2024-04-21T12:48:49.640952Z",
     "iopub.status.busy": "2024-04-21T12:48:49.640298Z",
     "iopub.status.idle": "2024-04-21T12:48:49.660219Z",
     "shell.execute_reply": "2024-04-21T12:48:49.659141Z"
    },
    "papermill": {
     "duration": 0.061459,
     "end_time": "2024-04-21T12:48:49.662660",
     "exception": false,
     "start_time": "2024-04-21T12:48:49.601201",
     "status": "completed"
    },
    "tags": []
   },
   "outputs": [
    {
     "data": {
      "text/html": [
       "<div>\n",
       "<style scoped>\n",
       "    .dataframe tbody tr th:only-of-type {\n",
       "        vertical-align: middle;\n",
       "    }\n",
       "\n",
       "    .dataframe tbody tr th {\n",
       "        vertical-align: top;\n",
       "    }\n",
       "\n",
       "    .dataframe thead th {\n",
       "        text-align: right;\n",
       "    }\n",
       "</style>\n",
       "<table border=\"1\" class=\"dataframe\">\n",
       "  <thead>\n",
       "    <tr style=\"text-align: right;\">\n",
       "      <th></th>\n",
       "      <th>PassengerId</th>\n",
       "      <th>Survived</th>\n",
       "      <th>Pclass</th>\n",
       "      <th>Age</th>\n",
       "      <th>SibSp</th>\n",
       "      <th>Parch</th>\n",
       "      <th>Fare</th>\n",
       "      <th>Embarked_C</th>\n",
       "      <th>Embarked_Q</th>\n",
       "      <th>Embarked_S</th>\n",
       "      <th>Sex_female</th>\n",
       "      <th>Sex_male</th>\n",
       "      <th>Cabin_ind</th>\n",
       "    </tr>\n",
       "  </thead>\n",
       "  <tbody>\n",
       "    <tr>\n",
       "      <th>PassengerId</th>\n",
       "      <td>1.000000</td>\n",
       "      <td>-0.023245</td>\n",
       "      <td>-0.026751</td>\n",
       "      <td>-0.034102</td>\n",
       "      <td>0.003818</td>\n",
       "      <td>0.043080</td>\n",
       "      <td>0.008211</td>\n",
       "      <td>-0.027419</td>\n",
       "      <td>-0.035731</td>\n",
       "      <td>0.048008</td>\n",
       "      <td>-0.023245</td>\n",
       "      <td>0.023245</td>\n",
       "      <td>0.006462</td>\n",
       "    </tr>\n",
       "    <tr>\n",
       "      <th>Survived</th>\n",
       "      <td>-0.023245</td>\n",
       "      <td>1.000000</td>\n",
       "      <td>-0.108615</td>\n",
       "      <td>-0.000013</td>\n",
       "      <td>0.099943</td>\n",
       "      <td>0.159120</td>\n",
       "      <td>0.191514</td>\n",
       "      <td>0.033684</td>\n",
       "      <td>0.115574</td>\n",
       "      <td>-0.105883</td>\n",
       "      <td>1.000000</td>\n",
       "      <td>-1.000000</td>\n",
       "      <td>0.131464</td>\n",
       "    </tr>\n",
       "    <tr>\n",
       "      <th>Pclass</th>\n",
       "      <td>-0.026751</td>\n",
       "      <td>-0.108615</td>\n",
       "      <td>1.000000</td>\n",
       "      <td>-0.492143</td>\n",
       "      <td>0.001087</td>\n",
       "      <td>0.018721</td>\n",
       "      <td>-0.577147</td>\n",
       "      <td>-0.318543</td>\n",
       "      <td>0.252608</td>\n",
       "      <td>0.120783</td>\n",
       "      <td>-0.108615</td>\n",
       "      <td>0.108615</td>\n",
       "      <td>-0.690579</td>\n",
       "    </tr>\n",
       "    <tr>\n",
       "      <th>Age</th>\n",
       "      <td>-0.034102</td>\n",
       "      <td>-0.000013</td>\n",
       "      <td>-0.492143</td>\n",
       "      <td>1.000000</td>\n",
       "      <td>-0.091587</td>\n",
       "      <td>-0.061249</td>\n",
       "      <td>0.337932</td>\n",
       "      <td>0.180601</td>\n",
       "      <td>-0.017956</td>\n",
       "      <td>-0.158295</td>\n",
       "      <td>-0.000013</td>\n",
       "      <td>0.000013</td>\n",
       "      <td>0.377686</td>\n",
       "    </tr>\n",
       "    <tr>\n",
       "      <th>SibSp</th>\n",
       "      <td>0.003818</td>\n",
       "      <td>0.099943</td>\n",
       "      <td>0.001087</td>\n",
       "      <td>-0.091587</td>\n",
       "      <td>1.000000</td>\n",
       "      <td>0.306895</td>\n",
       "      <td>0.171539</td>\n",
       "      <td>-0.016365</td>\n",
       "      <td>-0.098824</td>\n",
       "      <td>0.079367</td>\n",
       "      <td>0.099943</td>\n",
       "      <td>-0.099943</td>\n",
       "      <td>0.073067</td>\n",
       "    </tr>\n",
       "    <tr>\n",
       "      <th>Parch</th>\n",
       "      <td>0.043080</td>\n",
       "      <td>0.159120</td>\n",
       "      <td>0.018721</td>\n",
       "      <td>-0.061249</td>\n",
       "      <td>0.306895</td>\n",
       "      <td>1.000000</td>\n",
       "      <td>0.230046</td>\n",
       "      <td>-0.005791</td>\n",
       "      <td>-0.132948</td>\n",
       "      <td>0.092201</td>\n",
       "      <td>0.159120</td>\n",
       "      <td>-0.159120</td>\n",
       "      <td>0.037237</td>\n",
       "    </tr>\n",
       "    <tr>\n",
       "      <th>Fare</th>\n",
       "      <td>0.008211</td>\n",
       "      <td>0.191514</td>\n",
       "      <td>-0.577147</td>\n",
       "      <td>0.337932</td>\n",
       "      <td>0.171539</td>\n",
       "      <td>0.230046</td>\n",
       "      <td>1.000000</td>\n",
       "      <td>0.312161</td>\n",
       "      <td>-0.155562</td>\n",
       "      <td>-0.178582</td>\n",
       "      <td>0.191514</td>\n",
       "      <td>-0.191514</td>\n",
       "      <td>0.560843</td>\n",
       "    </tr>\n",
       "    <tr>\n",
       "      <th>Embarked_C</th>\n",
       "      <td>-0.027419</td>\n",
       "      <td>0.033684</td>\n",
       "      <td>-0.318543</td>\n",
       "      <td>0.180601</td>\n",
       "      <td>-0.016365</td>\n",
       "      <td>-0.005791</td>\n",
       "      <td>0.312161</td>\n",
       "      <td>1.000000</td>\n",
       "      <td>-0.199786</td>\n",
       "      <td>-0.767375</td>\n",
       "      <td>0.033684</td>\n",
       "      <td>-0.033684</td>\n",
       "      <td>0.361643</td>\n",
       "    </tr>\n",
       "    <tr>\n",
       "      <th>Embarked_Q</th>\n",
       "      <td>-0.035731</td>\n",
       "      <td>0.115574</td>\n",
       "      <td>0.252608</td>\n",
       "      <td>-0.017956</td>\n",
       "      <td>-0.098824</td>\n",
       "      <td>-0.132948</td>\n",
       "      <td>-0.155562</td>\n",
       "      <td>-0.199786</td>\n",
       "      <td>1.000000</td>\n",
       "      <td>-0.474962</td>\n",
       "      <td>0.115574</td>\n",
       "      <td>-0.115574</td>\n",
       "      <td>-0.166981</td>\n",
       "    </tr>\n",
       "    <tr>\n",
       "      <th>Embarked_S</th>\n",
       "      <td>0.048008</td>\n",
       "      <td>-0.105883</td>\n",
       "      <td>0.120783</td>\n",
       "      <td>-0.158295</td>\n",
       "      <td>0.079367</td>\n",
       "      <td>0.092201</td>\n",
       "      <td>-0.178582</td>\n",
       "      <td>-0.767375</td>\n",
       "      <td>-0.474962</td>\n",
       "      <td>1.000000</td>\n",
       "      <td>-0.105883</td>\n",
       "      <td>0.105883</td>\n",
       "      <td>-0.215525</td>\n",
       "    </tr>\n",
       "    <tr>\n",
       "      <th>Sex_female</th>\n",
       "      <td>-0.023245</td>\n",
       "      <td>1.000000</td>\n",
       "      <td>-0.108615</td>\n",
       "      <td>-0.000013</td>\n",
       "      <td>0.099943</td>\n",
       "      <td>0.159120</td>\n",
       "      <td>0.191514</td>\n",
       "      <td>0.033684</td>\n",
       "      <td>0.115574</td>\n",
       "      <td>-0.105883</td>\n",
       "      <td>1.000000</td>\n",
       "      <td>-1.000000</td>\n",
       "      <td>0.131464</td>\n",
       "    </tr>\n",
       "    <tr>\n",
       "      <th>Sex_male</th>\n",
       "      <td>0.023245</td>\n",
       "      <td>-1.000000</td>\n",
       "      <td>0.108615</td>\n",
       "      <td>0.000013</td>\n",
       "      <td>-0.099943</td>\n",
       "      <td>-0.159120</td>\n",
       "      <td>-0.191514</td>\n",
       "      <td>-0.033684</td>\n",
       "      <td>-0.115574</td>\n",
       "      <td>0.105883</td>\n",
       "      <td>-1.000000</td>\n",
       "      <td>1.000000</td>\n",
       "      <td>-0.131464</td>\n",
       "    </tr>\n",
       "    <tr>\n",
       "      <th>Cabin_ind</th>\n",
       "      <td>0.006462</td>\n",
       "      <td>0.131464</td>\n",
       "      <td>-0.690579</td>\n",
       "      <td>0.377686</td>\n",
       "      <td>0.073067</td>\n",
       "      <td>0.037237</td>\n",
       "      <td>0.560843</td>\n",
       "      <td>0.361643</td>\n",
       "      <td>-0.166981</td>\n",
       "      <td>-0.215525</td>\n",
       "      <td>0.131464</td>\n",
       "      <td>-0.131464</td>\n",
       "      <td>1.000000</td>\n",
       "    </tr>\n",
       "  </tbody>\n",
       "</table>\n",
       "</div>"
      ],
      "text/plain": [
       "             PassengerId  Survived    Pclass       Age     SibSp     Parch  \\\n",
       "PassengerId     1.000000 -0.023245 -0.026751 -0.034102  0.003818  0.043080   \n",
       "Survived       -0.023245  1.000000 -0.108615 -0.000013  0.099943  0.159120   \n",
       "Pclass         -0.026751 -0.108615  1.000000 -0.492143  0.001087  0.018721   \n",
       "Age            -0.034102 -0.000013 -0.492143  1.000000 -0.091587 -0.061249   \n",
       "SibSp           0.003818  0.099943  0.001087 -0.091587  1.000000  0.306895   \n",
       "Parch           0.043080  0.159120  0.018721 -0.061249  0.306895  1.000000   \n",
       "Fare            0.008211  0.191514 -0.577147  0.337932  0.171539  0.230046   \n",
       "Embarked_C     -0.027419  0.033684 -0.318543  0.180601 -0.016365 -0.005791   \n",
       "Embarked_Q     -0.035731  0.115574  0.252608 -0.017956 -0.098824 -0.132948   \n",
       "Embarked_S      0.048008 -0.105883  0.120783 -0.158295  0.079367  0.092201   \n",
       "Sex_female     -0.023245  1.000000 -0.108615 -0.000013  0.099943  0.159120   \n",
       "Sex_male        0.023245 -1.000000  0.108615  0.000013 -0.099943 -0.159120   \n",
       "Cabin_ind       0.006462  0.131464 -0.690579  0.377686  0.073067  0.037237   \n",
       "\n",
       "                 Fare  Embarked_C  Embarked_Q  Embarked_S  Sex_female  \\\n",
       "PassengerId  0.008211   -0.027419   -0.035731    0.048008   -0.023245   \n",
       "Survived     0.191514    0.033684    0.115574   -0.105883    1.000000   \n",
       "Pclass      -0.577147   -0.318543    0.252608    0.120783   -0.108615   \n",
       "Age          0.337932    0.180601   -0.017956   -0.158295   -0.000013   \n",
       "SibSp        0.171539   -0.016365   -0.098824    0.079367    0.099943   \n",
       "Parch        0.230046   -0.005791   -0.132948    0.092201    0.159120   \n",
       "Fare         1.000000    0.312161   -0.155562   -0.178582    0.191514   \n",
       "Embarked_C   0.312161    1.000000   -0.199786   -0.767375    0.033684   \n",
       "Embarked_Q  -0.155562   -0.199786    1.000000   -0.474962    0.115574   \n",
       "Embarked_S  -0.178582   -0.767375   -0.474962    1.000000   -0.105883   \n",
       "Sex_female   0.191514    0.033684    0.115574   -0.105883    1.000000   \n",
       "Sex_male    -0.191514   -0.033684   -0.115574    0.105883   -1.000000   \n",
       "Cabin_ind    0.560843    0.361643   -0.166981   -0.215525    0.131464   \n",
       "\n",
       "             Sex_male  Cabin_ind  \n",
       "PassengerId  0.023245   0.006462  \n",
       "Survived    -1.000000   0.131464  \n",
       "Pclass       0.108615  -0.690579  \n",
       "Age          0.000013   0.377686  \n",
       "SibSp       -0.099943   0.073067  \n",
       "Parch       -0.159120   0.037237  \n",
       "Fare        -0.191514   0.560843  \n",
       "Embarked_C  -0.033684   0.361643  \n",
       "Embarked_Q  -0.115574  -0.166981  \n",
       "Embarked_S   0.105883  -0.215525  \n",
       "Sex_female  -1.000000   0.131464  \n",
       "Sex_male     1.000000  -0.131464  \n",
       "Cabin_ind   -0.131464   1.000000  "
      ]
     },
     "execution_count": 88,
     "metadata": {},
     "output_type": "execute_result"
    }
   ],
   "source": [
    "corr_matrix_titanic = df_titanic_corr.corr()\n",
    "corr_matrix_titanic"
   ]
  },
  {
   "cell_type": "code",
   "execution_count": 89,
   "id": "0f67a522",
   "metadata": {
    "execution": {
     "iopub.execute_input": "2024-04-21T12:48:49.740449Z",
     "iopub.status.busy": "2024-04-21T12:48:49.739708Z",
     "iopub.status.idle": "2024-04-21T12:48:50.834312Z",
     "shell.execute_reply": "2024-04-21T12:48:50.833094Z"
    },
    "papermill": {
     "duration": 1.137726,
     "end_time": "2024-04-21T12:48:50.838227",
     "exception": false,
     "start_time": "2024-04-21T12:48:49.700501",
     "status": "completed"
    },
    "tags": []
   },
   "outputs": [
    {
     "data": {
      "text/plain": [
       "<Axes: >"
      ]
     },
     "execution_count": 89,
     "metadata": {},
     "output_type": "execute_result"
    },
    {
     "data": {
      "image/png": "[encoded data removed]",
      "text/plain": [
       "<Figure size 2000x2000 with 2 Axes>"
      ]
     },
     "metadata": {},
     "output_type": "display_data"
    }
   ],
   "source": [
    "plt.figure(figsize=(20,20))\n",
    "sns.heatmap(corr_matrix_titanic,annot=True,cmap='BuPu')"
   ]
  },
  {
   "cell_type": "code",
   "execution_count": 90,
   "id": "bd44accb",
   "metadata": {
    "execution": {
     "iopub.execute_input": "2024-04-21T12:48:50.923330Z",
     "iopub.status.busy": "2024-04-21T12:48:50.922916Z",
     "iopub.status.idle": "2024-04-21T12:48:50.929863Z",
     "shell.execute_reply": "2024-04-21T12:48:50.928595Z"
    },
    "papermill": {
     "duration": 0.052648,
     "end_time": "2024-04-21T12:48:50.932370",
     "exception": false,
     "start_time": "2024-04-21T12:48:50.879722",
     "status": "completed"
    },
    "tags": []
   },
   "outputs": [],
   "source": [
    "#split data set \n",
    "Y = df_titanic_corr['Survived']\n",
    "X = df_titanic_corr.drop(columns='Survived')"
   ]
  },
  {
   "cell_type": "code",
   "execution_count": 91,
   "id": "1b1efd2f",
   "metadata": {
    "execution": {
     "iopub.execute_input": "2024-04-21T12:48:51.020522Z",
     "iopub.status.busy": "2024-04-21T12:48:51.020030Z",
     "iopub.status.idle": "2024-04-21T12:48:51.027588Z",
     "shell.execute_reply": "2024-04-21T12:48:51.026675Z"
    },
    "papermill": {
     "duration": 0.054291,
     "end_time": "2024-04-21T12:48:51.029723",
     "exception": false,
     "start_time": "2024-04-21T12:48:50.975432",
     "status": "completed"
    },
    "tags": []
   },
   "outputs": [
    {
     "data": {
      "text/plain": [
       "(418,)"
      ]
     },
     "execution_count": 91,
     "metadata": {},
     "output_type": "execute_result"
    }
   ],
   "source": [
    "Y.shape"
   ]
  },
  {
   "cell_type": "code",
   "execution_count": 92,
   "id": "eff2749a",
   "metadata": {
    "execution": {
     "iopub.execute_input": "2024-04-21T12:48:51.115927Z",
     "iopub.status.busy": "2024-04-21T12:48:51.115277Z",
     "iopub.status.idle": "2024-04-21T12:48:51.122468Z",
     "shell.execute_reply": "2024-04-21T12:48:51.121318Z"
    },
    "papermill": {
     "duration": 0.052674,
     "end_time": "2024-04-21T12:48:51.124852",
     "exception": false,
     "start_time": "2024-04-21T12:48:51.072178",
     "status": "completed"
    },
    "tags": []
   },
   "outputs": [
    {
     "data": {
      "text/plain": [
       "(418, 12)"
      ]
     },
     "execution_count": 92,
     "metadata": {},
     "output_type": "execute_result"
    }
   ],
   "source": [
    "X.shape"
   ]
  },
  {
   "cell_type": "code",
   "execution_count": 93,
   "id": "c445c646",
   "metadata": {
    "execution": {
     "iopub.execute_input": "2024-04-21T12:48:51.210966Z",
     "iopub.status.busy": "2024-04-21T12:48:51.209885Z",
     "iopub.status.idle": "2024-04-21T12:48:51.225192Z",
     "shell.execute_reply": "2024-04-21T12:48:51.223841Z"
    },
    "papermill": {
     "duration": 0.061258,
     "end_time": "2024-04-21T12:48:51.227484",
     "exception": false,
     "start_time": "2024-04-21T12:48:51.166226",
     "status": "completed"
    },
    "tags": []
   },
   "outputs": [
    {
     "data": {
      "text/html": [
       "<div>\n",
       "<style scoped>\n",
       "    .dataframe tbody tr th:only-of-type {\n",
       "        vertical-align: middle;\n",
       "    }\n",
       "\n",
       "    .dataframe tbody tr th {\n",
       "        vertical-align: top;\n",
       "    }\n",
       "\n",
       "    .dataframe thead th {\n",
       "        text-align: right;\n",
       "    }\n",
       "</style>\n",
       "<table border=\"1\" class=\"dataframe\">\n",
       "  <thead>\n",
       "    <tr style=\"text-align: right;\">\n",
       "      <th></th>\n",
       "      <th>PassengerId</th>\n",
       "      <th>Pclass</th>\n",
       "      <th>Age</th>\n",
       "      <th>SibSp</th>\n",
       "      <th>Parch</th>\n",
       "      <th>Fare</th>\n",
       "      <th>Embarked_C</th>\n",
       "      <th>Embarked_Q</th>\n",
       "      <th>Embarked_S</th>\n",
       "      <th>Sex_female</th>\n",
       "      <th>Sex_male</th>\n",
       "      <th>Cabin_ind</th>\n",
       "    </tr>\n",
       "  </thead>\n",
       "  <tbody>\n",
       "    <tr>\n",
       "      <th>0</th>\n",
       "      <td>892</td>\n",
       "      <td>3</td>\n",
       "      <td>34.5</td>\n",
       "      <td>0</td>\n",
       "      <td>0</td>\n",
       "      <td>7.8292</td>\n",
       "      <td>0</td>\n",
       "      <td>1</td>\n",
       "      <td>0</td>\n",
       "      <td>0</td>\n",
       "      <td>1</td>\n",
       "      <td>0</td>\n",
       "    </tr>\n",
       "  </tbody>\n",
       "</table>\n",
       "</div>"
      ],
      "text/plain": [
       "   PassengerId  Pclass   Age  SibSp  Parch    Fare  Embarked_C  Embarked_Q  \\\n",
       "0          892       3  34.5      0      0  7.8292           0           1   \n",
       "\n",
       "   Embarked_S  Sex_female  Sex_male  Cabin_ind  \n",
       "0           0           0         1          0  "
      ]
     },
     "execution_count": 93,
     "metadata": {},
     "output_type": "execute_result"
    }
   ],
   "source": [
    "X.head(1)"
   ]
  },
  {
   "cell_type": "code",
   "execution_count": 94,
   "id": "99b79f04",
   "metadata": {
    "execution": {
     "iopub.execute_input": "2024-04-21T12:48:51.315473Z",
     "iopub.status.busy": "2024-04-21T12:48:51.314169Z",
     "iopub.status.idle": "2024-04-21T12:48:51.319589Z",
     "shell.execute_reply": "2024-04-21T12:48:51.318509Z"
    },
    "papermill": {
     "duration": 0.051086,
     "end_time": "2024-04-21T12:48:51.322066",
     "exception": false,
     "start_time": "2024-04-21T12:48:51.270980",
     "status": "completed"
    },
    "tags": []
   },
   "outputs": [],
   "source": [
    "from sklearn.model_selection import train_test_split"
   ]
  },
  {
   "cell_type": "code",
   "execution_count": 95,
   "id": "e78d03b5",
   "metadata": {
    "execution": {
     "iopub.execute_input": "2024-04-21T12:48:51.410525Z",
     "iopub.status.busy": "2024-04-21T12:48:51.409451Z",
     "iopub.status.idle": "2024-04-21T12:48:51.417035Z",
     "shell.execute_reply": "2024-04-21T12:48:51.416113Z"
    },
    "papermill": {
     "duration": 0.053145,
     "end_time": "2024-04-21T12:48:51.419503",
     "exception": false,
     "start_time": "2024-04-21T12:48:51.366358",
     "status": "completed"
    },
    "tags": []
   },
   "outputs": [],
   "source": [
    "X_train,X_test,Y_train,Y_test = train_test_split(X,Y,test_size=0.2)"
   ]
  },
  {
   "cell_type": "code",
   "execution_count": 96,
   "id": "663e4a4c",
   "metadata": {
    "execution": {
     "iopub.execute_input": "2024-04-21T12:48:51.507621Z",
     "iopub.status.busy": "2024-04-21T12:48:51.506234Z",
     "iopub.status.idle": "2024-04-21T12:48:51.513149Z",
     "shell.execute_reply": "2024-04-21T12:48:51.512061Z"
    },
    "papermill": {
     "duration": 0.05276,
     "end_time": "2024-04-21T12:48:51.515580",
     "exception": false,
     "start_time": "2024-04-21T12:48:51.462820",
     "status": "completed"
    },
    "tags": []
   },
   "outputs": [
    {
     "data": {
      "text/plain": [
       "(334, 12)"
      ]
     },
     "execution_count": 96,
     "metadata": {},
     "output_type": "execute_result"
    }
   ],
   "source": [
    "X_train.shape"
   ]
  },
  {
   "cell_type": "code",
   "execution_count": 97,
   "id": "76289d99",
   "metadata": {
    "execution": {
     "iopub.execute_input": "2024-04-21T12:48:51.601728Z",
     "iopub.status.busy": "2024-04-21T12:48:51.601116Z",
     "iopub.status.idle": "2024-04-21T12:48:51.606890Z",
     "shell.execute_reply": "2024-04-21T12:48:51.605721Z"
    },
    "papermill": {
     "duration": 0.052087,
     "end_time": "2024-04-21T12:48:51.609243",
     "exception": false,
     "start_time": "2024-04-21T12:48:51.557156",
     "status": "completed"
    },
    "tags": []
   },
   "outputs": [
    {
     "data": {
      "text/plain": [
       "(84, 12)"
      ]
     },
     "execution_count": 97,
     "metadata": {},
     "output_type": "execute_result"
    }
   ],
   "source": [
    "X_test.shape"
   ]
  },
  {
   "cell_type": "code",
   "execution_count": 98,
   "id": "40308890",
   "metadata": {
    "execution": {
     "iopub.execute_input": "2024-04-21T12:48:51.697090Z",
     "iopub.status.busy": "2024-04-21T12:48:51.696075Z",
     "iopub.status.idle": "2024-04-21T12:48:51.701447Z",
     "shell.execute_reply": "2024-04-21T12:48:51.700533Z"
    },
    "papermill": {
     "duration": 0.052345,
     "end_time": "2024-04-21T12:48:51.703919",
     "exception": false,
     "start_time": "2024-04-21T12:48:51.651574",
     "status": "completed"
    },
    "tags": []
   },
   "outputs": [],
   "source": [
    "from xgboost import XGBClassifier "
   ]
  },
  {
   "cell_type": "code",
   "execution_count": 99,
   "id": "684aa5e1",
   "metadata": {
    "execution": {
     "iopub.execute_input": "2024-04-21T12:48:51.792185Z",
     "iopub.status.busy": "2024-04-21T12:48:51.791382Z",
     "iopub.status.idle": "2024-04-21T12:48:51.815947Z",
     "shell.execute_reply": "2024-04-21T12:48:51.814795Z"
    },
    "papermill": {
     "duration": 0.071262,
     "end_time": "2024-04-21T12:48:51.818325",
     "exception": false,
     "start_time": "2024-04-21T12:48:51.747063",
     "status": "completed"
    },
    "tags": []
   },
   "outputs": [
    {
     "data": {
      "text/html": [
       "<style>#sk-container-id-3 {color: black;background-color: white;}#sk-container-id-3 pre{padding: 0;}#sk-container-id-3 div.sk-toggleable {background-color: white;}#sk-container-id-3 label.sk-toggleable__label {cursor: pointer;display: block;width: 100%;margin-bottom: 0;padding: 0.3em;box-sizing: border-box;text-align: center;}#sk-container-id-3 label.sk-toggleable__label-arrow:before {content: \"▸\";float: left;margin-right: 0.25em;color: #696969;}#sk-container-id-3 label.sk-toggleable__label-arrow:hover:before {color: black;}#sk-container-id-3 div.sk-estimator:hover label.sk-toggleable__label-arrow:before {color: black;}#sk-container-id-3 div.sk-toggleable__content {max-height: 0;max-width: 0;overflow: hidden;text-align: left;background-color: #f0f8ff;}#sk-container-id-3 div.sk-toggleable__content pre {margin: 0.2em;color: black;border-radius: 0.25em;background-color: #f0f8ff;}#sk-container-id-3 input.sk-toggleable__control:checked~div.sk-toggleable__content {max-height: 200px;max-width: 100%;overflow: auto;}#sk-container-id-3 input.sk-toggleable__control:checked~label.sk-toggleable__label-arrow:before {content: \"▾\";}#sk-container-id-3 div.sk-estimator input.sk-toggleable__control:checked~label.sk-toggleable__label {background-color: #d4ebff;}#sk-container-id-3 div.sk-label input.sk-toggleable__control:checked~label.sk-toggleable__label {background-color: #d4ebff;}#sk-container-id-3 input.sk-hidden--visually {border: 0;clip: rect(1px 1px 1px 1px);clip: rect(1px, 1px, 1px, 1px);height: 1px;margin: -1px;overflow: hidden;padding: 0;position: absolute;width: 1px;}#sk-container-id-3 div.sk-estimator {font-family: monospace;background-color: #f0f8ff;border: 1px dotted black;border-radius: 0.25em;box-sizing: border-box;margin-bottom: 0.5em;}#sk-container-id-3 div.sk-estimator:hover {background-color: #d4ebff;}#sk-container-id-3 div.sk-parallel-item::after {content: \"\";width: 100%;border-bottom: 1px solid gray;flex-grow: 1;}#sk-container-id-3 div.sk-label:hover label.sk-toggleable__label {background-color: #d4ebff;}#sk-container-id-3 div.sk-serial::before {content: \"\";position: absolute;border-left: 1px solid gray;box-sizing: border-box;top: 0;bottom: 0;left: 50%;z-index: 0;}#sk-container-id-3 div.sk-serial {display: flex;flex-direction: column;align-items: center;background-color: white;padding-right: 0.2em;padding-left: 0.2em;position: relative;}#sk-container-id-3 div.sk-item {position: relative;z-index: 1;}#sk-container-id-3 div.sk-parallel {display: flex;align-items: stretch;justify-content: center;background-color: white;position: relative;}#sk-container-id-3 div.sk-item::before, #sk-container-id-3 div.sk-parallel-item::before {content: \"\";position: absolute;border-left: 1px solid gray;box-sizing: border-box;top: 0;bottom: 0;left: 50%;z-index: -1;}#sk-container-id-3 div.sk-parallel-item {display: flex;flex-direction: column;z-index: 1;position: relative;background-color: white;}#sk-container-id-3 div.sk-parallel-item:first-child::after {align-self: flex-end;width: 50%;}#sk-container-id-3 div.sk-parallel-item:last-child::after {align-self: flex-start;width: 50%;}#sk-container-id-3 div.sk-parallel-item:only-child::after {width: 0;}#sk-container-id-3 div.sk-dashed-wrapped {border: 1px dashed gray;margin: 0 0.4em 0.5em 0.4em;box-sizing: border-box;padding-bottom: 0.4em;background-color: white;}#sk-container-id-3 div.sk-label label {font-family: monospace;font-weight: bold;display: inline-block;line-height: 1.2em;}#sk-container-id-3 div.sk-label-container {text-align: center;}#sk-container-id-3 div.sk-container {/* jupyter's `normalize.less` sets `[hidden] { display: none; }` but bootstrap.min.css set `[hidden] { display: none !important; }` so we also need the `!important` here to be able to override the default hidden behavior on the sphinx rendered scikit-learn.org. See: https://github.com/scikit-learn/scikit-learn/issues/21755 */display: inline-block !important;position: relative;}#sk-container-id-3 div.sk-text-repr-fallback {display: none;}</style><div id=\"sk-container-id-3\" class=\"sk-top-container\"><div class=\"sk-text-repr-fallback\"><pre>XGBClassifier(base_score=None, booster=None, callbacks=None,\n",
       "              colsample_bylevel=None, colsample_bynode=None,\n",
       "              colsample_bytree=None, device=None, early_stopping_rounds=None,\n",
       "              enable_categorical=False, eval_metric=None, feature_types=None,\n",
       "              gamma=None, grow_policy=None, importance_type=None,\n",
       "              interaction_constraints=None, learning_rate=0.1, max_bin=None,\n",
       "              max_cat_threshold=None, max_cat_to_onehot=None,\n",
       "              max_delta_step=None, max_depth=3, max_leaves=None,\n",
       "              min_child_weight=None, missing=nan, monotone_constraints=None,\n",
       "              multi_strategy=None, n_estimators=10, n_jobs=None,\n",
       "              num_parallel_tree=None, random_state=None, ...)</pre><b>In a Jupyter environment, please rerun this cell to show the HTML representation or trust the notebook. <br />On GitHub, the HTML representation is unable to render, please try loading this page with nbviewer.org.</b></div><div class=\"sk-container\" hidden><div class=\"sk-item\"><div class=\"sk-estimator sk-toggleable\"><input class=\"sk-toggleable__control sk-hidden--visually\" id=\"sk-estimator-id-3\" type=\"checkbox\" checked><label for=\"sk-estimator-id-3\" class=\"sk-toggleable__label sk-toggleable__label-arrow\">XGBClassifier</label><div class=\"sk-toggleable__content\"><pre>XGBClassifier(base_score=None, booster=None, callbacks=None,\n",
       "              colsample_bylevel=None, colsample_bynode=None,\n",
       "              colsample_bytree=None, device=None, early_stopping_rounds=None,\n",
       "              enable_categorical=False, eval_metric=None, feature_types=None,\n",
       "              gamma=None, grow_policy=None, importance_type=None,\n",
       "              interaction_constraints=None, learning_rate=0.1, max_bin=None,\n",
       "              max_cat_threshold=None, max_cat_to_onehot=None,\n",
       "              max_delta_step=None, max_depth=3, max_leaves=None,\n",
       "              min_child_weight=None, missing=nan, monotone_constraints=None,\n",
       "              multi_strategy=None, n_estimators=10, n_jobs=None,\n",
       "              num_parallel_tree=None, random_state=None, ...)</pre></div></div></div></div></div>"
      ],
      "text/plain": [
       "XGBClassifier(base_score=None, booster=None, callbacks=None,\n",
       "              colsample_bylevel=None, colsample_bynode=None,\n",
       "              colsample_bytree=None, device=None, early_stopping_rounds=None,\n",
       "              enable_categorical=False, eval_metric=None, feature_types=None,\n",
       "              gamma=None, grow_policy=None, importance_type=None,\n",
       "              interaction_constraints=None, learning_rate=0.1, max_bin=None,\n",
       "              max_cat_threshold=None, max_cat_to_onehot=None,\n",
       "              max_delta_step=None, max_depth=3, max_leaves=None,\n",
       "              min_child_weight=None, missing=nan, monotone_constraints=None,\n",
       "              multi_strategy=None, n_estimators=10, n_jobs=None,\n",
       "              num_parallel_tree=None, random_state=None, ...)"
      ]
     },
     "execution_count": 99,
     "metadata": {},
     "output_type": "execute_result"
    }
   ],
   "source": [
    "#Load XG-Boost algorithm\n",
    "xgb_classifier_titanic = XGBClassifier(objective='binary:logistic',n_estimators=10,max_depth=3,learning_rate=0.1)\n",
    "xgb_classifier_titanic.fit(X_train,Y_train)"
   ]
  },
  {
   "cell_type": "code",
   "execution_count": 100,
   "id": "f415b456",
   "metadata": {
    "execution": {
     "iopub.execute_input": "2024-04-21T12:48:51.905275Z",
     "iopub.status.busy": "2024-04-21T12:48:51.904517Z",
     "iopub.status.idle": "2024-04-21T12:48:51.919993Z",
     "shell.execute_reply": "2024-04-21T12:48:51.918788Z"
    },
    "papermill": {
     "duration": 0.062451,
     "end_time": "2024-04-21T12:48:51.922208",
     "exception": false,
     "start_time": "2024-04-21T12:48:51.859757",
     "status": "completed"
    },
    "tags": []
   },
   "outputs": [
    {
     "name": "stdout",
     "output_type": "stream",
     "text": [
      "Accuracy of model is: 1.0\n"
     ]
    }
   ],
   "source": [
    "result_titanic = xgb_classifier_titanic.score(X_test,Y_test)\n",
    "print('Accuracy of model is: {}'.format(result_titanic))"
   ]
  },
  {
   "cell_type": "code",
   "execution_count": 101,
   "id": "20361f3c",
   "metadata": {
    "execution": {
     "iopub.execute_input": "2024-04-21T12:48:52.007383Z",
     "iopub.status.busy": "2024-04-21T12:48:52.006766Z",
     "iopub.status.idle": "2024-04-21T12:48:52.022135Z",
     "shell.execute_reply": "2024-04-21T12:48:52.021065Z"
    },
    "papermill": {
     "duration": 0.060595,
     "end_time": "2024-04-21T12:48:52.024313",
     "exception": false,
     "start_time": "2024-04-21T12:48:51.963718",
     "status": "completed"
    },
    "tags": []
   },
   "outputs": [
    {
     "data": {
      "text/plain": [
       "array([0, 1, 0, 0, 0, 1, 1, 0, 0, 0, 1, 0, 1, 1, 1, 0, 1, 0, 1, 0, 1, 1,\n",
       "       0, 1, 0, 1, 1, 0, 0, 0, 0, 1, 1, 1, 0, 0, 0, 0, 1, 0, 0, 1, 1, 0,\n",
       "       0, 0, 0, 0, 0, 1, 0, 0, 1, 1, 1, 0, 0, 1, 0, 1, 0, 0, 0, 1, 0, 0,\n",
       "       1, 1, 1, 1, 0, 0, 1, 1, 1, 1, 1, 1, 0, 0, 1, 0, 0, 0])"
      ]
     },
     "execution_count": 101,
     "metadata": {},
     "output_type": "execute_result"
    }
   ],
   "source": [
    "y_predict_titanic = xgb_classifier_titanic.predict(X_test) \n",
    "y_predict_titanic"
   ]
  },
  {
   "cell_type": "code",
   "execution_count": 102,
   "id": "a16a8c8c",
   "metadata": {
    "execution": {
     "iopub.execute_input": "2024-04-21T12:48:52.110130Z",
     "iopub.status.busy": "2024-04-21T12:48:52.109485Z",
     "iopub.status.idle": "2024-04-21T12:48:52.122795Z",
     "shell.execute_reply": "2024-04-21T12:48:52.121501Z"
    },
    "papermill": {
     "duration": 0.059419,
     "end_time": "2024-04-21T12:48:52.125254",
     "exception": false,
     "start_time": "2024-04-21T12:48:52.065835",
     "status": "completed"
    },
    "tags": []
   },
   "outputs": [
    {
     "name": "stdout",
     "output_type": "stream",
     "text": [
      "              precision    recall  f1-score   support\n",
      "\n",
      "           0       1.00      1.00      1.00        46\n",
      "           1       1.00      1.00      1.00        38\n",
      "\n",
      "    accuracy                           1.00        84\n",
      "   macro avg       1.00      1.00      1.00        84\n",
      "weighted avg       1.00      1.00      1.00        84\n",
      "\n"
     ]
    }
   ],
   "source": [
    "from sklearn.metrics import classification_report\n",
    "print(classification_report(Y_test,y_predict_titanic))"
   ]
  },
  {
   "cell_type": "code",
   "execution_count": 103,
   "id": "70b3c9f6",
   "metadata": {
    "execution": {
     "iopub.execute_input": "2024-04-21T12:48:52.212929Z",
     "iopub.status.busy": "2024-04-21T12:48:52.212496Z",
     "iopub.status.idle": "2024-04-21T12:48:52.485055Z",
     "shell.execute_reply": "2024-04-21T12:48:52.483739Z"
    },
    "papermill": {
     "duration": 0.319929,
     "end_time": "2024-04-21T12:48:52.487519",
     "exception": false,
     "start_time": "2024-04-21T12:48:52.167590",
     "status": "completed"
    },
    "tags": []
   },
   "outputs": [
    {
     "data": {
      "text/plain": [
       "<Axes: >"
      ]
     },
     "execution_count": 103,
     "metadata": {},
     "output_type": "execute_result"
    },
    {
     "data": {
      "image/png": "[encoded data removed]",
      "text/plain": [
       "<Figure size 1000x600 with 2 Axes>"
      ]
     },
     "metadata": {},
     "output_type": "display_data"
    }
   ],
   "source": [
    "from sklearn.metrics import confusion_matrix\n",
    "cm = confusion_matrix(Y_test,y_predict_titanic)\n",
    "plt.figure(figsize=(10,6))\n",
    "sns.heatmap(cm,fmt='d',annot=True)"
   ]
  },
  {
   "cell_type": "code",
   "execution_count": 104,
   "id": "53aa7450",
   "metadata": {
    "execution": {
     "iopub.execute_input": "2024-04-21T12:48:52.574860Z",
     "iopub.status.busy": "2024-04-21T12:48:52.574195Z",
     "iopub.status.idle": "2024-04-21T12:48:52.586608Z",
     "shell.execute_reply": "2024-04-21T12:48:52.585305Z"
    },
    "papermill": {
     "duration": 0.058621,
     "end_time": "2024-04-21T12:48:52.589069",
     "exception": false,
     "start_time": "2024-04-21T12:48:52.530448",
     "status": "completed"
    },
    "tags": []
   },
   "outputs": [
    {
     "name": "stdout",
     "output_type": "stream",
     "text": [
      "   PassengerId  Pclass  Age  SibSp  Parch        Fare  Embarked_C  Embarked_Q  \\\n",
      "0          862       4   55      0      0  281.770095           0           0   \n",
      "\n",
      "   Embarked_S  Sex_female  Sex_male  Cabin_ind  \n",
      "0           1           1         0          1  \n"
     ]
    }
   ],
   "source": [
    "labels = ['PassengerId', 'Pclass', 'Age', 'SibSp', 'Parch', 'Fare', 'Embarked_C', 'Embarked_Q', 'Embarked_S', 'Sex_female', 'Sex_male', 'Cabin_ind']\n",
    "\n",
    "random_values = [np.random.randint(1, 1000),  # PassengerId\n",
    "                 4,       # Pclass\n",
    "                 np.random.randint(1, 80),      # Age\n",
    "                 np.random.randint(0, 5),       # SibSp\n",
    "                 np.random.randint(0, 5),       # Parch\n",
    "                 np.random.uniform(0, 500),     # Fare\n",
    "                 0,       # Embarked_C\n",
    "                 0,       # Embarked_Q\n",
    "                 1,       # Embarked_S\n",
    "                 1,       # Sex_female\n",
    "                 0,       # Sex_male\n",
    "                 np.random.randint(0, 2)]       # Cabin_ind\n",
    "\n",
    "# Create a DataFrame with the random sample\n",
    "random_sample = pd.DataFrame([random_values], columns=labels)\n",
    "\n",
    "print(random_sample)"
   ]
  },
  {
   "cell_type": "code",
   "execution_count": 105,
   "id": "f725e502",
   "metadata": {
    "execution": {
     "iopub.execute_input": "2024-04-21T12:48:52.676869Z",
     "iopub.status.busy": "2024-04-21T12:48:52.676283Z",
     "iopub.status.idle": "2024-04-21T12:48:52.694878Z",
     "shell.execute_reply": "2024-04-21T12:48:52.693599Z"
    },
    "papermill": {
     "duration": 0.065989,
     "end_time": "2024-04-21T12:48:52.697221",
     "exception": false,
     "start_time": "2024-04-21T12:48:52.631232",
     "status": "completed"
    },
    "tags": []
   },
   "outputs": [
    {
     "name": "stdout",
     "output_type": "stream",
     "text": [
      "Prediction: [1]\n"
     ]
    }
   ],
   "source": [
    "prediction = xgb_classifier_titanic.predict(random_sample)\n",
    "\n",
    "print(\"Prediction:\", prediction)"
   ]
  },
  {
   "cell_type": "markdown",
   "id": "38e0048e",
   "metadata": {
    "papermill": {
     "duration": 0.043074,
     "end_time": "2024-04-21T12:48:52.782429",
     "exception": false,
     "start_time": "2024-04-21T12:48:52.739355",
     "status": "completed"
    },
    "tags": []
   },
   "source": [
    "# Creating a model for checking diabetes disease"
   ]
  },
  {
   "cell_type": "code",
   "execution_count": null,
   "id": "eb663af6",
   "metadata": {
    "papermill": {
     "duration": 0.041682,
     "end_time": "2024-04-21T12:48:52.866355",
     "exception": false,
     "start_time": "2024-04-21T12:48:52.824673",
     "status": "completed"
    },
    "tags": []
   },
   "outputs": [],
   "source": []
  }
 ],
 "metadata": {
  "kaggle": {
   "accelerator": "none",
   "dataSources": [
    {
     "datasetId": 4829546,
     "sourceId": 8162641,
     "sourceType": "datasetVersion"
    },
    {
     "datasetId": 4831170,
     "sourceId": 8164761,
     "sourceType": "datasetVersion"
    },
    {
     "datasetId": 4840082,
     "sourceId": 8176585,
     "sourceType": "datasetVersion"
    }
   ],
   "dockerImageVersionId": 30698,
   "isGpuEnabled": false,
   "isInternetEnabled": true,
   "language": "python",
   "sourceType": "notebook"
  },
  "kernelspec": {
   "display_name": "Python 3",
   "language": "python",
   "name": "python3"
  },
  "language_info": {
   "codemirror_mode": {
    "name": "ipython",
    "version": 3
   },
   "file_extension": ".py",
   "mimetype": "text/x-python",
   "name": "python",
   "nbconvert_exporter": "python",
   "pygments_lexer": "ipython3",
   "version": "3.10.13"
  },
  "papermill": {
   "default_parameters": {},
   "duration": 22.892737,
   "end_time": "2024-04-21T12:48:53.630292",
   "environment_variables": {},
   "exception": null,
   "input_path": "__notebook__.ipynb",
   "output_path": "__notebook__.ipynb",
   "parameters": {},
   "start_time": "2024-04-21T12:48:30.737555",
   "version": "2.5.0"
  }
 },
 "nbformat": 4,
 "nbformat_minor": 5
}
